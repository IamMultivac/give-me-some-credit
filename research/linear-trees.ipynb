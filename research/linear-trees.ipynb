{
 "cells": [
  {
   "cell_type": "markdown",
   "id": "7721a126-f50c-4639-aa4a-a02cb4e2042b",
   "metadata": {},
   "source": [
    "# Linear trees\n",
    "\n",
    "## Rationale:\n",
    "We need to experiment if more complex approaches on the model design can help to improve the model performance.\n",
    "## Methodology:\n",
    "We are to test the linear trees paramter o the ```LightGBM``` API:\n",
    "\n",
    "1. We are to train a model using linear trees\n",
    "2. Train a base model\n",
    "3. Compare the results on the validation set\n",
    "\n",
    "## Conclusions:\n",
    "The results showed that the linear trees did not offer a gain in performance. I showed a decrasing of ```~16PP``` This may be due to adding more complexity to the model affects specially because we would need to take care of the linear model's hyperparamters.\n",
    "\n",
    "| Model             | out_of_fold | validation |\n",
    "|-------------------|------------|------------|\n",
    "| boruta vanilla    | 0.862986   | 0.865603   |\n",
    "| fw linear trees   | 0.708666   | 0.669988   |\n"
   ]
  },
  {
   "cell_type": "code",
   "execution_count": 1,
   "id": "8a768e0a-50e0-4452-90f3-534b1b05ce31",
   "metadata": {},
   "outputs": [],
   "source": [
    "%load_ext autoreload\n",
    "%autoreload 2\n",
    "\n",
    "import numpy as np\n",
    "import pandas as pd\n",
    "\n",
    "from lightgbm import LGBMClassifier as lgbm\n",
    "from sklearn.inspection import permutation_importance\n",
    "from sklearn.model_selection import train_test_split\n",
    "from copy import deepcopy\n",
    "\n",
    "import warnings;warnings.filterwarnings(\"ignore\")\n",
    "\n",
    "import sys\n",
    "sys.path.append(\"../\")\n",
    "\n",
    "# local imports\n",
    "from src.learner_params import target_column, boruta_learner_params, test_params\n",
    "from utils.functions__utils import find_constraint\n",
    "\n",
    "from utils.feature_selection_lists import fw_features, boruta_features, optuna_features, ensemble_features\n",
    "\n",
    "from utils.functions__training import model_pipeline"
   ]
  },
  {
   "cell_type": "code",
   "execution_count": 2,
   "id": "9e4dae8f-43ba-4d6c-82c3-6f66961c81c6",
   "metadata": {},
   "outputs": [],
   "source": [
    "train_df = pd.read_pickle(\"../data/train_df.pkl\")\n",
    "validation_df = pd.read_pickle(\"../data/validation_df.pkl\")"
   ]
  },
  {
   "cell_type": "code",
   "execution_count": 3,
   "id": "4472139a-740e-48ad-bac1-c150a6174081",
   "metadata": {},
   "outputs": [],
   "source": [
    "lt_params = deepcopy(test_params)\n",
    "lt_params[\"learner_params\"][\"extra_params\"][\"linear_trees\"] = True"
   ]
  },
  {
   "cell_type": "code",
   "execution_count": 4,
   "id": "45ca11e2-d95c-4400-8d69-9294c81553e4",
   "metadata": {},
   "outputs": [
    {
     "name": "stderr",
     "output_type": "stream",
     "text": [
      "2023-10-08T15:18:05 | INFO | Starting pipeline: Generating 3 k-fold training...\n",
      "2023-10-08T15:18:05 | INFO | Training for fold 1\n",
      "2023-10-08T15:18:23 | INFO | Training for fold 2\n",
      "2023-10-08T15:18:40 | INFO | Training for fold 3\n",
      "2023-10-08T15:18:57 | INFO | CV training finished!\n",
      "2023-10-08T15:18:57 | INFO | Training the model in the full dataset...\n",
      "2023-10-08T15:19:17 | INFO | Training process finished!\n",
      "2023-10-08T15:19:17 | INFO | Calculating metrics...\n",
      "2023-10-08T15:19:17 | INFO | Full process finished in 1.19 minutes.\n",
      "2023-10-08T15:19:17 | INFO | Saving the predict function.\n",
      "2023-10-08T15:19:17 | INFO | Predict function saved.\n"
     ]
    }
   ],
   "source": [
    "base_logs = model_pipeline(train_df = train_df,\n",
    "                            validation_df = validation_df,\n",
    "                            params = test_params,\n",
    "                            target_column = target_column,\n",
    "                            features = boruta_features,\n",
    "                            cv = 3,\n",
    "                            random_state = 42,\n",
    "                            apply_shap = False\n",
    "                          )"
   ]
  },
  {
   "cell_type": "code",
   "execution_count": 5,
   "id": "fb486243-d897-4e96-995b-02c225a73662",
   "metadata": {},
   "outputs": [
    {
     "name": "stderr",
     "output_type": "stream",
     "text": [
      "2023-10-08T15:19:17 | INFO | linear trees will be applied so training time may increase significantly.\n",
      "2023-10-08T15:19:17 | INFO | Starting pipeline: Generating 3 k-fold training...\n",
      "2023-10-08T15:19:17 | INFO | Training for fold 1\n",
      "2023-10-08T15:19:33 | INFO | Training for fold 2\n",
      "2023-10-08T15:19:52 | INFO | Training for fold 3\n",
      "2023-10-08T15:20:11 | INFO | CV training finished!\n",
      "2023-10-08T15:20:11 | INFO | Training the model in the full dataset...\n",
      "2023-10-08T15:20:34 | INFO | Training process finished!\n",
      "2023-10-08T15:20:34 | INFO | Calculating metrics...\n",
      "2023-10-08T15:20:34 | INFO | Full process finished in 1.29 minutes.\n",
      "2023-10-08T15:20:34 | INFO | Saving the predict function.\n",
      "2023-10-08T15:20:34 | INFO | Predict function saved.\n"
     ]
    }
   ],
   "source": [
    "challenger_logs = model_pipeline(train_df = train_df,\n",
    "                            validation_df = validation_df,\n",
    "                            params = lt_params,\n",
    "                            target_column = target_column,\n",
    "                            features = boruta_features,\n",
    "                            cv = 3,\n",
    "                            random_state = 42,\n",
    "                            apply_shap = False\n",
    "                          )"
   ]
  },
  {
   "cell_type": "code",
   "execution_count": 6,
   "id": "7682ed53-6cec-494a-b157-dace21e2c0e8",
   "metadata": {},
   "outputs": [
    {
     "data": {
      "text/html": [
       "<div>\n",
       "<style scoped>\n",
       "    .dataframe tbody tr th:only-of-type {\n",
       "        vertical-align: middle;\n",
       "    }\n",
       "\n",
       "    .dataframe tbody tr th {\n",
       "        vertical-align: top;\n",
       "    }\n",
       "\n",
       "    .dataframe thead th {\n",
       "        text-align: right;\n",
       "    }\n",
       "</style>\n",
       "<table border=\"1\" class=\"dataframe\">\n",
       "  <thead>\n",
       "    <tr style=\"text-align: right;\">\n",
       "      <th></th>\n",
       "      <th>out_of_fold</th>\n",
       "      <th>validation</th>\n",
       "    </tr>\n",
       "  </thead>\n",
       "  <tbody>\n",
       "    <tr>\n",
       "      <th>boruta vanilla</th>\n",
       "      <td>0.862986</td>\n",
       "      <td>0.865603</td>\n",
       "    </tr>\n",
       "    <tr>\n",
       "      <th>fw linear trees</th>\n",
       "      <td>0.708666</td>\n",
       "      <td>0.669988</td>\n",
       "    </tr>\n",
       "  </tbody>\n",
       "</table>\n",
       "</div>"
      ],
      "text/plain": [
       "                 out_of_fold  validation\n",
       "boruta vanilla      0.862986    0.865603\n",
       "fw linear trees     0.708666    0.669988"
      ]
     },
     "execution_count": 6,
     "metadata": {},
     "output_type": "execute_result"
    }
   ],
   "source": [
    "model_metrics  ={}\n",
    "models = [base_logs, challenger_logs]\n",
    "names = [\"boruta vanilla\", \"fw linear trees\"]\n",
    "\n",
    "for model, name in zip(models, names):\n",
    "    model_metrics[f\"{name}\"] = model[\"metrics\"][\"roc_auc\"]\n",
    "pd.DataFrame(model_metrics).T.sort_values(by = \"validation\", ascending = False)"
   ]
  },
  {
   "cell_type": "code",
   "execution_count": null,
   "id": "7fa3bfee-cae4-4650-8d47-9d8f0d05c1fe",
   "metadata": {},
   "outputs": [],
   "source": []
  }
 ],
 "metadata": {
  "kernelspec": {
   "display_name": "Python 3 (ipykernel)",
   "language": "python",
   "name": "python3"
  },
  "language_info": {
   "codemirror_mode": {
    "name": "ipython",
    "version": 3
   },
   "file_extension": ".py",
   "mimetype": "text/x-python",
   "name": "python",
   "nbconvert_exporter": "python",
   "pygments_lexer": "ipython3",
   "version": "3.9.16"
  }
 },
 "nbformat": 4,
 "nbformat_minor": 5
}
