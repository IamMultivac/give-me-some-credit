{
 "cells": [
  {
   "cell_type": "markdown",
   "id": "e6b2ced2-45c9-4bd2-8b76-ee63a050ee4e",
   "metadata": {},
   "source": [
    "# Monotone constraints\n",
    "\n",
    "## Rationale:\n",
    "\n",
    "The first tools used to make decision about credit scoring were based on expert rules, those rules were basically knowledge of professionals with wide experience in business. In order to use this prior knowledge we can adjust the model's learning process to take into account the relationships between features and taget. This is an special characteristic of boosting models that we are to test to see if we can improve model performance.\n",
    "\n",
    "## Methodology:\n",
    "We are to define the monotone constraints for each feature i.e the direction of the relationship between feature and target in the following way:\n",
    "\n",
    "1. We are to train a linear regression model to explain target average (average risk) for every model decile.\n",
    "2. We are then to keep the trend coeficient of the model to define the constraint.\n",
    "3. The constrains may be the sign of the coreficient: ```(+ , -, 0)```\n",
    "4. Finally, we are to test the model performance of both models, the one with and without constraints.\n",
    "\n",
    "## Conclusions:\n",
    "\n",
    "**Conclusions from Model Performance Table:**\n",
    "\n",
    "1. **Boruta Variants**: The table presents the performance of two variants of the Boruta model: 'boruta vanilla' and 'boruta monotone.'\n",
    "\n",
    "2. **ROC AUC Scores**: Both variants show competitive ROC AUC scores, with 'boruta vanilla' having a slightly higher out-of-fold score (0.792510) compared to 'boruta monotone' (0.791011).\n",
    "\n",
    "3. **Validation Dataset**: The models' performance on the validation dataset ('roc_auc_val') is consistent with the out-of-fold performance, indicating that the models generalize well.\n",
    "\n",
    "4. **Model Selection**: Choosing between these two Boruta variants may depend on other factors such as model complexity, interpretability, or specific task requirements.\n",
    "\n",
    "5. **Further Exploration**: To make a more informed decision, it might be valuable to explore other evaluation metrics, conduct feature importance analysis, and consider the context of the problem.\n",
    "\n",
    "In summary we were able to improve the model performance using the monotone constrains. This method helped to the generalization power of the model.\n",
    "\n",
    "\n",
    "| Model             | out_of_fold | validation |\n",
    "|-------------------|------------|------------|\n",
    "| boruta monotone   | 0.863007   | 0.865990   |\n",
    "| boruta vanilla    | 0.861483   | 0.865860   |\n",
    "\n",
    "\n"
   ]
  },
  {
   "cell_type": "code",
   "execution_count": 1,
   "id": "bc520cbf-149b-4df6-a3f7-fb647718f3a8",
   "metadata": {},
   "outputs": [],
   "source": [
    "%load_ext autoreload\n",
    "%autoreload 2\n",
    "\n",
    "import numpy as np\n",
    "import pandas as pd\n",
    "\n",
    "from lightgbm import LGBMClassifier as lgbm\n",
    "from sklearn.inspection import permutation_importance\n",
    "from sklearn.model_selection import train_test_split\n",
    "from copy import deepcopy\n",
    "\n",
    "import warnings;warnings.filterwarnings(\"ignore\")\n",
    "\n",
    "import sys\n",
    "sys.path.append(\"../\")\n",
    "\n",
    "# local imports\n",
    "from src.learner_params import target_column, boruta_learner_params, test_params\n",
    "from utils.functions__utils import find_constraint\n",
    "\n",
    "from utils.feature_selection_lists import  boruta_features\n",
    "\n",
    "from utils.functions__training import model_pipeline"
   ]
  },
  {
   "cell_type": "code",
   "execution_count": 2,
   "id": "9e4dae8f-43ba-4d6c-82c3-6f66961c81c6",
   "metadata": {},
   "outputs": [],
   "source": [
    "train_df = pd.read_pickle(\"../data/train_df.pkl\")\n",
    "validation_df = pd.read_pickle(\"../data/validation_df.pkl\")"
   ]
  },
  {
   "cell_type": "code",
   "execution_count": 3,
   "id": "2fec46ce-1542-49c8-86ec-cbe29019e5c1",
   "metadata": {},
   "outputs": [],
   "source": [
    "monotone_const_dict = {}\n",
    "for feature in boruta_features:\n",
    "    aux = find_constraint(train_df, feature, target_column)\n",
    "    monotone_const_dict[feature] = aux"
   ]
  },
  {
   "cell_type": "code",
   "execution_count": 4,
   "id": "4472139a-740e-48ad-bac1-c150a6174081",
   "metadata": {},
   "outputs": [],
   "source": [
    "mc_params = deepcopy(test_params)\n",
    "mc_params[\"learner_params\"][\"extra_params\"][\"monotone_constraints\"] = list(monotone_const_dict.values())"
   ]
  },
  {
   "cell_type": "code",
   "execution_count": 5,
   "id": "45ca11e2-d95c-4400-8d69-9294c81553e4",
   "metadata": {},
   "outputs": [
    {
     "name": "stderr",
     "output_type": "stream",
     "text": [
      "2023-10-09T21:26:23 | INFO | Starting pipeline: Generating 3 k-fold training...\n",
      "2023-10-09T21:26:23 | INFO | Training for fold 1\n",
      "2023-10-09T21:26:43 | INFO | Training for fold 2\n",
      "2023-10-09T21:27:03 | INFO | Training for fold 3\n",
      "2023-10-09T21:27:22 | INFO | CV training finished!\n",
      "2023-10-09T21:27:22 | INFO | Training the model in the full dataset...\n",
      "2023-10-09T21:27:45 | INFO | Training process finished!\n",
      "2023-10-09T21:27:45 | INFO | Calculating metrics...\n",
      "2023-10-09T21:27:45 | INFO | Full process finished in 1.36 minutes.\n",
      "2023-10-09T21:27:45 | INFO | Saving the predict function.\n",
      "2023-10-09T21:27:45 | INFO | Predict function saved.\n"
     ]
    }
   ],
   "source": [
    "base_logs = model_pipeline(train_df = train_df,\n",
    "                            validation_df = validation_df,\n",
    "                            params = test_params,\n",
    "                            target_column = target_column,\n",
    "                            features = boruta_features,\n",
    "                            cv = 3,\n",
    "                            random_state = 42,\n",
    "                            apply_shap = False\n",
    "                          )"
   ]
  },
  {
   "cell_type": "code",
   "execution_count": 6,
   "id": "fb486243-d897-4e96-995b-02c225a73662",
   "metadata": {},
   "outputs": [
    {
     "name": "stderr",
     "output_type": "stream",
     "text": [
      "2023-10-09T21:27:45 | INFO | Starting pipeline: Generating 3 k-fold training...\n",
      "2023-10-09T21:27:45 | INFO | Training for fold 1\n",
      "2023-10-09T21:27:58 | INFO | Training for fold 2\n",
      "2023-10-09T21:28:11 | INFO | Training for fold 3\n",
      "2023-10-09T21:28:24 | INFO | CV training finished!\n",
      "2023-10-09T21:28:24 | INFO | Training the model in the full dataset...\n",
      "2023-10-09T21:28:41 | INFO | Training process finished!\n",
      "2023-10-09T21:28:41 | INFO | Calculating metrics...\n",
      "2023-10-09T21:28:41 | INFO | Full process finished in 0.93 minutes.\n",
      "2023-10-09T21:28:41 | INFO | Saving the predict function.\n",
      "2023-10-09T21:28:41 | INFO | Predict function saved.\n"
     ]
    }
   ],
   "source": [
    "challenger_logs = model_pipeline(train_df = train_df,\n",
    "                            validation_df = validation_df,\n",
    "                            params = mc_params,\n",
    "                            target_column = target_column,\n",
    "                            features = boruta_features,\n",
    "                            cv = 3,\n",
    "                            random_state = 42,\n",
    "                            apply_shap = False\n",
    "                          )"
   ]
  },
  {
   "cell_type": "code",
   "execution_count": 7,
   "id": "7682ed53-6cec-494a-b157-dace21e2c0e8",
   "metadata": {},
   "outputs": [
    {
     "data": {
      "text/html": [
       "<div>\n",
       "<style scoped>\n",
       "    .dataframe tbody tr th:only-of-type {\n",
       "        vertical-align: middle;\n",
       "    }\n",
       "\n",
       "    .dataframe tbody tr th {\n",
       "        vertical-align: top;\n",
       "    }\n",
       "\n",
       "    .dataframe thead th {\n",
       "        text-align: right;\n",
       "    }\n",
       "</style>\n",
       "<table border=\"1\" class=\"dataframe\">\n",
       "  <thead>\n",
       "    <tr style=\"text-align: right;\">\n",
       "      <th></th>\n",
       "      <th>out_of_fold</th>\n",
       "      <th>validation</th>\n",
       "    </tr>\n",
       "  </thead>\n",
       "  <tbody>\n",
       "    <tr>\n",
       "      <th>boruta monotone</th>\n",
       "      <td>0.863007</td>\n",
       "      <td>0.86599</td>\n",
       "    </tr>\n",
       "    <tr>\n",
       "      <th>boruta vanilla</th>\n",
       "      <td>0.861483</td>\n",
       "      <td>0.86586</td>\n",
       "    </tr>\n",
       "  </tbody>\n",
       "</table>\n",
       "</div>"
      ],
      "text/plain": [
       "                 out_of_fold  validation\n",
       "boruta monotone     0.863007     0.86599\n",
       "boruta vanilla      0.861483     0.86586"
      ]
     },
     "execution_count": 7,
     "metadata": {},
     "output_type": "execute_result"
    }
   ],
   "source": [
    "model_metrics  ={}\n",
    "models = [base_logs, challenger_logs]\n",
    "names = [\"boruta vanilla\", \"boruta monotone\"]\n",
    "\n",
    "for model, name in zip(models, names):\n",
    "    model_metrics[f\"{name}\"] = model[\"metrics\"][\"roc_auc\"]\n",
    "pd.DataFrame(model_metrics).T.sort_values(by = \"validation\", ascending = False)"
   ]
  },
  {
   "cell_type": "code",
   "execution_count": 8,
   "id": "5dd37e56-5d68-4ff2-a0bc-3ae515d9d1a7",
   "metadata": {},
   "outputs": [
    {
     "data": {
      "text/plain": [
       "{'CategoryEncoded_MonthlyIncome_max_DebtRatio': 1.0,\n",
       " 'CategoryEncoded_MonthlyIncome_max_RevolvingUtilizationOfUnsecuredLines': -1.0,\n",
       " 'CategoryEncoded_age_max_DebtRatio': -1.0,\n",
       " 'CategoryEncoded_age_max_NumberOfOpenCreditLinesAndLoans': -1.0,\n",
       " 'CategoryEncoded_age_max_NumberRealEstateLoansOrLines': -1.0,\n",
       " 'CategoryEncoded_age_mean_NumberOfTime30-59DaysPastDueNotWorse': 1.0,\n",
       " 'CategoryEncoded_age_mean_RevolvingUtilizationOfUnsecuredLines': 1.0,\n",
       " 'CategoryEncoded_cluster_group_max_DebtRatio': -1.0,\n",
       " 'CategoryEncoded_cluster_group_max_NumberOfOpenCreditLinesAndLoans': -1.0,\n",
       " 'CategoryEncoded_cluster_group_max_NumberOfTime30-59DaysPastDueNotWorse': -1.0,\n",
       " 'CategoryEncoded_cluster_group_max_NumberOfTime60-89DaysPastDueNotWorse': -1.0,\n",
       " 'CategoryEncoded_cluster_group_max_NumberOfTimes90DaysLate': 1.0,\n",
       " 'CategoryEncoded_cluster_group_max_RevolvingUtilizationOfUnsecuredLines': -1.0,\n",
       " 'CategoryEncoded_cluster_group_mean_DebtRatio': -1.0,\n",
       " 'CategoryEncoded_cluster_group_mean_NumberOfTime30-59DaysPastDueNotWorse': 1.0,\n",
       " 'CategoryEncoded_cluster_group_mean_NumberOfTime60-89DaysPastDueNotWorse': 1.0,\n",
       " 'CategoryEncoded_cluster_group_std_NumberOfOpenCreditLinesAndLoans': -1.0,\n",
       " 'CategoryEncoded_cluster_group_std_NumberRealEstateLoansOrLines': -1.0,\n",
       " 'DebtRatio': 1.0,\n",
       " 'DebtRatio MonthlyIncome': 1.0,\n",
       " 'DebtRatio NumberOfDependents': 1.0,\n",
       " 'DebtRatio NumberOfOpenCreditLinesAndLoans': -1.0,\n",
       " 'DebtRatio NumberOfTime30-59DaysPastDueNotWorse': 1.0,\n",
       " 'DebtRatio NumberRealEstateLoansOrLines': 1.0,\n",
       " 'DebtRatio RevolvingUtilizationOfUnsecuredLines': 1.0,\n",
       " 'DebtRatio age': 1.0,\n",
       " 'DependentsPerAge': 1.0,\n",
       " 'IncomeOverDebtRatio': -1.0,\n",
       " 'IncomePerAge': -1.0,\n",
       " 'IncomePerCreditLineLoan': -1.0,\n",
       " 'IncomePerDependent': -1.0,\n",
       " 'IncomePerRealEstateLoan': -1.0,\n",
       " 'LogDifference30to5960to89': 1.0,\n",
       " 'MaxTotalTimesPastDue': 1.0,\n",
       " 'MeanTotalTimesPastDue': 1.0,\n",
       " 'MonthlyIncome': -1.0,\n",
       " 'MonthlyIncome NumberOfDependents': -1.0,\n",
       " 'MonthlyIncome NumberOfOpenCreditLinesAndLoans': -1.0,\n",
       " 'MonthlyIncome NumberOfTime30-59DaysPastDueNotWorse': 1.0,\n",
       " 'MonthlyIncome NumberRealEstateLoansOrLines': -1.0,\n",
       " 'MonthlyIncome RevolvingUtilizationOfUnsecuredLines': 1.0,\n",
       " 'MonthlyIncome age': -1.0,\n",
       " 'NumberOfDependents NumberOfOpenCreditLinesAndLoans': 1.0,\n",
       " 'NumberOfDependents RevolvingUtilizationOfUnsecuredLines': 1.0,\n",
       " 'NumberOfDependents age': 1.0,\n",
       " 'NumberOfOpenCreditLinesAndLoans': -1.0,\n",
       " 'NumberOfOpenCreditLinesAndLoans NumberRealEstateLoansOrLines': 1.0,\n",
       " 'NumberOfOpenCreditLinesAndLoans RevolvingUtilizationOfUnsecuredLines': 1.0,\n",
       " 'NumberOfOpenCreditLinesAndLoans age': -1.0,\n",
       " 'NumberOfTime30-59DaysPastDueNotWorse RevolvingUtilizationOfUnsecuredLines': 1.0,\n",
       " 'NumberOfTime30-59DaysPastDueNotWorse age': 1.0,\n",
       " 'NumberOfTimes90DaysLate': 0.0,\n",
       " 'NumberRealEstateLoansOrLines RevolvingUtilizationOfUnsecuredLines': 1.0,\n",
       " 'NumberRealEstateLoansOrLines age': -1.0,\n",
       " 'PercentageNumberTimes30to59PastDue': -1.0,\n",
       " 'PercentageNumberTimes60to89PastDue': 1.0,\n",
       " 'PercentageNumberTimes90plusPastDue': 1.0,\n",
       " 'RealEstateLoansPerCreditLineLoan': 1.0,\n",
       " 'RevolvingUtilizationOfUnsecuredLines': 1.0,\n",
       " 'RevolvingUtilizationOfUnsecuredLines age': 1.0,\n",
       " 'StdTotalTimesPastDue': 1.0,\n",
       " 'SumTotalTimesPastDuePerCreditLineLoan': -1.0,\n",
       " 'UtilizationOverDebtRatio': 1.0,\n",
       " 'age': -1.0,\n",
       " 'cluster_group': -1.0,\n",
       " 'prediction_AdaBoostClassifier': 1.0,\n",
       " 'prediction_MLPClassifier': 1.0,\n",
       " 'prediction_RandomForestClassifier': 1.0}"
      ]
     },
     "execution_count": 8,
     "metadata": {},
     "output_type": "execute_result"
    }
   ],
   "source": [
    "monotone_const_dict"
   ]
  },
  {
   "cell_type": "code",
   "execution_count": null,
   "id": "50328aa2-8bc8-4bbc-a82a-a68c9e7459bd",
   "metadata": {},
   "outputs": [],
   "source": []
  }
 ],
 "metadata": {
  "kernelspec": {
   "display_name": "Python 3 (ipykernel)",
   "language": "python",
   "name": "python3"
  },
  "language_info": {
   "codemirror_mode": {
    "name": "ipython",
    "version": 3
   },
   "file_extension": ".py",
   "mimetype": "text/x-python",
   "name": "python",
   "nbconvert_exporter": "python",
   "pygments_lexer": "ipython3",
   "version": "3.9.16"
  }
 },
 "nbformat": 4,
 "nbformat_minor": 5
}
