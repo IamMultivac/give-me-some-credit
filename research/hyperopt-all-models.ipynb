{
 "cells": [
  {
   "cell_type": "markdown",
   "id": "81019435-a7f1-40f1-9696-246a7adcad72",
   "metadata": {},
   "source": [
    "# Hyperparameter Optimization All models\n",
    "\n",
    "## Rationale:\n",
    "In order to make a fair comparisson in performance, we are to tune the hyperparamters for all the models so that we can optimize the performance of each model and then compared then to see if we may be affecting because a bad initial setup.\n",
    "\n",
    "## Methodology:\n",
    "We conducted hyperparameter optimization using the Optuna library, which provides a powerful and efficient platform for automated hyperparameter tuning.\n",
    "\n",
    "We are to Use the ```LightGBM Integration``` which optimizes the hyperparamters in a sequential way and focuses on the parameters that have the highest impact on model performance for Boosting models:\n",
    "\n",
    "\n",
    "\n",
    "* **lambda_l1**\n",
    "* **lambda_l2**\n",
    "* **num_leaves**\n",
    "* **feature_fraction**\n",
    "* **bagging_fraction**\n",
    "* **bagging_freq**\n",
    "* **min_child_samples**\n",
    "\n",
    "For the **num_estimators** and **learning_rate** we are to use the ones found on the best model optimization.\n",
    "\n",
    "## Conclusions:\n",
    "The results of our hyperparameter optimization study yielded valuable insights into improving the LightGBM model's performance. For all the models we achived an increased in performance as compared with the initial model comparisson. (see ```feature-selection``` notebook).\n",
    "\n",
    "\n",
    "| Model               | out_of_fold | validation |\n",
    "|---------------------|------------|------------|\n",
    "| fw [32]             | 0.863464   | 0.867463   |\n",
    "| boruta [46]         | 0.864788   | 0.867128   |\n",
    "| all features [115] | 0.862991   | 0.867067   |\n",
    "| ensemble [55]       | 0.862760   | 0.865526   |\n",
    "| base_features [10]  | 0.864081   | 0.865510   |\n",
    "\n",
    "\n",
    "\n"
   ]
  },
  {
   "cell_type": "code",
   "execution_count": 16,
   "id": "ece11e51-317a-4c77-a354-c65b68d3aec3",
   "metadata": {},
   "outputs": [
    {
     "name": "stdout",
     "output_type": "stream",
     "text": [
      "The autoreload extension is already loaded. To reload it, use:\n",
      "  %reload_ext autoreload\n"
     ]
    }
   ],
   "source": [
    "%load_ext autoreload\n",
    "%autoreload 2\n",
    "\n",
    "import cloudpickle as cp\n",
    "\n",
    "import numpy as np\n",
    "import pandas as pd\n",
    "\n",
    "import lightgbm  as lgbm\n",
    "from sklearn.inspection import permutation_importance\n",
    "from sklearn.model_selection import train_test_split\n",
    "from copy import deepcopy\n",
    "\n",
    "from sklearn.model_selection import KFold, cross_val_score\n",
    "from sklearn.metrics import roc_auc_score\n",
    "\n",
    "import warnings;warnings.filterwarnings(\"ignore\")\n",
    "\n",
    "from optuna import visualization as optunaviz\n",
    "\n",
    "import optuna\n",
    "import optuna.integration.lightgbm as lgb\n",
    "\n",
    "from lightgbm import early_stopping\n",
    "from lightgbm import log_evaluation\n",
    "from optuna.logging import set_verbosity\n",
    "\n",
    "set_verbosity(optuna.logging.ERROR)\n",
    "\n",
    "import sys\n",
    "sys.path.append(\"../\")\n",
    "\n",
    "# local imports\n",
    "from src.learner_params import target_column, boruta_learner_params, test_params\n",
    "from utils.functions__utils import find_constraint\n",
    "\n",
    "from utils.feature_selection_lists import fw_features, boruta_features, ensemble_features\n",
    "from utils.features_lists import all_features_list, base_features\n",
    "\n",
    "from src.learner_params import MODEL_PARAMS\n",
    "\n",
    "from utils.functions__training import model_pipeline\n",
    "\n",
    "from src.learner_params import params_all, params_ensemble, params_fw, params_original"
   ]
  },
  {
   "cell_type": "code",
   "execution_count": 3,
   "id": "e0918160-9518-46c4-84be-26aa03ffd3ef",
   "metadata": {},
   "outputs": [],
   "source": [
    "train_df = pd.read_pickle(\"../data/train_df.pkl\")\n",
    "validation_df = pd.read_pickle(\"../data/validation_df.pkl\")\n",
    "\n",
    "train, test = train_test_split(train_df, random_state=42, test_size=.2)"
   ]
  },
  {
   "cell_type": "markdown",
   "id": "3ce6e49b-c1a9-4ea2-bd7a-3dea770394e4",
   "metadata": {},
   "source": [
    "### All features"
   ]
  },
  {
   "cell_type": "code",
   "execution_count": 5,
   "id": "983d9448-fc8a-46b1-a510-e29afb4fde48",
   "metadata": {
    "collapsed": true,
    "jupyter": {
     "outputs_hidden": true
    }
   },
   "outputs": [
    {
     "name": "stderr",
     "output_type": "stream",
     "text": [
      "feature_fraction, val_score: -inf:   0%|                  | 0/7 [00:00<?, ?it/s]"
     ]
    },
    {
     "name": "stdout",
     "output_type": "stream",
     "text": [
      "Training until validation scores don't improve for 150 rounds\n"
     ]
    },
    {
     "name": "stderr",
     "output_type": "stream",
     "text": [
      "feature_fraction, val_score: 0.871090:  14%|8     | 1/7 [00:12<01:15, 12.56s/it]"
     ]
    },
    {
     "name": "stdout",
     "output_type": "stream",
     "text": [
      "Early stopping, best iteration is:\n",
      "[832]\tvalid_0's auc: 0.891391\tvalid_1's auc: 0.87109\n",
      "Training until validation scores don't improve for 150 rounds\n"
     ]
    },
    {
     "name": "stderr",
     "output_type": "stream",
     "text": [
      "feature_fraction, val_score: 0.871358:  29%|#7    | 2/7 [00:24<01:01, 12.25s/it]"
     ]
    },
    {
     "name": "stdout",
     "output_type": "stream",
     "text": [
      "Early stopping, best iteration is:\n",
      "[891]\tvalid_0's auc: 0.891727\tvalid_1's auc: 0.871358\n",
      "Training until validation scores don't improve for 150 rounds\n"
     ]
    },
    {
     "name": "stderr",
     "output_type": "stream",
     "text": [
      "feature_fraction, val_score: 0.871358:  43%|##5   | 3/7 [00:38<00:51, 12.99s/it]"
     ]
    },
    {
     "name": "stdout",
     "output_type": "stream",
     "text": [
      "Early stopping, best iteration is:\n",
      "[948]\tvalid_0's auc: 0.894863\tvalid_1's auc: 0.87108\n",
      "Training until validation scores don't improve for 150 rounds\n"
     ]
    },
    {
     "name": "stderr",
     "output_type": "stream",
     "text": [
      "feature_fraction, val_score: 0.871358:  57%|###4  | 4/7 [00:50<00:38, 12.69s/it]"
     ]
    },
    {
     "name": "stdout",
     "output_type": "stream",
     "text": [
      "Early stopping, best iteration is:\n",
      "[848]\tvalid_0's auc: 0.891579\tvalid_1's auc: 0.87112\n",
      "Training until validation scores don't improve for 150 rounds\n"
     ]
    },
    {
     "name": "stderr",
     "output_type": "stream",
     "text": [
      "feature_fraction, val_score: 0.871358:  71%|####2 | 5/7 [01:02<00:24, 12.25s/it]"
     ]
    },
    {
     "name": "stdout",
     "output_type": "stream",
     "text": [
      "Early stopping, best iteration is:\n",
      "[728]\tvalid_0's auc: 0.889162\tvalid_1's auc: 0.870549\n",
      "Training until validation scores don't improve for 150 rounds\n"
     ]
    },
    {
     "name": "stderr",
     "output_type": "stream",
     "text": [
      "feature_fraction, val_score: 0.871358:  86%|#####1| 6/7 [01:15<00:12, 12.69s/it]"
     ]
    },
    {
     "name": "stdout",
     "output_type": "stream",
     "text": [
      "Early stopping, best iteration is:\n",
      "[900]\tvalid_0's auc: 0.893928\tvalid_1's auc: 0.871048\n",
      "Training until validation scores don't improve for 150 rounds\n"
     ]
    },
    {
     "name": "stderr",
     "output_type": "stream",
     "text": [
      "feature_fraction, val_score: 0.871358: 100%|######| 7/7 [01:28<00:00, 12.68s/it]\n"
     ]
    },
    {
     "name": "stdout",
     "output_type": "stream",
     "text": [
      "Early stopping, best iteration is:\n",
      "[821]\tvalid_0's auc: 0.892251\tvalid_1's auc: 0.871029\n"
     ]
    },
    {
     "name": "stderr",
     "output_type": "stream",
     "text": [
      "num_leaves, val_score: 0.871358:   0%|                   | 0/20 [00:00<?, ?it/s]"
     ]
    },
    {
     "name": "stdout",
     "output_type": "stream",
     "text": [
      "Training until validation scores don't improve for 150 rounds\n"
     ]
    },
    {
     "name": "stderr",
     "output_type": "stream",
     "text": [
      "num_leaves, val_score: 0.871358:   5%|5          | 1/20 [00:14<04:28, 14.13s/it]"
     ]
    },
    {
     "name": "stdout",
     "output_type": "stream",
     "text": [
      "Early stopping, best iteration is:\n",
      "[517]\tvalid_0's auc: 0.914698\tvalid_1's auc: 0.870372\n",
      "Training until validation scores don't improve for 150 rounds\n"
     ]
    },
    {
     "name": "stderr",
     "output_type": "stream",
     "text": [
      "num_leaves, val_score: 0.871358:  10%|#1         | 2/20 [00:27<04:06, 13.70s/it]"
     ]
    },
    {
     "name": "stdout",
     "output_type": "stream",
     "text": [
      "Early stopping, best iteration is:\n",
      "[266]\tvalid_0's auc: 0.914898\tvalid_1's auc: 0.869346\n",
      "Training until validation scores don't improve for 150 rounds\n"
     ]
    },
    {
     "name": "stderr",
     "output_type": "stream",
     "text": [
      "num_leaves, val_score: 0.871358:  15%|#6         | 3/20 [00:42<04:02, 14.27s/it]"
     ]
    },
    {
     "name": "stdout",
     "output_type": "stream",
     "text": [
      "Early stopping, best iteration is:\n",
      "[448]\tvalid_0's auc: 0.920448\tvalid_1's auc: 0.870322\n",
      "Training until validation scores don't improve for 150 rounds\n"
     ]
    },
    {
     "name": "stderr",
     "output_type": "stream",
     "text": [
      "num_leaves, val_score: 0.871358:  20%|##2        | 4/20 [01:22<06:31, 24.45s/it]"
     ]
    },
    {
     "name": "stdout",
     "output_type": "stream",
     "text": [
      "Did not meet early stopping. Best iteration is:\n",
      "[5926]\tvalid_0's auc: 0.86991\tvalid_1's auc: 0.870993\n",
      "Training until validation scores don't improve for 150 rounds\n"
     ]
    },
    {
     "name": "stderr",
     "output_type": "stream",
     "text": [
      "num_leaves, val_score: 0.871358:  25%|##7        | 5/20 [01:37<05:15, 21.02s/it]"
     ]
    },
    {
     "name": "stdout",
     "output_type": "stream",
     "text": [
      "Early stopping, best iteration is:\n",
      "[265]\tvalid_0's auc: 0.9214\tvalid_1's auc: 0.869202\n",
      "Training until validation scores don't improve for 150 rounds\n"
     ]
    },
    {
     "name": "stderr",
     "output_type": "stream",
     "text": [
      "num_leaves, val_score: 0.871358:  30%|###3       | 6/20 [01:52<04:25, 18.97s/it]"
     ]
    },
    {
     "name": "stdout",
     "output_type": "stream",
     "text": [
      "Early stopping, best iteration is:\n",
      "[1434]\tvalid_0's auc: 0.882211\tvalid_1's auc: 0.87105\n",
      "Training until validation scores don't improve for 150 rounds\n"
     ]
    },
    {
     "name": "stderr",
     "output_type": "stream",
     "text": [
      "num_leaves, val_score: 0.871358:  35%|###8       | 7/20 [02:06<03:45, 17.34s/it]"
     ]
    },
    {
     "name": "stdout",
     "output_type": "stream",
     "text": [
      "Early stopping, best iteration is:\n",
      "[547]\tvalid_0's auc: 0.915759\tvalid_1's auc: 0.87046\n",
      "Training until validation scores don't improve for 150 rounds\n"
     ]
    },
    {
     "name": "stderr",
     "output_type": "stream",
     "text": [
      "num_leaves, val_score: 0.871358:  40%|####4      | 8/20 [02:23<03:27, 17.26s/it]"
     ]
    },
    {
     "name": "stdout",
     "output_type": "stream",
     "text": [
      "Early stopping, best iteration is:\n",
      "[470]\tvalid_0's auc: 0.930159\tvalid_1's auc: 0.869869\n",
      "Training until validation scores don't improve for 150 rounds\n"
     ]
    },
    {
     "name": "stderr",
     "output_type": "stream",
     "text": [
      "num_leaves, val_score: 0.871358:  45%|####9      | 9/20 [02:37<02:57, 16.12s/it]"
     ]
    },
    {
     "name": "stdout",
     "output_type": "stream",
     "text": [
      "Early stopping, best iteration is:\n",
      "[664]\tvalid_0's auc: 0.909055\tvalid_1's auc: 0.870869\n",
      "Training until validation scores don't improve for 150 rounds\n"
     ]
    },
    {
     "name": "stderr",
     "output_type": "stream",
     "text": [
      "num_leaves, val_score: 0.871358:  50%|#####     | 10/20 [02:52<02:37, 15.79s/it]"
     ]
    },
    {
     "name": "stdout",
     "output_type": "stream",
     "text": [
      "Early stopping, best iteration is:\n",
      "[271]\tvalid_0's auc: 0.922904\tvalid_1's auc: 0.869222\n",
      "Training until validation scores don't improve for 150 rounds\n"
     ]
    },
    {
     "name": "stderr",
     "output_type": "stream",
     "text": [
      "num_leaves, val_score: 0.871358:  55%|#####5    | 11/20 [03:03<02:10, 14.51s/it]"
     ]
    },
    {
     "name": "stdout",
     "output_type": "stream",
     "text": [
      "Early stopping, best iteration is:\n",
      "[651]\tvalid_0's auc: 0.898487\tvalid_1's auc: 0.871264\n",
      "Training until validation scores don't improve for 150 rounds\n"
     ]
    },
    {
     "name": "stderr",
     "output_type": "stream",
     "text": [
      "num_leaves, val_score: 0.871358:  60%|######    | 12/20 [03:15<01:49, 13.71s/it]"
     ]
    },
    {
     "name": "stdout",
     "output_type": "stream",
     "text": [
      "Early stopping, best iteration is:\n",
      "[659]\tvalid_0's auc: 0.89824\tvalid_1's auc: 0.871252\n",
      "Training until validation scores don't improve for 150 rounds\n"
     ]
    },
    {
     "name": "stderr",
     "output_type": "stream",
     "text": [
      "num_leaves, val_score: 0.871358:  65%|######5   | 13/20 [03:27<01:30, 13.00s/it]"
     ]
    },
    {
     "name": "stdout",
     "output_type": "stream",
     "text": [
      "Early stopping, best iteration is:\n",
      "[649]\tvalid_0's auc: 0.894769\tvalid_1's auc: 0.871277\n",
      "Training until validation scores don't improve for 150 rounds\n"
     ]
    },
    {
     "name": "stderr",
     "output_type": "stream",
     "text": [
      "num_leaves, val_score: 0.871358:  70%|#######   | 14/20 [03:43<01:25, 14.17s/it]"
     ]
    },
    {
     "name": "stdout",
     "output_type": "stream",
     "text": [
      "Early stopping, best iteration is:\n",
      "[466]\tvalid_0's auc: 0.929432\tvalid_1's auc: 0.869852\n",
      "Training until validation scores don't improve for 150 rounds\n"
     ]
    },
    {
     "name": "stderr",
     "output_type": "stream",
     "text": [
      "num_leaves, val_score: 0.871358:  75%|#######5  | 15/20 [03:55<01:06, 13.28s/it]"
     ]
    },
    {
     "name": "stdout",
     "output_type": "stream",
     "text": [
      "Early stopping, best iteration is:\n",
      "[649]\tvalid_0's auc: 0.894769\tvalid_1's auc: 0.871277\n",
      "Training until validation scores don't improve for 150 rounds\n"
     ]
    },
    {
     "name": "stderr",
     "output_type": "stream",
     "text": [
      "num_leaves, val_score: 0.871358:  80%|########  | 16/20 [04:07<00:52, 13.12s/it]"
     ]
    },
    {
     "name": "stdout",
     "output_type": "stream",
     "text": [
      "Early stopping, best iteration is:\n",
      "[891]\tvalid_0's auc: 0.891727\tvalid_1's auc: 0.871358\n",
      "Training until validation scores don't improve for 150 rounds\n"
     ]
    },
    {
     "name": "stderr",
     "output_type": "stream",
     "text": [
      "num_leaves, val_score: 0.871358:  85%|########5 | 17/20 [04:22<00:40, 13.42s/it]"
     ]
    },
    {
     "name": "stdout",
     "output_type": "stream",
     "text": [
      "Early stopping, best iteration is:\n",
      "[578]\tvalid_0's auc: 0.916784\tvalid_1's auc: 0.870542\n",
      "Training until validation scores don't improve for 150 rounds\n"
     ]
    },
    {
     "name": "stderr",
     "output_type": "stream",
     "text": [
      "num_leaves, val_score: 0.871358:  90%|######### | 18/20 [04:33<00:25, 12.86s/it]"
     ]
    },
    {
     "name": "stdout",
     "output_type": "stream",
     "text": [
      "Early stopping, best iteration is:\n",
      "[865]\tvalid_0's auc: 0.887706\tvalid_1's auc: 0.871283\n",
      "Training until validation scores don't improve for 150 rounds\n"
     ]
    },
    {
     "name": "stderr",
     "output_type": "stream",
     "text": [
      "num_leaves, val_score: 0.871358:  95%|#########5| 19/20 [04:45<00:12, 12.49s/it]"
     ]
    },
    {
     "name": "stdout",
     "output_type": "stream",
     "text": [
      "Early stopping, best iteration is:\n",
      "[969]\tvalid_0's auc: 0.884572\tvalid_1's auc: 0.871268\n",
      "Training until validation scores don't improve for 150 rounds\n"
     ]
    },
    {
     "name": "stderr",
     "output_type": "stream",
     "text": [
      "num_leaves, val_score: 0.871358: 100%|##########| 20/20 [04:58<00:00, 14.91s/it]\n"
     ]
    },
    {
     "name": "stdout",
     "output_type": "stream",
     "text": [
      "Early stopping, best iteration is:\n",
      "[579]\tvalid_0's auc: 0.910493\tvalid_1's auc: 0.870575\n"
     ]
    },
    {
     "name": "stderr",
     "output_type": "stream",
     "text": [
      "bagging, val_score: 0.871358:   0%|                      | 0/10 [00:00<?, ?it/s]"
     ]
    },
    {
     "name": "stdout",
     "output_type": "stream",
     "text": [
      "Training until validation scores don't improve for 150 rounds\n"
     ]
    },
    {
     "name": "stderr",
     "output_type": "stream",
     "text": [
      "bagging, val_score: 0.871358:  10%|#4            | 1/10 [00:11<01:46, 11.79s/it]"
     ]
    },
    {
     "name": "stdout",
     "output_type": "stream",
     "text": [
      "Early stopping, best iteration is:\n",
      "[856]\tvalid_0's auc: 0.891561\tvalid_1's auc: 0.871259\n",
      "Training until validation scores don't improve for 150 rounds\n"
     ]
    },
    {
     "name": "stderr",
     "output_type": "stream",
     "text": [
      "bagging, val_score: 0.871358:  20%|##8           | 2/10 [00:23<01:34, 11.79s/it]"
     ]
    },
    {
     "name": "stdout",
     "output_type": "stream",
     "text": [
      "Early stopping, best iteration is:\n",
      "[875]\tvalid_0's auc: 0.891354\tvalid_1's auc: 0.870638\n",
      "Training until validation scores don't improve for 150 rounds\n"
     ]
    },
    {
     "name": "stderr",
     "output_type": "stream",
     "text": [
      "bagging, val_score: 0.871358:  30%|####2         | 3/10 [00:36<01:27, 12.50s/it]"
     ]
    },
    {
     "name": "stdout",
     "output_type": "stream",
     "text": [
      "Early stopping, best iteration is:\n",
      "[821]\tvalid_0's auc: 0.890162\tvalid_1's auc: 0.871188\n",
      "Training until validation scores don't improve for 150 rounds\n"
     ]
    },
    {
     "name": "stderr",
     "output_type": "stream",
     "text": [
      "bagging, val_score: 0.871358:  40%|#####6        | 4/10 [00:49<01:14, 12.45s/it]"
     ]
    },
    {
     "name": "stdout",
     "output_type": "stream",
     "text": [
      "Early stopping, best iteration is:\n",
      "[829]\tvalid_0's auc: 0.890196\tvalid_1's auc: 0.870869\n",
      "Training until validation scores don't improve for 150 rounds\n"
     ]
    },
    {
     "name": "stderr",
     "output_type": "stream",
     "text": [
      "bagging, val_score: 0.871358:  50%|#######       | 5/10 [01:03<01:04, 12.92s/it]"
     ]
    },
    {
     "name": "stdout",
     "output_type": "stream",
     "text": [
      "Early stopping, best iteration is:\n",
      "[887]\tvalid_0's auc: 0.891558\tvalid_1's auc: 0.871323\n",
      "Training until validation scores don't improve for 150 rounds\n"
     ]
    },
    {
     "name": "stderr",
     "output_type": "stream",
     "text": [
      "bagging, val_score: 0.871358:  60%|########4     | 6/10 [01:17<00:53, 13.35s/it]"
     ]
    },
    {
     "name": "stdout",
     "output_type": "stream",
     "text": [
      "Early stopping, best iteration is:\n",
      "[904]\tvalid_0's auc: 0.891865\tvalid_1's auc: 0.871191\n",
      "Training until validation scores don't improve for 150 rounds\n"
     ]
    },
    {
     "name": "stderr",
     "output_type": "stream",
     "text": [
      "bagging, val_score: 0.871682:  70%|#########7    | 7/10 [01:31<00:40, 13.60s/it]"
     ]
    },
    {
     "name": "stdout",
     "output_type": "stream",
     "text": [
      "Early stopping, best iteration is:\n",
      "[951]\tvalid_0's auc: 0.893676\tvalid_1's auc: 0.871682\n",
      "Training until validation scores don't improve for 150 rounds\n"
     ]
    },
    {
     "name": "stderr",
     "output_type": "stream",
     "text": [
      "bagging, val_score: 0.871682:  80%|###########2  | 8/10 [01:45<00:27, 13.79s/it]"
     ]
    },
    {
     "name": "stdout",
     "output_type": "stream",
     "text": [
      "Early stopping, best iteration is:\n",
      "[926]\tvalid_0's auc: 0.89291\tvalid_1's auc: 0.87125\n",
      "Training until validation scores don't improve for 150 rounds\n"
     ]
    },
    {
     "name": "stderr",
     "output_type": "stream",
     "text": [
      "bagging, val_score: 0.871682:  90%|############6 | 9/10 [01:58<00:13, 13.44s/it]"
     ]
    },
    {
     "name": "stdout",
     "output_type": "stream",
     "text": [
      "Early stopping, best iteration is:\n",
      "[818]\tvalid_0's auc: 0.89022\tvalid_1's auc: 0.871385\n",
      "Training until validation scores don't improve for 150 rounds\n"
     ]
    },
    {
     "name": "stderr",
     "output_type": "stream",
     "text": [
      "bagging, val_score: 0.871682: 100%|#############| 10/10 [02:11<00:00, 13.15s/it]\n"
     ]
    },
    {
     "name": "stdout",
     "output_type": "stream",
     "text": [
      "Early stopping, best iteration is:\n",
      "[869]\tvalid_0's auc: 0.891537\tvalid_1's auc: 0.871368\n"
     ]
    },
    {
     "name": "stderr",
     "output_type": "stream",
     "text": [
      "feature_fraction_stage2, val_score: 0.871682:   0%|       | 0/3 [00:00<?, ?it/s]"
     ]
    },
    {
     "name": "stdout",
     "output_type": "stream",
     "text": [
      "Training until validation scores don't improve for 150 rounds\n"
     ]
    },
    {
     "name": "stderr",
     "output_type": "stream",
     "text": [
      "feature_fraction_stage2, val_score: 0.871682:  33%|3| 1/3 [00:14<00:29, 14.59s/i"
     ]
    },
    {
     "name": "stdout",
     "output_type": "stream",
     "text": [
      "Early stopping, best iteration is:\n",
      "[951]\tvalid_0's auc: 0.894342\tvalid_1's auc: 0.871544\n",
      "Training until validation scores don't improve for 150 rounds\n"
     ]
    },
    {
     "name": "stderr",
     "output_type": "stream",
     "text": [
      "feature_fraction_stage2, val_score: 0.871682:  67%|6| 2/3 [00:29<00:14, 14.54s/i"
     ]
    },
    {
     "name": "stdout",
     "output_type": "stream",
     "text": [
      "Early stopping, best iteration is:\n",
      "[933]\tvalid_0's auc: 0.89413\tvalid_1's auc: 0.871394\n",
      "Training until validation scores don't improve for 150 rounds\n"
     ]
    },
    {
     "name": "stderr",
     "output_type": "stream",
     "text": [
      "feature_fraction_stage2, val_score: 0.871682: 100%|#| 3/3 [00:43<00:00, 14.54s/i\n"
     ]
    },
    {
     "name": "stdout",
     "output_type": "stream",
     "text": [
      "Early stopping, best iteration is:\n",
      "[952]\tvalid_0's auc: 0.893985\tvalid_1's auc: 0.87145\n"
     ]
    },
    {
     "name": "stderr",
     "output_type": "stream",
     "text": [
      "regularization_factors, val_score: 0.871682:   0%|       | 0/20 [00:00<?, ?it/s]"
     ]
    },
    {
     "name": "stdout",
     "output_type": "stream",
     "text": [
      "Training until validation scores don't improve for 150 rounds\n"
     ]
    },
    {
     "name": "stderr",
     "output_type": "stream",
     "text": [
      "regularization_factors, val_score: 0.871682:   5%| | 1/20 [00:14<04:31, 14.29s/i"
     ]
    },
    {
     "name": "stdout",
     "output_type": "stream",
     "text": [
      "Early stopping, best iteration is:\n",
      "[954]\tvalid_0's auc: 0.893884\tvalid_1's auc: 0.871612\n",
      "Training until validation scores don't improve for 150 rounds\n"
     ]
    },
    {
     "name": "stderr",
     "output_type": "stream",
     "text": [
      "regularization_factors, val_score: 0.871682:  10%|1| 2/20 [00:28<04:17, 14.33s/i"
     ]
    },
    {
     "name": "stdout",
     "output_type": "stream",
     "text": [
      "Early stopping, best iteration is:\n",
      "[937]\tvalid_0's auc: 0.893411\tvalid_1's auc: 0.871619\n",
      "Training until validation scores don't improve for 150 rounds\n"
     ]
    },
    {
     "name": "stderr",
     "output_type": "stream",
     "text": [
      "regularization_factors, val_score: 0.871682:  15%|1| 3/20 [00:43<04:04, 14.39s/i"
     ]
    },
    {
     "name": "stdout",
     "output_type": "stream",
     "text": [
      "Early stopping, best iteration is:\n",
      "[951]\tvalid_0's auc: 0.893753\tvalid_1's auc: 0.871635\n",
      "Training until validation scores don't improve for 150 rounds\n"
     ]
    },
    {
     "name": "stderr",
     "output_type": "stream",
     "text": [
      "regularization_factors, val_score: 0.871682:  20%|2| 4/20 [00:57<03:49, 14.34s/i"
     ]
    },
    {
     "name": "stdout",
     "output_type": "stream",
     "text": [
      "Early stopping, best iteration is:\n",
      "[937]\tvalid_0's auc: 0.893375\tvalid_1's auc: 0.871681\n",
      "Training until validation scores don't improve for 150 rounds\n"
     ]
    },
    {
     "name": "stderr",
     "output_type": "stream",
     "text": [
      "regularization_factors, val_score: 0.871682:  25%|2| 5/20 [01:10<03:30, 14.02s/i"
     ]
    },
    {
     "name": "stdout",
     "output_type": "stream",
     "text": [
      "Early stopping, best iteration is:\n",
      "[863]\tvalid_0's auc: 0.891539\tvalid_1's auc: 0.871551\n",
      "Training until validation scores don't improve for 150 rounds\n"
     ]
    },
    {
     "name": "stderr",
     "output_type": "stream",
     "text": [
      "regularization_factors, val_score: 0.871682:  30%|3| 6/20 [01:25<03:19, 14.22s/i"
     ]
    },
    {
     "name": "stdout",
     "output_type": "stream",
     "text": [
      "Early stopping, best iteration is:\n",
      "[936]\tvalid_0's auc: 0.893338\tvalid_1's auc: 0.871642\n",
      "Training until validation scores don't improve for 150 rounds\n"
     ]
    },
    {
     "name": "stderr",
     "output_type": "stream",
     "text": [
      "regularization_factors, val_score: 0.871682:  35%|3| 7/20 [01:39<03:04, 14.23s/i"
     ]
    },
    {
     "name": "stdout",
     "output_type": "stream",
     "text": [
      "Early stopping, best iteration is:\n",
      "[937]\tvalid_0's auc: 0.893435\tvalid_1's auc: 0.871636\n",
      "Training until validation scores don't improve for 150 rounds\n"
     ]
    },
    {
     "name": "stderr",
     "output_type": "stream",
     "text": [
      "regularization_factors, val_score: 0.871743:  40%|4| 8/20 [01:54<02:51, 14.33s/i"
     ]
    },
    {
     "name": "stdout",
     "output_type": "stream",
     "text": [
      "Early stopping, best iteration is:\n",
      "[954]\tvalid_0's auc: 0.893849\tvalid_1's auc: 0.871743\n",
      "Training until validation scores don't improve for 150 rounds\n"
     ]
    },
    {
     "name": "stderr",
     "output_type": "stream",
     "text": [
      "regularization_factors, val_score: 0.871743:  45%|4| 9/20 [02:08<02:35, 14.16s/i"
     ]
    },
    {
     "name": "stdout",
     "output_type": "stream",
     "text": [
      "Early stopping, best iteration is:\n",
      "[865]\tvalid_0's auc: 0.884936\tvalid_1's auc: 0.871506\n",
      "Training until validation scores don't improve for 150 rounds\n"
     ]
    },
    {
     "name": "stderr",
     "output_type": "stream",
     "text": [
      "regularization_factors, val_score: 0.871743:  50%|5| 10/20 [02:22<02:22, 14.29s/"
     ]
    },
    {
     "name": "stdout",
     "output_type": "stream",
     "text": [
      "Early stopping, best iteration is:\n",
      "[951]\tvalid_0's auc: 0.893676\tvalid_1's auc: 0.871681\n",
      "Training until validation scores don't improve for 150 rounds\n"
     ]
    },
    {
     "name": "stderr",
     "output_type": "stream",
     "text": [
      "regularization_factors, val_score: 0.871743:  55%|5| 11/20 [02:37<02:09, 14.36s/"
     ]
    },
    {
     "name": "stdout",
     "output_type": "stream",
     "text": [
      "Early stopping, best iteration is:\n",
      "[954]\tvalid_0's auc: 0.893754\tvalid_1's auc: 0.871694\n",
      "Training until validation scores don't improve for 150 rounds\n"
     ]
    },
    {
     "name": "stderr",
     "output_type": "stream",
     "text": [
      "regularization_factors, val_score: 0.871743:  60%|6| 12/20 [02:51<01:54, 14.35s/"
     ]
    },
    {
     "name": "stdout",
     "output_type": "stream",
     "text": [
      "Early stopping, best iteration is:\n",
      "[951]\tvalid_0's auc: 0.893676\tvalid_1's auc: 0.871681\n",
      "Training until validation scores don't improve for 150 rounds\n"
     ]
    },
    {
     "name": "stderr",
     "output_type": "stream",
     "text": [
      "regularization_factors, val_score: 0.871743:  65%|6| 13/20 [03:04<01:38, 14.04s/"
     ]
    },
    {
     "name": "stdout",
     "output_type": "stream",
     "text": [
      "Early stopping, best iteration is:\n",
      "[867]\tvalid_0's auc: 0.891672\tvalid_1's auc: 0.871667\n",
      "Training until validation scores don't improve for 150 rounds\n"
     ]
    },
    {
     "name": "stderr",
     "output_type": "stream",
     "text": [
      "regularization_factors, val_score: 0.871743:  70%|7| 14/20 [03:18<01:23, 13.88s/"
     ]
    },
    {
     "name": "stdout",
     "output_type": "stream",
     "text": [
      "Early stopping, best iteration is:\n",
      "[878]\tvalid_0's auc: 0.891829\tvalid_1's auc: 0.871684\n",
      "Training until validation scores don't improve for 150 rounds\n"
     ]
    },
    {
     "name": "stderr",
     "output_type": "stream",
     "text": [
      "regularization_factors, val_score: 0.871743:  75%|7| 15/20 [03:32<01:09, 13.99s/"
     ]
    },
    {
     "name": "stdout",
     "output_type": "stream",
     "text": [
      "Early stopping, best iteration is:\n",
      "[936]\tvalid_0's auc: 0.893263\tvalid_1's auc: 0.87168\n",
      "Training until validation scores don't improve for 150 rounds\n"
     ]
    },
    {
     "name": "stderr",
     "output_type": "stream",
     "text": [
      "regularization_factors, val_score: 0.871743:  80%|8| 16/20 [03:46<00:56, 14.10s/"
     ]
    },
    {
     "name": "stdout",
     "output_type": "stream",
     "text": [
      "Early stopping, best iteration is:\n",
      "[936]\tvalid_0's auc: 0.893397\tvalid_1's auc: 0.871687\n",
      "Training until validation scores don't improve for 150 rounds\n"
     ]
    },
    {
     "name": "stderr",
     "output_type": "stream",
     "text": [
      "regularization_factors, val_score: 0.871743:  85%|8| 17/20 [04:00<00:41, 13.92s/"
     ]
    },
    {
     "name": "stdout",
     "output_type": "stream",
     "text": [
      "Early stopping, best iteration is:\n",
      "[867]\tvalid_0's auc: 0.891698\tvalid_1's auc: 0.871699\n",
      "Training until validation scores don't improve for 150 rounds\n"
     ]
    },
    {
     "name": "stderr",
     "output_type": "stream",
     "text": [
      "regularization_factors, val_score: 0.871743:  90%|9| 18/20 [04:14<00:28, 14.06s/"
     ]
    },
    {
     "name": "stdout",
     "output_type": "stream",
     "text": [
      "Early stopping, best iteration is:\n",
      "[951]\tvalid_0's auc: 0.893803\tvalid_1's auc: 0.871689\n",
      "Training until validation scores don't improve for 150 rounds\n"
     ]
    },
    {
     "name": "stderr",
     "output_type": "stream",
     "text": [
      "regularization_factors, val_score: 0.871743:  95%|9| 19/20 [04:29<00:14, 14.24s/"
     ]
    },
    {
     "name": "stdout",
     "output_type": "stream",
     "text": [
      "Early stopping, best iteration is:\n",
      "[936]\tvalid_0's auc: 0.893362\tvalid_1's auc: 0.871657\n",
      "Training until validation scores don't improve for 150 rounds\n"
     ]
    },
    {
     "name": "stderr",
     "output_type": "stream",
     "text": [
      "regularization_factors, val_score: 0.871743: 100%|#| 20/20 [04:44<00:00, 14.20s/\n"
     ]
    },
    {
     "name": "stdout",
     "output_type": "stream",
     "text": [
      "Early stopping, best iteration is:\n",
      "[936]\tvalid_0's auc: 0.893377\tvalid_1's auc: 0.871701\n"
     ]
    },
    {
     "name": "stderr",
     "output_type": "stream",
     "text": [
      "min_data_in_leaf, val_score: 0.871743:   0%|              | 0/5 [00:00<?, ?it/s]"
     ]
    },
    {
     "name": "stdout",
     "output_type": "stream",
     "text": [
      "Training until validation scores don't improve for 150 rounds\n"
     ]
    },
    {
     "name": "stderr",
     "output_type": "stream",
     "text": [
      "min_data_in_leaf, val_score: 0.871743:  20%|#2    | 1/5 [00:13<00:54, 13.70s/it]"
     ]
    },
    {
     "name": "stdout",
     "output_type": "stream",
     "text": [
      "Early stopping, best iteration is:\n",
      "[892]\tvalid_0's auc: 0.897885\tvalid_1's auc: 0.871382\n",
      "Training until validation scores don't improve for 150 rounds\n"
     ]
    },
    {
     "name": "stderr",
     "output_type": "stream",
     "text": [
      "min_data_in_leaf, val_score: 0.871743:  40%|##4   | 2/5 [00:27<00:41, 13.69s/it]"
     ]
    },
    {
     "name": "stdout",
     "output_type": "stream",
     "text": [
      "Early stopping, best iteration is:\n",
      "[855]\tvalid_0's auc: 0.888358\tvalid_1's auc: 0.871512\n",
      "Training until validation scores don't improve for 150 rounds\n"
     ]
    },
    {
     "name": "stderr",
     "output_type": "stream",
     "text": [
      "min_data_in_leaf, val_score: 0.871743:  60%|###6  | 3/5 [00:40<00:27, 13.57s/it]"
     ]
    },
    {
     "name": "stdout",
     "output_type": "stream",
     "text": [
      "Early stopping, best iteration is:\n",
      "[863]\tvalid_0's auc: 0.893942\tvalid_1's auc: 0.871543\n",
      "Training until validation scores don't improve for 150 rounds\n"
     ]
    },
    {
     "name": "stderr",
     "output_type": "stream",
     "text": [
      "min_data_in_leaf, val_score: 0.871743:  80%|####8 | 4/5 [00:55<00:13, 13.89s/it]"
     ]
    },
    {
     "name": "stdout",
     "output_type": "stream",
     "text": [
      "Early stopping, best iteration is:\n",
      "[937]\tvalid_0's auc: 0.892586\tvalid_1's auc: 0.871542\n",
      "Training until validation scores don't improve for 150 rounds\n"
     ]
    },
    {
     "name": "stderr",
     "output_type": "stream",
     "text": [
      "min_data_in_leaf, val_score: 0.871743: 100%|######| 5/5 [01:08<00:00, 13.61s/it]"
     ]
    },
    {
     "name": "stdout",
     "output_type": "stream",
     "text": [
      "Early stopping, best iteration is:\n",
      "[779]\tvalid_0's auc: 0.885093\tvalid_1's auc: 0.871508\n"
     ]
    },
    {
     "name": "stderr",
     "output_type": "stream",
     "text": [
      "\n"
     ]
    },
    {
     "name": "stdout",
     "output_type": "stream",
     "text": [
      "Best params: {'objective': 'binary', 'metric': 'auc', 'verbosity': -1, 'boosting_type': 'gbdt', 'learning_rate': 0.005603627873630697, 'feature_pre_filter': False, 'lambda_l1': 0.022801469789147367, 'lambda_l2': 0.004898476816241659, 'num_leaves': 31, 'feature_fraction': 0.4, 'bagging_fraction': 0.8079749072343313, 'bagging_freq': 5, 'min_child_samples': 20, 'num_iterations': 5926}\n",
      "CPU times: user 40min 39s, sys: 5min 53s, total: 46min 33s\n",
      "Wall time: 15min 14s\n"
     ]
    }
   ],
   "source": [
    "%%time\n",
    "\n",
    "dtrain = lgbm.Dataset(train[all_features_list], label=train[target_column])\n",
    "dval = lgb.Dataset(test[all_features_list], label=test[target_column])\n",
    "\n",
    "params = {\n",
    "    \"objective\": \"binary\",\n",
    "    \"metric\": \"auc\",\n",
    "    \"verbosity\": -1,\n",
    "    \"boosting_type\": \"gbdt\",\n",
    "    \"n_estimators\":5926,\n",
    "    \"learning_rate\": 0.005603627873630697\n",
    "}\n",
    "\n",
    "bst = lgb.train(\n",
    "    params,\n",
    "    dtrain,\n",
    "    valid_sets=[dtrain, dval],\n",
    "    callbacks=[early_stopping(150)],\n",
    "    show_progress_bar = True\n",
    ")\n",
    "\n",
    "preds = bst.predict(test[all_features_list],num_iteration=bst.best_iteration)\n",
    "score = roc_auc_score(test[target_column], preds)\n",
    "\n",
    "all_features_best_params = bst.params\n",
    "print(\"Best params:\", all_features_best_params)\n",
    "\n"
   ]
  },
  {
   "cell_type": "code",
   "execution_count": 6,
   "id": "a4d6a04c-b69b-4512-aebc-415286fd3c1c",
   "metadata": {},
   "outputs": [
    {
     "data": {
      "text/plain": [
       "{'objective': 'binary',\n",
       " 'metric': 'auc',\n",
       " 'verbosity': -1,\n",
       " 'boosting_type': 'gbdt',\n",
       " 'learning_rate': 0.005603627873630697,\n",
       " 'feature_pre_filter': False,\n",
       " 'lambda_l1': 0.022801469789147367,\n",
       " 'lambda_l2': 0.004898476816241659,\n",
       " 'num_leaves': 31,\n",
       " 'feature_fraction': 0.4,\n",
       " 'bagging_fraction': 0.8079749072343313,\n",
       " 'bagging_freq': 5,\n",
       " 'min_child_samples': 20,\n",
       " 'num_iterations': 5926}"
      ]
     },
     "execution_count": 6,
     "metadata": {},
     "output_type": "execute_result"
    }
   ],
   "source": [
    "all_features_best_params"
   ]
  },
  {
   "cell_type": "markdown",
   "id": "1865ea39-aec5-44bf-b13a-4041d3a5335a",
   "metadata": {},
   "source": [
    "### MrMr Features"
   ]
  },
  {
   "cell_type": "code",
   "execution_count": 7,
   "id": "dc516d2e-7722-41d1-8bea-d47340752881",
   "metadata": {
    "collapsed": true,
    "jupyter": {
     "outputs_hidden": true
    }
   },
   "outputs": [
    {
     "name": "stderr",
     "output_type": "stream",
     "text": [
      "feature_fraction, val_score: -inf:   0%|                  | 0/7 [00:00<?, ?it/s]"
     ]
    },
    {
     "name": "stdout",
     "output_type": "stream",
     "text": [
      "Training until validation scores don't improve for 150 rounds\n"
     ]
    },
    {
     "name": "stderr",
     "output_type": "stream",
     "text": [
      "feature_fraction, val_score: 0.870538:  14%|8     | 1/7 [00:10<01:00, 10.16s/it]"
     ]
    },
    {
     "name": "stdout",
     "output_type": "stream",
     "text": [
      "Early stopping, best iteration is:\n",
      "[848]\tvalid_0's auc: 0.891962\tvalid_1's auc: 0.870538\n",
      "Training until validation scores don't improve for 150 rounds\n"
     ]
    },
    {
     "name": "stderr",
     "output_type": "stream",
     "text": [
      "feature_fraction, val_score: 0.870630:  29%|#7    | 2/7 [00:19<00:49,  9.86s/it]"
     ]
    },
    {
     "name": "stdout",
     "output_type": "stream",
     "text": [
      "Early stopping, best iteration is:\n",
      "[767]\tvalid_0's auc: 0.890367\tvalid_1's auc: 0.87063\n",
      "Training until validation scores don't improve for 150 rounds\n"
     ]
    },
    {
     "name": "stderr",
     "output_type": "stream",
     "text": [
      "feature_fraction, val_score: 0.870922:  43%|##5   | 3/7 [00:30<00:40, 10.02s/it]"
     ]
    },
    {
     "name": "stdout",
     "output_type": "stream",
     "text": [
      "Early stopping, best iteration is:\n",
      "[823]\tvalid_0's auc: 0.892276\tvalid_1's auc: 0.870922\n",
      "Training until validation scores don't improve for 150 rounds\n"
     ]
    },
    {
     "name": "stderr",
     "output_type": "stream",
     "text": [
      "feature_fraction, val_score: 0.871700:  57%|###4  | 4/7 [00:41<00:31, 10.66s/it]"
     ]
    },
    {
     "name": "stdout",
     "output_type": "stream",
     "text": [
      "Early stopping, best iteration is:\n",
      "[986]\tvalid_0's auc: 0.892375\tvalid_1's auc: 0.8717\n",
      "Training until validation scores don't improve for 150 rounds\n"
     ]
    },
    {
     "name": "stderr",
     "output_type": "stream",
     "text": [
      "feature_fraction, val_score: 0.871700:  71%|####2 | 5/7 [00:52<00:21, 10.90s/it]"
     ]
    },
    {
     "name": "stdout",
     "output_type": "stream",
     "text": [
      "Early stopping, best iteration is:\n",
      "[933]\tvalid_0's auc: 0.892719\tvalid_1's auc: 0.871696\n",
      "Training until validation scores don't improve for 150 rounds\n"
     ]
    },
    {
     "name": "stderr",
     "output_type": "stream",
     "text": [
      "feature_fraction, val_score: 0.871700:  86%|#####1| 6/7 [01:03<00:10, 10.72s/it]"
     ]
    },
    {
     "name": "stdout",
     "output_type": "stream",
     "text": [
      "Early stopping, best iteration is:\n",
      "[854]\tvalid_0's auc: 0.891742\tvalid_1's auc: 0.871656\n",
      "Training until validation scores don't improve for 150 rounds\n"
     ]
    },
    {
     "name": "stderr",
     "output_type": "stream",
     "text": [
      "feature_fraction, val_score: 0.871700: 100%|######| 7/7 [01:13<00:00, 10.53s/it]\n"
     ]
    },
    {
     "name": "stdout",
     "output_type": "stream",
     "text": [
      "Early stopping, best iteration is:\n",
      "[878]\tvalid_0's auc: 0.893095\tvalid_1's auc: 0.871408\n"
     ]
    },
    {
     "name": "stderr",
     "output_type": "stream",
     "text": [
      "num_leaves, val_score: 0.871700:   0%|                   | 0/20 [00:00<?, ?it/s]"
     ]
    },
    {
     "name": "stdout",
     "output_type": "stream",
     "text": [
      "Training until validation scores don't improve for 150 rounds\n"
     ]
    },
    {
     "name": "stderr",
     "output_type": "stream",
     "text": [
      "num_leaves, val_score: 0.871700:   5%|5          | 1/20 [00:23<07:30, 23.71s/it]"
     ]
    },
    {
     "name": "stdout",
     "output_type": "stream",
     "text": [
      "Early stopping, best iteration is:\n",
      "[3969]\tvalid_0's auc: 0.874572\tvalid_1's auc: 0.871653\n",
      "Training until validation scores don't improve for 150 rounds\n"
     ]
    },
    {
     "name": "stderr",
     "output_type": "stream",
     "text": [
      "num_leaves, val_score: 0.871817:  10%|#1         | 2/20 [00:34<04:52, 16.24s/it]"
     ]
    },
    {
     "name": "stdout",
     "output_type": "stream",
     "text": [
      "Early stopping, best iteration is:\n",
      "[1040]\tvalid_0's auc: 0.887206\tvalid_1's auc: 0.871817\n",
      "Training until validation scores don't improve for 150 rounds\n"
     ]
    },
    {
     "name": "stderr",
     "output_type": "stream",
     "text": [
      "num_leaves, val_score: 0.871848:  15%|#6         | 3/20 [00:45<03:51, 13.61s/it]"
     ]
    },
    {
     "name": "stdout",
     "output_type": "stream",
     "text": [
      "Early stopping, best iteration is:\n",
      "[1129]\tvalid_0's auc: 0.882338\tvalid_1's auc: 0.871848\n",
      "Training until validation scores don't improve for 150 rounds\n"
     ]
    },
    {
     "name": "stderr",
     "output_type": "stream",
     "text": [
      "num_leaves, val_score: 0.871848:  20%|##2        | 4/20 [01:03<04:10, 15.63s/it]"
     ]
    },
    {
     "name": "stdout",
     "output_type": "stream",
     "text": [
      "Early stopping, best iteration is:\n",
      "[438]\tvalid_0's auc: 0.938945\tvalid_1's auc: 0.869117\n",
      "Training until validation scores don't improve for 150 rounds\n"
     ]
    },
    {
     "name": "stderr",
     "output_type": "stream",
     "text": [
      "num_leaves, val_score: 0.871848:  25%|##7        | 5/20 [01:19<03:56, 15.78s/it]"
     ]
    },
    {
     "name": "stdout",
     "output_type": "stream",
     "text": [
      "Early stopping, best iteration is:\n",
      "[2208]\tvalid_0's auc: 0.880328\tvalid_1's auc: 0.871551\n",
      "Training until validation scores don't improve for 150 rounds\n"
     ]
    },
    {
     "name": "stderr",
     "output_type": "stream",
     "text": [
      "num_leaves, val_score: 0.871848:  30%|###3       | 6/20 [01:33<03:28, 14.91s/it]"
     ]
    },
    {
     "name": "stdout",
     "output_type": "stream",
     "text": [
      "Early stopping, best iteration is:\n",
      "[683]\tvalid_0's auc: 0.912808\tvalid_1's auc: 0.871149\n",
      "Training until validation scores don't improve for 150 rounds\n"
     ]
    },
    {
     "name": "stderr",
     "output_type": "stream",
     "text": [
      "num_leaves, val_score: 0.871848:  35%|###8       | 7/20 [01:47<03:12, 14.80s/it]"
     ]
    },
    {
     "name": "stdout",
     "output_type": "stream",
     "text": [
      "Early stopping, best iteration is:\n",
      "[683]\tvalid_0's auc: 0.919902\tvalid_1's auc: 0.870925\n",
      "Training until validation scores don't improve for 150 rounds\n"
     ]
    },
    {
     "name": "stderr",
     "output_type": "stream",
     "text": [
      "num_leaves, val_score: 0.871848:  40%|####4      | 8/20 [02:01<02:53, 14.43s/it]"
     ]
    },
    {
     "name": "stdout",
     "output_type": "stream",
     "text": [
      "Early stopping, best iteration is:\n",
      "[974]\tvalid_0's auc: 0.906763\tvalid_1's auc: 0.871418\n",
      "Training until validation scores don't improve for 150 rounds\n"
     ]
    },
    {
     "name": "stderr",
     "output_type": "stream",
     "text": [
      "num_leaves, val_score: 0.871848:  45%|####9      | 9/20 [02:16<02:40, 14.55s/it]"
     ]
    },
    {
     "name": "stdout",
     "output_type": "stream",
     "text": [
      "Early stopping, best iteration is:\n",
      "[480]\tvalid_0's auc: 0.925\tvalid_1's auc: 0.870145\n",
      "Training until validation scores don't improve for 150 rounds\n"
     ]
    },
    {
     "name": "stderr",
     "output_type": "stream",
     "text": [
      "num_leaves, val_score: 0.871848:  50%|#####     | 10/20 [02:29<02:22, 14.22s/it]"
     ]
    },
    {
     "name": "stdout",
     "output_type": "stream",
     "text": [
      "Early stopping, best iteration is:\n",
      "[441]\tvalid_0's auc: 0.918297\tvalid_1's auc: 0.87009\n",
      "Training until validation scores don't improve for 150 rounds\n"
     ]
    },
    {
     "name": "stderr",
     "output_type": "stream",
     "text": [
      "num_leaves, val_score: 0.871848:  55%|#####5    | 11/20 [02:41<02:01, 13.51s/it]"
     ]
    },
    {
     "name": "stdout",
     "output_type": "stream",
     "text": [
      "Early stopping, best iteration is:\n",
      "[856]\tvalid_0's auc: 0.899943\tvalid_1's auc: 0.871658\n",
      "Training until validation scores don't improve for 150 rounds\n"
     ]
    },
    {
     "name": "stderr",
     "output_type": "stream",
     "text": [
      "num_leaves, val_score: 0.871848:  60%|######    | 12/20 [02:57<01:54, 14.33s/it]"
     ]
    },
    {
     "name": "stdout",
     "output_type": "stream",
     "text": [
      "Early stopping, best iteration is:\n",
      "[429]\tvalid_0's auc: 0.929077\tvalid_1's auc: 0.869578\n",
      "Training until validation scores don't improve for 150 rounds\n"
     ]
    },
    {
     "name": "stderr",
     "output_type": "stream",
     "text": [
      "num_leaves, val_score: 0.871848:  65%|######5   | 13/20 [03:08<01:32, 13.25s/it]"
     ]
    },
    {
     "name": "stdout",
     "output_type": "stream",
     "text": [
      "Early stopping, best iteration is:\n",
      "[660]\tvalid_0's auc: 0.898931\tvalid_1's auc: 0.871342\n",
      "Training until validation scores don't improve for 150 rounds\n"
     ]
    },
    {
     "name": "stderr",
     "output_type": "stream",
     "text": [
      "num_leaves, val_score: 0.871848:  70%|#######   | 14/20 [03:23<01:22, 13.75s/it]"
     ]
    },
    {
     "name": "stdout",
     "output_type": "stream",
     "text": [
      "Early stopping, best iteration is:\n",
      "[675]\tvalid_0's auc: 0.923292\tvalid_1's auc: 0.870814\n",
      "Training until validation scores don't improve for 150 rounds\n"
     ]
    },
    {
     "name": "stderr",
     "output_type": "stream",
     "text": [
      "num_leaves, val_score: 0.871848:  75%|#######5  | 15/20 [03:34<01:04, 12.98s/it]"
     ]
    },
    {
     "name": "stdout",
     "output_type": "stream",
     "text": [
      "Early stopping, best iteration is:\n",
      "[994]\tvalid_0's auc: 0.887266\tvalid_1's auc: 0.871749\n",
      "Training until validation scores don't improve for 150 rounds\n"
     ]
    },
    {
     "name": "stderr",
     "output_type": "stream",
     "text": [
      "num_leaves, val_score: 0.871848:  80%|########  | 16/20 [03:45<00:49, 12.41s/it]"
     ]
    },
    {
     "name": "stdout",
     "output_type": "stream",
     "text": [
      "Early stopping, best iteration is:\n",
      "[997]\tvalid_0's auc: 0.888463\tvalid_1's auc: 0.871727\n",
      "Training until validation scores don't improve for 150 rounds\n"
     ]
    },
    {
     "name": "stderr",
     "output_type": "stream",
     "text": [
      "num_leaves, val_score: 0.871848:  85%|########5 | 17/20 [03:59<00:38, 12.78s/it]"
     ]
    },
    {
     "name": "stdout",
     "output_type": "stream",
     "text": [
      "Early stopping, best iteration is:\n",
      "[785]\tvalid_0's auc: 0.910552\tvalid_1's auc: 0.871334\n",
      "Training until validation scores don't improve for 150 rounds\n"
     ]
    },
    {
     "name": "stderr",
     "output_type": "stream",
     "text": [
      "num_leaves, val_score: 0.871848:  90%|######### | 18/20 [04:10<00:24, 12.36s/it]"
     ]
    },
    {
     "name": "stdout",
     "output_type": "stream",
     "text": [
      "Early stopping, best iteration is:\n",
      "[974]\tvalid_0's auc: 0.893113\tvalid_1's auc: 0.871846\n",
      "Training until validation scores don't improve for 150 rounds\n"
     ]
    },
    {
     "name": "stderr",
     "output_type": "stream",
     "text": [
      "num_leaves, val_score: 0.871848:  95%|#########5| 19/20 [04:35<00:15, 15.98s/it]"
     ]
    },
    {
     "name": "stdout",
     "output_type": "stream",
     "text": [
      "Early stopping, best iteration is:\n",
      "[3969]\tvalid_0's auc: 0.874572\tvalid_1's auc: 0.871653\n",
      "Training until validation scores don't improve for 150 rounds\n"
     ]
    },
    {
     "name": "stderr",
     "output_type": "stream",
     "text": [
      "num_leaves, val_score: 0.871848: 100%|##########| 20/20 [04:47<00:00, 14.36s/it]\n"
     ]
    },
    {
     "name": "stdout",
     "output_type": "stream",
     "text": [
      "Early stopping, best iteration is:\n",
      "[974]\tvalid_0's auc: 0.896507\tvalid_1's auc: 0.871679\n"
     ]
    },
    {
     "name": "stderr",
     "output_type": "stream",
     "text": [
      "bagging, val_score: 0.871848:   0%|                      | 0/10 [00:00<?, ?it/s]"
     ]
    },
    {
     "name": "stdout",
     "output_type": "stream",
     "text": [
      "Training until validation scores don't improve for 150 rounds\n"
     ]
    },
    {
     "name": "stderr",
     "output_type": "stream",
     "text": [
      "bagging, val_score: 0.871848:  10%|#4            | 1/10 [00:12<01:54, 12.76s/it]"
     ]
    },
    {
     "name": "stdout",
     "output_type": "stream",
     "text": [
      "Early stopping, best iteration is:\n",
      "[1273]\tvalid_0's auc: 0.88522\tvalid_1's auc: 0.871844\n",
      "Training until validation scores don't improve for 150 rounds\n"
     ]
    },
    {
     "name": "stderr",
     "output_type": "stream",
     "text": [
      "bagging, val_score: 0.871848:  20%|##8           | 2/10 [00:24<01:38, 12.27s/it]"
     ]
    },
    {
     "name": "stdout",
     "output_type": "stream",
     "text": [
      "Early stopping, best iteration is:\n",
      "[1172]\tvalid_0's auc: 0.883805\tvalid_1's auc: 0.871831\n",
      "Training until validation scores don't improve for 150 rounds\n"
     ]
    },
    {
     "name": "stderr",
     "output_type": "stream",
     "text": [
      "bagging, val_score: 0.872193:  30%|####2         | 3/10 [00:41<01:38, 14.12s/it]"
     ]
    },
    {
     "name": "stdout",
     "output_type": "stream",
     "text": [
      "Early stopping, best iteration is:\n",
      "[1534]\tvalid_0's auc: 0.887564\tvalid_1's auc: 0.872193\n",
      "Training until validation scores don't improve for 150 rounds\n"
     ]
    },
    {
     "name": "stderr",
     "output_type": "stream",
     "text": [
      "bagging, val_score: 0.872193:  40%|#####6        | 4/10 [00:53<01:20, 13.42s/it]"
     ]
    },
    {
     "name": "stdout",
     "output_type": "stream",
     "text": [
      "Early stopping, best iteration is:\n",
      "[1048]\tvalid_0's auc: 0.881382\tvalid_1's auc: 0.871871\n",
      "Training until validation scores don't improve for 150 rounds\n"
     ]
    },
    {
     "name": "stderr",
     "output_type": "stream",
     "text": [
      "bagging, val_score: 0.872193:  50%|#######       | 5/10 [01:08<01:10, 14.01s/it]"
     ]
    },
    {
     "name": "stdout",
     "output_type": "stream",
     "text": [
      "Early stopping, best iteration is:\n",
      "[1463]\tvalid_0's auc: 0.886309\tvalid_1's auc: 0.872088\n",
      "Training until validation scores don't improve for 150 rounds\n"
     ]
    },
    {
     "name": "stderr",
     "output_type": "stream",
     "text": [
      "bagging, val_score: 0.872193:  60%|########4     | 6/10 [01:20<00:53, 13.46s/it]"
     ]
    },
    {
     "name": "stdout",
     "output_type": "stream",
     "text": [
      "Early stopping, best iteration is:\n",
      "[1180]\tvalid_0's auc: 0.883022\tvalid_1's auc: 0.872027\n",
      "Training until validation scores don't improve for 150 rounds\n"
     ]
    },
    {
     "name": "stderr",
     "output_type": "stream",
     "text": [
      "bagging, val_score: 0.872193:  70%|#########7    | 7/10 [01:35<00:41, 13.75s/it]"
     ]
    },
    {
     "name": "stdout",
     "output_type": "stream",
     "text": [
      "Early stopping, best iteration is:\n",
      "[1423]\tvalid_0's auc: 0.886221\tvalid_1's auc: 0.87194\n",
      "Training until validation scores don't improve for 150 rounds\n"
     ]
    },
    {
     "name": "stderr",
     "output_type": "stream",
     "text": [
      "bagging, val_score: 0.872193:  80%|###########2  | 8/10 [01:47<00:26, 13.17s/it]"
     ]
    },
    {
     "name": "stdout",
     "output_type": "stream",
     "text": [
      "Early stopping, best iteration is:\n",
      "[1113]\tvalid_0's auc: 0.882296\tvalid_1's auc: 0.871795\n",
      "Training until validation scores don't improve for 150 rounds\n"
     ]
    },
    {
     "name": "stderr",
     "output_type": "stream",
     "text": [
      "bagging, val_score: 0.872193:  90%|############6 | 9/10 [01:59<00:13, 13.05s/it]"
     ]
    },
    {
     "name": "stdout",
     "output_type": "stream",
     "text": [
      "Early stopping, best iteration is:\n",
      "[1249]\tvalid_0's auc: 0.88408\tvalid_1's auc: 0.871904\n",
      "Training until validation scores don't improve for 150 rounds\n"
     ]
    },
    {
     "name": "stderr",
     "output_type": "stream",
     "text": [
      "bagging, val_score: 0.872193: 100%|#############| 10/10 [02:12<00:00, 13.20s/it]\n"
     ]
    },
    {
     "name": "stdout",
     "output_type": "stream",
     "text": [
      "Early stopping, best iteration is:\n",
      "[1146]\tvalid_0's auc: 0.883111\tvalid_1's auc: 0.871966\n"
     ]
    },
    {
     "name": "stderr",
     "output_type": "stream",
     "text": [
      "feature_fraction_stage2, val_score: 0.872193:   0%|       | 0/3 [00:00<?, ?it/s]"
     ]
    },
    {
     "name": "stdout",
     "output_type": "stream",
     "text": [
      "Training until validation scores don't improve for 150 rounds\n"
     ]
    },
    {
     "name": "stderr",
     "output_type": "stream",
     "text": [
      "feature_fraction_stage2, val_score: 0.872193:  33%|3| 1/3 [00:15<00:31, 15.66s/i"
     ]
    },
    {
     "name": "stdout",
     "output_type": "stream",
     "text": [
      "Early stopping, best iteration is:\n",
      "[1535]\tvalid_0's auc: 0.888048\tvalid_1's auc: 0.872108\n",
      "Training until validation scores don't improve for 150 rounds\n"
     ]
    },
    {
     "name": "stderr",
     "output_type": "stream",
     "text": [
      "feature_fraction_stage2, val_score: 0.872193:  67%|6| 2/3 [00:33<00:16, 16.79s/i"
     ]
    },
    {
     "name": "stdout",
     "output_type": "stream",
     "text": [
      "Early stopping, best iteration is:\n",
      "[1659]\tvalid_0's auc: 0.88989\tvalid_1's auc: 0.872181\n",
      "Training until validation scores don't improve for 150 rounds\n"
     ]
    },
    {
     "name": "stderr",
     "output_type": "stream",
     "text": [
      "feature_fraction_stage2, val_score: 0.872193: 100%|#| 3/3 [00:48<00:00, 16.05s/i\n"
     ]
    },
    {
     "name": "stdout",
     "output_type": "stream",
     "text": [
      "Early stopping, best iteration is:\n",
      "[1534]\tvalid_0's auc: 0.887564\tvalid_1's auc: 0.872193\n"
     ]
    },
    {
     "name": "stderr",
     "output_type": "stream",
     "text": [
      "regularization_factors, val_score: 0.872193:   0%|       | 0/20 [00:00<?, ?it/s]"
     ]
    },
    {
     "name": "stdout",
     "output_type": "stream",
     "text": [
      "Training until validation scores don't improve for 150 rounds\n"
     ]
    },
    {
     "name": "stderr",
     "output_type": "stream",
     "text": [
      "regularization_factors, val_score: 0.872209:   5%| | 1/20 [00:17<05:23, 17.03s/i"
     ]
    },
    {
     "name": "stdout",
     "output_type": "stream",
     "text": [
      "Early stopping, best iteration is:\n",
      "[1740]\tvalid_0's auc: 0.886349\tvalid_1's auc: 0.872209\n",
      "Training until validation scores don't improve for 150 rounds\n"
     ]
    },
    {
     "name": "stderr",
     "output_type": "stream",
     "text": [
      "regularization_factors, val_score: 0.872209:  10%|1| 2/20 [00:34<05:09, 17.21s/i"
     ]
    },
    {
     "name": "stdout",
     "output_type": "stream",
     "text": [
      "Early stopping, best iteration is:\n",
      "[1731]\tvalid_0's auc: 0.884144\tvalid_1's auc: 0.872103\n",
      "Training until validation scores don't improve for 150 rounds\n"
     ]
    },
    {
     "name": "stderr",
     "output_type": "stream",
     "text": [
      "regularization_factors, val_score: 0.872209:  15%|1| 3/20 [00:46<04:11, 14.82s/i"
     ]
    },
    {
     "name": "stdout",
     "output_type": "stream",
     "text": [
      "Early stopping, best iteration is:\n",
      "[1093]\tvalid_0's auc: 0.881703\tvalid_1's auc: 0.872062\n",
      "Training until validation scores don't improve for 150 rounds\n"
     ]
    },
    {
     "name": "stderr",
     "output_type": "stream",
     "text": [
      "regularization_factors, val_score: 0.872209:  20%|2| 4/20 [01:01<04:01, 15.09s/i"
     ]
    },
    {
     "name": "stdout",
     "output_type": "stream",
     "text": [
      "Early stopping, best iteration is:\n",
      "[1427]\tvalid_0's auc: 0.879598\tvalid_1's auc: 0.872072\n",
      "Training until validation scores don't improve for 150 rounds\n"
     ]
    },
    {
     "name": "stderr",
     "output_type": "stream",
     "text": [
      "regularization_factors, val_score: 0.872209:  25%|2| 5/20 [01:14<03:31, 14.12s/i"
     ]
    },
    {
     "name": "stdout",
     "output_type": "stream",
     "text": [
      "Early stopping, best iteration is:\n",
      "[1157]\tvalid_0's auc: 0.882948\tvalid_1's auc: 0.872169\n",
      "Training until validation scores don't improve for 150 rounds\n"
     ]
    },
    {
     "name": "stderr",
     "output_type": "stream",
     "text": [
      "regularization_factors, val_score: 0.872209:  30%|3| 6/20 [01:26<03:10, 13.57s/i"
     ]
    },
    {
     "name": "stdout",
     "output_type": "stream",
     "text": [
      "Early stopping, best iteration is:\n",
      "[1157]\tvalid_0's auc: 0.882858\tvalid_1's auc: 0.872206\n",
      "Training until validation scores don't improve for 150 rounds\n"
     ]
    },
    {
     "name": "stderr",
     "output_type": "stream",
     "text": [
      "regularization_factors, val_score: 0.872209:  35%|3| 7/20 [01:38<02:50, 13.13s/i"
     ]
    },
    {
     "name": "stdout",
     "output_type": "stream",
     "text": [
      "Early stopping, best iteration is:\n",
      "[1127]\tvalid_0's auc: 0.8825\tvalid_1's auc: 0.872181\n",
      "Training until validation scores don't improve for 150 rounds\n"
     ]
    },
    {
     "name": "stderr",
     "output_type": "stream",
     "text": [
      "regularization_factors, val_score: 0.872209:  40%|4| 8/20 [01:51<02:33, 12.81s/i"
     ]
    },
    {
     "name": "stdout",
     "output_type": "stream",
     "text": [
      "Early stopping, best iteration is:\n",
      "[1157]\tvalid_0's auc: 0.882867\tvalid_1's auc: 0.872201\n",
      "Training until validation scores don't improve for 150 rounds\n"
     ]
    },
    {
     "name": "stderr",
     "output_type": "stream",
     "text": [
      "regularization_factors, val_score: 0.872209:  45%|4| 9/20 [02:03<02:20, 12.75s/i"
     ]
    },
    {
     "name": "stdout",
     "output_type": "stream",
     "text": [
      "Early stopping, best iteration is:\n",
      "[1178]\tvalid_0's auc: 0.883083\tvalid_1's auc: 0.872138\n",
      "Training until validation scores don't improve for 150 rounds\n"
     ]
    },
    {
     "name": "stderr",
     "output_type": "stream",
     "text": [
      "regularization_factors, val_score: 0.872209:  50%|5| 10/20 [02:16<02:07, 12.72s/"
     ]
    },
    {
     "name": "stdout",
     "output_type": "stream",
     "text": [
      "Early stopping, best iteration is:\n",
      "[1157]\tvalid_0's auc: 0.882531\tvalid_1's auc: 0.872069\n",
      "Training until validation scores don't improve for 150 rounds\n"
     ]
    },
    {
     "name": "stderr",
     "output_type": "stream",
     "text": [
      "regularization_factors, val_score: 0.872209:  55%|5| 11/20 [02:32<02:04, 13.86s/"
     ]
    },
    {
     "name": "stdout",
     "output_type": "stream",
     "text": [
      "Early stopping, best iteration is:\n",
      "[1534]\tvalid_0's auc: 0.887562\tvalid_1's auc: 0.872195\n",
      "Training until validation scores don't improve for 150 rounds\n"
     ]
    },
    {
     "name": "stderr",
     "output_type": "stream",
     "text": [
      "regularization_factors, val_score: 0.872209:  60%|6| 12/20 [02:47<01:53, 14.23s/"
     ]
    },
    {
     "name": "stdout",
     "output_type": "stream",
     "text": [
      "Early stopping, best iteration is:\n",
      "[1534]\tvalid_0's auc: 0.887562\tvalid_1's auc: 0.872197\n",
      "Training until validation scores don't improve for 150 rounds\n"
     ]
    },
    {
     "name": "stderr",
     "output_type": "stream",
     "text": [
      "regularization_factors, val_score: 0.872209:  65%|6| 13/20 [03:03<01:41, 14.56s/"
     ]
    },
    {
     "name": "stdout",
     "output_type": "stream",
     "text": [
      "Early stopping, best iteration is:\n",
      "[1534]\tvalid_0's auc: 0.887562\tvalid_1's auc: 0.872197\n",
      "Training until validation scores don't improve for 150 rounds\n"
     ]
    },
    {
     "name": "stderr",
     "output_type": "stream",
     "text": [
      "regularization_factors, val_score: 0.872209:  70%|7| 14/20 [03:18<01:28, 14.77s/"
     ]
    },
    {
     "name": "stdout",
     "output_type": "stream",
     "text": [
      "Early stopping, best iteration is:\n",
      "[1534]\tvalid_0's auc: 0.887562\tvalid_1's auc: 0.872196\n",
      "Training until validation scores don't improve for 150 rounds\n"
     ]
    },
    {
     "name": "stderr",
     "output_type": "stream",
     "text": [
      "regularization_factors, val_score: 0.872209:  75%|7| 15/20 [03:33<01:14, 14.87s/"
     ]
    },
    {
     "name": "stdout",
     "output_type": "stream",
     "text": [
      "Early stopping, best iteration is:\n",
      "[1534]\tvalid_0's auc: 0.887562\tvalid_1's auc: 0.872191\n",
      "Training until validation scores don't improve for 150 rounds\n"
     ]
    },
    {
     "name": "stderr",
     "output_type": "stream",
     "text": [
      "regularization_factors, val_score: 0.872209:  80%|8| 16/20 [03:48<00:59, 14.91s/"
     ]
    },
    {
     "name": "stdout",
     "output_type": "stream",
     "text": [
      "Early stopping, best iteration is:\n",
      "[1534]\tvalid_0's auc: 0.887562\tvalid_1's auc: 0.872193\n",
      "Training until validation scores don't improve for 150 rounds\n"
     ]
    },
    {
     "name": "stderr",
     "output_type": "stream",
     "text": [
      "regularization_factors, val_score: 0.872209:  85%|8| 17/20 [04:03<00:44, 14.96s/"
     ]
    },
    {
     "name": "stdout",
     "output_type": "stream",
     "text": [
      "Early stopping, best iteration is:\n",
      "[1513]\tvalid_0's auc: 0.887339\tvalid_1's auc: 0.872191\n",
      "Training until validation scores don't improve for 150 rounds\n"
     ]
    },
    {
     "name": "stderr",
     "output_type": "stream",
     "text": [
      "regularization_factors, val_score: 0.872209:  90%|9| 18/20 [04:18<00:29, 14.92s/"
     ]
    },
    {
     "name": "stdout",
     "output_type": "stream",
     "text": [
      "Early stopping, best iteration is:\n",
      "[1513]\tvalid_0's auc: 0.887341\tvalid_1's auc: 0.872196\n",
      "Training until validation scores don't improve for 150 rounds\n"
     ]
    },
    {
     "name": "stderr",
     "output_type": "stream",
     "text": [
      "regularization_factors, val_score: 0.872209:  95%|9| 19/20 [04:33<00:14, 14.99s/"
     ]
    },
    {
     "name": "stdout",
     "output_type": "stream",
     "text": [
      "Early stopping, best iteration is:\n",
      "[1513]\tvalid_0's auc: 0.887342\tvalid_1's auc: 0.872193\n",
      "Training until validation scores don't improve for 150 rounds\n"
     ]
    },
    {
     "name": "stderr",
     "output_type": "stream",
     "text": [
      "regularization_factors, val_score: 0.872209: 100%|#| 20/20 [04:46<00:00, 14.30s/\n"
     ]
    },
    {
     "name": "stdout",
     "output_type": "stream",
     "text": [
      "Early stopping, best iteration is:\n",
      "[1157]\tvalid_0's auc: 0.882937\tvalid_1's auc: 0.8722\n"
     ]
    },
    {
     "name": "stderr",
     "output_type": "stream",
     "text": [
      "min_data_in_leaf, val_score: 0.872209:   0%|              | 0/5 [00:00<?, ?it/s]"
     ]
    },
    {
     "name": "stdout",
     "output_type": "stream",
     "text": [
      "Training until validation scores don't improve for 150 rounds\n"
     ]
    },
    {
     "name": "stderr",
     "output_type": "stream",
     "text": [
      "min_data_in_leaf, val_score: 0.872209:  20%|#2    | 1/5 [00:15<01:01, 15.33s/it]"
     ]
    },
    {
     "name": "stdout",
     "output_type": "stream",
     "text": [
      "Early stopping, best iteration is:\n",
      "[1398]\tvalid_0's auc: 0.882478\tvalid_1's auc: 0.872133\n",
      "Training until validation scores don't improve for 150 rounds\n"
     ]
    },
    {
     "name": "stderr",
     "output_type": "stream",
     "text": [
      "min_data_in_leaf, val_score: 0.872209:  40%|##4   | 2/5 [00:30<00:45, 15.07s/it]"
     ]
    },
    {
     "name": "stdout",
     "output_type": "stream",
     "text": [
      "Early stopping, best iteration is:\n",
      "[1386]\tvalid_0's auc: 0.883153\tvalid_1's auc: 0.872099\n",
      "Training until validation scores don't improve for 150 rounds\n"
     ]
    },
    {
     "name": "stderr",
     "output_type": "stream",
     "text": [
      "min_data_in_leaf, val_score: 0.872275:  60%|###6  | 3/5 [00:47<00:32, 16.29s/it]"
     ]
    },
    {
     "name": "stdout",
     "output_type": "stream",
     "text": [
      "Early stopping, best iteration is:\n",
      "[1696]\tvalid_0's auc: 0.88563\tvalid_1's auc: 0.872275\n",
      "Training until validation scores don't improve for 150 rounds\n"
     ]
    },
    {
     "name": "stderr",
     "output_type": "stream",
     "text": [
      "min_data_in_leaf, val_score: 0.872275:  80%|####8 | 4/5 [01:00<00:14, 14.70s/it]"
     ]
    },
    {
     "name": "stdout",
     "output_type": "stream",
     "text": [
      "Early stopping, best iteration is:\n",
      "[1093]\tvalid_0's auc: 0.879975\tvalid_1's auc: 0.872061\n",
      "Training until validation scores don't improve for 150 rounds\n"
     ]
    },
    {
     "name": "stderr",
     "output_type": "stream",
     "text": [
      "min_data_in_leaf, val_score: 0.872275: 100%|######| 5/5 [01:17<00:00, 15.48s/it]"
     ]
    },
    {
     "name": "stdout",
     "output_type": "stream",
     "text": [
      "Early stopping, best iteration is:\n",
      "[1731]\tvalid_0's auc: 0.886282\tvalid_1's auc: 0.872206\n"
     ]
    },
    {
     "name": "stderr",
     "output_type": "stream",
     "text": [
      "\n"
     ]
    },
    {
     "name": "stdout",
     "output_type": "stream",
     "text": [
      "Best params: {'objective': 'binary', 'metric': 'auc', 'verbosity': -1, 'boosting_type': 'gbdt', 'learning_rate': 0.005603627873630697, 'feature_pre_filter': False, 'lambda_l1': 4.1326356980799586e-05, 'lambda_l2': 0.6016241539010313, 'num_leaves': 18, 'feature_fraction': 0.4, 'bagging_fraction': 0.9403276152498784, 'bagging_freq': 4, 'min_child_samples': 50, 'num_iterations': 5926}\n",
      "CPU times: user 38min 48s, sys: 5min 38s, total: 44min 26s\n",
      "Wall time: 15min 5s\n"
     ]
    }
   ],
   "source": [
    "%%time\n",
    "dtrain = lgbm.Dataset(train[fw_features], label=train[target_column])\n",
    "dval = lgb.Dataset(test[fw_features], label=test[target_column])\n",
    "params = {\n",
    "    \"objective\": \"binary\",\n",
    "    \"metric\": \"auc\",\n",
    "    \"verbosity\": -1,\n",
    "    \"boosting_type\": \"gbdt\",\n",
    "    \"n_estimators\":5926,\n",
    "    \"learning_rate\": 0.005603627873630697\n",
    "}\n",
    "\n",
    "bst = lgb.train(\n",
    "    params,\n",
    "    dtrain,\n",
    "    valid_sets=[dtrain, dval],\n",
    "    callbacks=[early_stopping(150)],\n",
    "    show_progress_bar = True\n",
    ")\n",
    "\n",
    "preds = bst.predict(test[fw_features],num_iteration=bst.best_iteration)\n",
    "score = roc_auc_score(test[target_column], preds)\n",
    "\n",
    "fw_features_best_params = bst.params\n",
    "print(\"Best params:\", fw_features_best_params)\n",
    "\n"
   ]
  },
  {
   "cell_type": "code",
   "execution_count": 8,
   "id": "89e12f59-8a23-4504-ad0e-9870c6173c40",
   "metadata": {},
   "outputs": [
    {
     "data": {
      "text/plain": [
       "{'objective': 'binary',\n",
       " 'metric': 'auc',\n",
       " 'verbosity': -1,\n",
       " 'boosting_type': 'gbdt',\n",
       " 'learning_rate': 0.005603627873630697,\n",
       " 'feature_pre_filter': False,\n",
       " 'lambda_l1': 4.1326356980799586e-05,\n",
       " 'lambda_l2': 0.6016241539010313,\n",
       " 'num_leaves': 18,\n",
       " 'feature_fraction': 0.4,\n",
       " 'bagging_fraction': 0.9403276152498784,\n",
       " 'bagging_freq': 4,\n",
       " 'min_child_samples': 50,\n",
       " 'num_iterations': 5926}"
      ]
     },
     "execution_count": 8,
     "metadata": {},
     "output_type": "execute_result"
    }
   ],
   "source": [
    "fw_features_best_params"
   ]
  },
  {
   "cell_type": "markdown",
   "id": "b666b417-c528-4ce7-9fa7-ab021ccd5c4b",
   "metadata": {},
   "source": [
    "### Ensemble features"
   ]
  },
  {
   "cell_type": "code",
   "execution_count": 9,
   "id": "89e7177c-2669-4a2b-98f8-c5c92e81d3ec",
   "metadata": {
    "collapsed": true,
    "jupyter": {
     "outputs_hidden": true
    }
   },
   "outputs": [
    {
     "name": "stderr",
     "output_type": "stream",
     "text": [
      "feature_fraction, val_score: -inf:   0%|                  | 0/7 [00:00<?, ?it/s]"
     ]
    },
    {
     "name": "stdout",
     "output_type": "stream",
     "text": [
      "Training until validation scores don't improve for 150 rounds\n"
     ]
    },
    {
     "name": "stderr",
     "output_type": "stream",
     "text": [
      "feature_fraction, val_score: 0.870887:  14%|8     | 1/7 [00:11<01:11, 11.96s/it]"
     ]
    },
    {
     "name": "stdout",
     "output_type": "stream",
     "text": [
      "Early stopping, best iteration is:\n",
      "[915]\tvalid_0's auc: 0.894268\tvalid_1's auc: 0.870887\n",
      "Training until validation scores don't improve for 150 rounds\n"
     ]
    },
    {
     "name": "stderr",
     "output_type": "stream",
     "text": [
      "feature_fraction, val_score: 0.871175:  29%|#7    | 2/7 [00:22<00:56, 11.36s/it]"
     ]
    },
    {
     "name": "stdout",
     "output_type": "stream",
     "text": [
      "Early stopping, best iteration is:\n",
      "[785]\tvalid_0's auc: 0.890575\tvalid_1's auc: 0.871175\n",
      "Training until validation scores don't improve for 150 rounds\n"
     ]
    },
    {
     "name": "stderr",
     "output_type": "stream",
     "text": [
      "feature_fraction, val_score: 0.871211:  43%|##5   | 3/7 [00:33<00:44, 11.14s/it]"
     ]
    },
    {
     "name": "stdout",
     "output_type": "stream",
     "text": [
      "Early stopping, best iteration is:\n",
      "[805]\tvalid_0's auc: 0.891699\tvalid_1's auc: 0.871211\n",
      "Training until validation scores don't improve for 150 rounds\n"
     ]
    },
    {
     "name": "stderr",
     "output_type": "stream",
     "text": [
      "feature_fraction, val_score: 0.871211:  57%|###4  | 4/7 [00:45<00:34, 11.37s/it]"
     ]
    },
    {
     "name": "stdout",
     "output_type": "stream",
     "text": [
      "Early stopping, best iteration is:\n",
      "[887]\tvalid_0's auc: 0.893298\tvalid_1's auc: 0.871069\n",
      "Training until validation scores don't improve for 150 rounds\n"
     ]
    },
    {
     "name": "stderr",
     "output_type": "stream",
     "text": [
      "feature_fraction, val_score: 0.871211:  71%|####2 | 5/7 [00:55<00:21, 10.71s/it]"
     ]
    },
    {
     "name": "stdout",
     "output_type": "stream",
     "text": [
      "Early stopping, best iteration is:\n",
      "[638]\tvalid_0's auc: 0.884674\tvalid_1's auc: 0.870968\n",
      "Training until validation scores don't improve for 150 rounds\n"
     ]
    },
    {
     "name": "stderr",
     "output_type": "stream",
     "text": [
      "feature_fraction, val_score: 0.871277:  86%|#####1| 6/7 [01:06<00:10, 10.96s/it]"
     ]
    },
    {
     "name": "stdout",
     "output_type": "stream",
     "text": [
      "Early stopping, best iteration is:\n",
      "[842]\tvalid_0's auc: 0.891197\tvalid_1's auc: 0.871277\n",
      "Training until validation scores don't improve for 150 rounds\n"
     ]
    },
    {
     "name": "stderr",
     "output_type": "stream",
     "text": [
      "feature_fraction, val_score: 0.871277: 100%|######| 7/7 [01:16<00:00, 10.93s/it]\n"
     ]
    },
    {
     "name": "stdout",
     "output_type": "stream",
     "text": [
      "Early stopping, best iteration is:\n",
      "[741]\tvalid_0's auc: 0.889737\tvalid_1's auc: 0.870713\n"
     ]
    },
    {
     "name": "stderr",
     "output_type": "stream",
     "text": [
      "num_leaves, val_score: 0.871277:   0%|                   | 0/20 [00:00<?, ?it/s]"
     ]
    },
    {
     "name": "stdout",
     "output_type": "stream",
     "text": [
      "Training until validation scores don't improve for 150 rounds\n"
     ]
    },
    {
     "name": "stderr",
     "output_type": "stream",
     "text": [
      "num_leaves, val_score: 0.871277:   5%|5          | 1/20 [00:12<03:53, 12.28s/it]"
     ]
    },
    {
     "name": "stdout",
     "output_type": "stream",
     "text": [
      "Early stopping, best iteration is:\n",
      "[257]\tvalid_0's auc: 0.916226\tvalid_1's auc: 0.869012\n",
      "Training until validation scores don't improve for 150 rounds\n"
     ]
    },
    {
     "name": "stderr",
     "output_type": "stream",
     "text": [
      "num_leaves, val_score: 0.871277:  10%|#1         | 2/20 [00:25<03:48, 12.70s/it]"
     ]
    },
    {
     "name": "stdout",
     "output_type": "stream",
     "text": [
      "Early stopping, best iteration is:\n",
      "[231]\tvalid_0's auc: 0.918683\tvalid_1's auc: 0.868785\n",
      "Training until validation scores don't improve for 150 rounds\n"
     ]
    },
    {
     "name": "stderr",
     "output_type": "stream",
     "text": [
      "num_leaves, val_score: 0.871410:  15%|#6         | 3/20 [00:37<03:34, 12.61s/it]"
     ]
    },
    {
     "name": "stdout",
     "output_type": "stream",
     "text": [
      "Early stopping, best iteration is:\n",
      "[1309]\tvalid_0's auc: 0.879207\tvalid_1's auc: 0.87141\n",
      "Training until validation scores don't improve for 150 rounds\n"
     ]
    },
    {
     "name": "stderr",
     "output_type": "stream",
     "text": [
      "num_leaves, val_score: 0.871410:  20%|##2        | 4/20 [01:07<05:11, 19.46s/it]"
     ]
    },
    {
     "name": "stdout",
     "output_type": "stream",
     "text": [
      "Did not meet early stopping. Best iteration is:\n",
      "[5926]\tvalid_0's auc: 0.864692\tvalid_1's auc: 0.869252\n",
      "Training until validation scores don't improve for 150 rounds\n"
     ]
    },
    {
     "name": "stderr",
     "output_type": "stream",
     "text": [
      "num_leaves, val_score: 0.871460:  25%|##7        | 5/20 [01:19<04:11, 16.80s/it]"
     ]
    },
    {
     "name": "stdout",
     "output_type": "stream",
     "text": [
      "Early stopping, best iteration is:\n",
      "[1212]\tvalid_0's auc: 0.881669\tvalid_1's auc: 0.87146\n",
      "Training until validation scores don't improve for 150 rounds\n"
     ]
    },
    {
     "name": "stderr",
     "output_type": "stream",
     "text": [
      "num_leaves, val_score: 0.871540:  30%|###3       | 6/20 [01:38<04:04, 17.45s/it]"
     ]
    },
    {
     "name": "stdout",
     "output_type": "stream",
     "text": [
      "Early stopping, best iteration is:\n",
      "[2592]\tvalid_0's auc: 0.874209\tvalid_1's auc: 0.87154\n",
      "Training until validation scores don't improve for 150 rounds\n"
     ]
    },
    {
     "name": "stderr",
     "output_type": "stream",
     "text": [
      "num_leaves, val_score: 0.871540:  35%|###8       | 7/20 [01:53<03:36, 16.66s/it]"
     ]
    },
    {
     "name": "stdout",
     "output_type": "stream",
     "text": [
      "Early stopping, best iteration is:\n",
      "[709]\tvalid_0's auc: 0.9192\tvalid_1's auc: 0.870644\n",
      "Training until validation scores don't improve for 150 rounds\n"
     ]
    },
    {
     "name": "stderr",
     "output_type": "stream",
     "text": [
      "num_leaves, val_score: 0.871540:  40%|####4      | 8/20 [02:05<03:01, 15.11s/it]"
     ]
    },
    {
     "name": "stdout",
     "output_type": "stream",
     "text": [
      "Early stopping, best iteration is:\n",
      "[578]\tvalid_0's auc: 0.90641\tvalid_1's auc: 0.870509\n",
      "Training until validation scores don't improve for 150 rounds\n"
     ]
    },
    {
     "name": "stderr",
     "output_type": "stream",
     "text": [
      "num_leaves, val_score: 0.871540:  45%|####9      | 9/20 [02:16<02:33, 13.99s/it]"
     ]
    },
    {
     "name": "stdout",
     "output_type": "stream",
     "text": [
      "Early stopping, best iteration is:\n",
      "[580]\tvalid_0's auc: 0.90453\tvalid_1's auc: 0.870838\n",
      "Training until validation scores don't improve for 150 rounds\n"
     ]
    },
    {
     "name": "stderr",
     "output_type": "stream",
     "text": [
      "num_leaves, val_score: 0.871540:  50%|#####     | 10/20 [02:28<02:11, 13.19s/it]"
     ]
    },
    {
     "name": "stdout",
     "output_type": "stream",
     "text": [
      "Early stopping, best iteration is:\n",
      "[328]\tvalid_0's auc: 0.91061\tvalid_1's auc: 0.869845\n",
      "Training until validation scores don't improve for 150 rounds\n"
     ]
    },
    {
     "name": "stderr",
     "output_type": "stream",
     "text": [
      "num_leaves, val_score: 0.871540:  55%|#####5    | 11/20 [02:39<01:52, 12.55s/it]"
     ]
    },
    {
     "name": "stdout",
     "output_type": "stream",
     "text": [
      "Early stopping, best iteration is:\n",
      "[835]\tvalid_0's auc: 0.889882\tvalid_1's auc: 0.871351\n",
      "Training until validation scores don't improve for 150 rounds\n"
     ]
    },
    {
     "name": "stderr",
     "output_type": "stream",
     "text": [
      "num_leaves, val_score: 0.871540:  60%|######    | 12/20 [02:50<01:36, 12.02s/it]"
     ]
    },
    {
     "name": "stdout",
     "output_type": "stream",
     "text": [
      "Early stopping, best iteration is:\n",
      "[328]\tvalid_0's auc: 0.907941\tvalid_1's auc: 0.869961\n",
      "Training until validation scores don't improve for 150 rounds\n"
     ]
    },
    {
     "name": "stderr",
     "output_type": "stream",
     "text": [
      "num_leaves, val_score: 0.871540:  65%|######5   | 13/20 [03:00<01:20, 11.56s/it]"
     ]
    },
    {
     "name": "stdout",
     "output_type": "stream",
     "text": [
      "Early stopping, best iteration is:\n",
      "[604]\tvalid_0's auc: 0.895837\tvalid_1's auc: 0.870894\n",
      "Training until validation scores don't improve for 150 rounds\n"
     ]
    },
    {
     "name": "stderr",
     "output_type": "stream",
     "text": [
      "num_leaves, val_score: 0.871540:  70%|#######   | 14/20 [03:12<01:10, 11.72s/it]"
     ]
    },
    {
     "name": "stdout",
     "output_type": "stream",
     "text": [
      "Early stopping, best iteration is:\n",
      "[470]\tvalid_0's auc: 0.912101\tvalid_1's auc: 0.870287\n",
      "Training until validation scores don't improve for 150 rounds\n"
     ]
    },
    {
     "name": "stderr",
     "output_type": "stream",
     "text": [
      "num_leaves, val_score: 0.871540:  75%|#######5  | 15/20 [03:37<01:18, 15.66s/it]"
     ]
    },
    {
     "name": "stdout",
     "output_type": "stream",
     "text": [
      "Early stopping, best iteration is:\n",
      "[3823]\tvalid_0's auc: 0.871593\tvalid_1's auc: 0.871435\n",
      "Training until validation scores don't improve for 150 rounds\n"
     ]
    },
    {
     "name": "stderr",
     "output_type": "stream",
     "text": [
      "num_leaves, val_score: 0.871540:  80%|########  | 16/20 [03:59<01:09, 17.45s/it]"
     ]
    },
    {
     "name": "stdout",
     "output_type": "stream",
     "text": [
      "Early stopping, best iteration is:\n",
      "[3027]\tvalid_0's auc: 0.872707\tvalid_1's auc: 0.871262\n",
      "Training until validation scores don't improve for 150 rounds\n"
     ]
    },
    {
     "name": "stderr",
     "output_type": "stream",
     "text": [
      "num_leaves, val_score: 0.871540:  85%|########5 | 17/20 [04:10<00:46, 15.56s/it]"
     ]
    },
    {
     "name": "stdout",
     "output_type": "stream",
     "text": [
      "Early stopping, best iteration is:\n",
      "[789]\tvalid_0's auc: 0.890677\tvalid_1's auc: 0.871486\n",
      "Training until validation scores don't improve for 150 rounds\n"
     ]
    },
    {
     "name": "stderr",
     "output_type": "stream",
     "text": [
      "num_leaves, val_score: 0.871540:  90%|######### | 18/20 [04:20<00:28, 14.03s/it]"
     ]
    },
    {
     "name": "stdout",
     "output_type": "stream",
     "text": [
      "Early stopping, best iteration is:\n",
      "[638]\tvalid_0's auc: 0.894541\tvalid_1's auc: 0.871391\n",
      "Training until validation scores don't improve for 150 rounds\n"
     ]
    },
    {
     "name": "stderr",
     "output_type": "stream",
     "text": [
      "num_leaves, val_score: 0.871540:  95%|#########5| 19/20 [04:32<00:13, 13.30s/it]"
     ]
    },
    {
     "name": "stdout",
     "output_type": "stream",
     "text": [
      "Early stopping, best iteration is:\n",
      "[781]\tvalid_0's auc: 0.895507\tvalid_1's auc: 0.871291\n",
      "Training until validation scores don't improve for 150 rounds\n"
     ]
    },
    {
     "name": "stderr",
     "output_type": "stream",
     "text": [
      "num_leaves, val_score: 0.871540: 100%|##########| 20/20 [04:44<00:00, 14.25s/it]\n"
     ]
    },
    {
     "name": "stdout",
     "output_type": "stream",
     "text": [
      "Early stopping, best iteration is:\n",
      "[337]\tvalid_0's auc: 0.91588\tvalid_1's auc: 0.869702\n"
     ]
    },
    {
     "name": "stderr",
     "output_type": "stream",
     "text": [
      "bagging, val_score: 0.871540:   0%|                      | 0/10 [00:00<?, ?it/s]"
     ]
    },
    {
     "name": "stdout",
     "output_type": "stream",
     "text": [
      "Training until validation scores don't improve for 150 rounds\n"
     ]
    },
    {
     "name": "stderr",
     "output_type": "stream",
     "text": [
      "bagging, val_score: 0.871540:  10%|#4            | 1/10 [00:20<03:05, 20.58s/it]"
     ]
    },
    {
     "name": "stdout",
     "output_type": "stream",
     "text": [
      "Early stopping, best iteration is:\n",
      "[2521]\tvalid_0's auc: 0.874034\tvalid_1's auc: 0.871494\n",
      "Training until validation scores don't improve for 150 rounds\n"
     ]
    },
    {
     "name": "stderr",
     "output_type": "stream",
     "text": [
      "bagging, val_score: 0.871540:  20%|##8           | 2/10 [00:40<02:42, 20.27s/it]"
     ]
    },
    {
     "name": "stdout",
     "output_type": "stream",
     "text": [
      "Early stopping, best iteration is:\n",
      "[2480]\tvalid_0's auc: 0.87384\tvalid_1's auc: 0.871313\n",
      "Training until validation scores don't improve for 150 rounds\n"
     ]
    },
    {
     "name": "stderr",
     "output_type": "stream",
     "text": [
      "bagging, val_score: 0.871540:  30%|####2         | 3/10 [00:58<02:14, 19.15s/it]"
     ]
    },
    {
     "name": "stdout",
     "output_type": "stream",
     "text": [
      "Early stopping, best iteration is:\n",
      "[2272]\tvalid_0's auc: 0.873832\tvalid_1's auc: 0.871365\n",
      "Training until validation scores don't improve for 150 rounds\n"
     ]
    },
    {
     "name": "stderr",
     "output_type": "stream",
     "text": [
      "bagging, val_score: 0.871540:  40%|#####6        | 4/10 [01:15<01:49, 18.25s/it]"
     ]
    },
    {
     "name": "stdout",
     "output_type": "stream",
     "text": [
      "Early stopping, best iteration is:\n",
      "[2042]\tvalid_0's auc: 0.873859\tvalid_1's auc: 0.871022\n",
      "Training until validation scores don't improve for 150 rounds\n"
     ]
    },
    {
     "name": "stderr",
     "output_type": "stream",
     "text": [
      "bagging, val_score: 0.871540:  50%|#######       | 5/10 [01:37<01:38, 19.77s/it]"
     ]
    },
    {
     "name": "stdout",
     "output_type": "stream",
     "text": [
      "Early stopping, best iteration is:\n",
      "[2758]\tvalid_0's auc: 0.874928\tvalid_1's auc: 0.871469\n",
      "Training until validation scores don't improve for 150 rounds\n"
     ]
    },
    {
     "name": "stderr",
     "output_type": "stream",
     "text": [
      "bagging, val_score: 0.871540:  60%|########4     | 6/10 [01:58<01:20, 20.19s/it]"
     ]
    },
    {
     "name": "stdout",
     "output_type": "stream",
     "text": [
      "Early stopping, best iteration is:\n",
      "[2537]\tvalid_0's auc: 0.874333\tvalid_1's auc: 0.871422\n",
      "Training until validation scores don't improve for 150 rounds\n"
     ]
    },
    {
     "name": "stderr",
     "output_type": "stream",
     "text": [
      "bagging, val_score: 0.871540:  70%|#########7    | 7/10 [02:17<00:59, 19.76s/it]"
     ]
    },
    {
     "name": "stdout",
     "output_type": "stream",
     "text": [
      "Early stopping, best iteration is:\n",
      "[2298]\tvalid_0's auc: 0.873402\tvalid_1's auc: 0.871331\n",
      "Training until validation scores don't improve for 150 rounds\n"
     ]
    },
    {
     "name": "stderr",
     "output_type": "stream",
     "text": [
      "bagging, val_score: 0.871540:  80%|###########2  | 8/10 [02:38<00:40, 20.24s/it]"
     ]
    },
    {
     "name": "stdout",
     "output_type": "stream",
     "text": [
      "Early stopping, best iteration is:\n",
      "[2881]\tvalid_0's auc: 0.876127\tvalid_1's auc: 0.871333\n",
      "Training until validation scores don't improve for 150 rounds\n"
     ]
    },
    {
     "name": "stderr",
     "output_type": "stream",
     "text": [
      "bagging, val_score: 0.871540:  90%|############6 | 9/10 [03:01<00:20, 20.97s/it]"
     ]
    },
    {
     "name": "stdout",
     "output_type": "stream",
     "text": [
      "Early stopping, best iteration is:\n",
      "[2814]\tvalid_0's auc: 0.875799\tvalid_1's auc: 0.871389\n",
      "Training until validation scores don't improve for 150 rounds\n"
     ]
    },
    {
     "name": "stderr",
     "output_type": "stream",
     "text": [
      "bagging, val_score: 0.871540: 100%|#############| 10/10 [03:21<00:00, 20.16s/it]\n"
     ]
    },
    {
     "name": "stdout",
     "output_type": "stream",
     "text": [
      "Early stopping, best iteration is:\n",
      "[2596]\tvalid_0's auc: 0.874969\tvalid_1's auc: 0.871267\n"
     ]
    },
    {
     "name": "stderr",
     "output_type": "stream",
     "text": [
      "feature_fraction_stage2, val_score: 0.871540:   0%|       | 0/6 [00:00<?, ?it/s]"
     ]
    },
    {
     "name": "stdout",
     "output_type": "stream",
     "text": [
      "Training until validation scores don't improve for 150 rounds\n"
     ]
    },
    {
     "name": "stderr",
     "output_type": "stream",
     "text": [
      "feature_fraction_stage2, val_score: 0.871540:  17%|1| 1/6 [00:19<01:38, 19.70s/i"
     ]
    },
    {
     "name": "stdout",
     "output_type": "stream",
     "text": [
      "Early stopping, best iteration is:\n",
      "[2676]\tvalid_0's auc: 0.874459\tvalid_1's auc: 0.871456\n",
      "Training until validation scores don't improve for 150 rounds\n"
     ]
    },
    {
     "name": "stderr",
     "output_type": "stream",
     "text": [
      "feature_fraction_stage2, val_score: 0.871540:  33%|3| 2/6 [00:38<01:16, 19.15s/i"
     ]
    },
    {
     "name": "stdout",
     "output_type": "stream",
     "text": [
      "Early stopping, best iteration is:\n",
      "[2592]\tvalid_0's auc: 0.874209\tvalid_1's auc: 0.87154\n",
      "Training until validation scores don't improve for 150 rounds\n"
     ]
    },
    {
     "name": "stderr",
     "output_type": "stream",
     "text": [
      "feature_fraction_stage2, val_score: 0.871540:  50%|5| 3/6 [00:56<00:55, 18.56s/i"
     ]
    },
    {
     "name": "stdout",
     "output_type": "stream",
     "text": [
      "Early stopping, best iteration is:\n",
      "[2449]\tvalid_0's auc: 0.873489\tvalid_1's auc: 0.8713\n",
      "Training until validation scores don't improve for 150 rounds\n"
     ]
    },
    {
     "name": "stderr",
     "output_type": "stream",
     "text": [
      "feature_fraction_stage2, val_score: 0.871540:  67%|6| 4/6 [01:13<00:36, 18.02s/i"
     ]
    },
    {
     "name": "stdout",
     "output_type": "stream",
     "text": [
      "Early stopping, best iteration is:\n",
      "[2320]\tvalid_0's auc: 0.873269\tvalid_1's auc: 0.871424\n",
      "Training until validation scores don't improve for 150 rounds\n"
     ]
    },
    {
     "name": "stderr",
     "output_type": "stream",
     "text": [
      "feature_fraction_stage2, val_score: 0.871540:  83%|8| 5/6 [01:33<00:18, 18.72s/i"
     ]
    },
    {
     "name": "stdout",
     "output_type": "stream",
     "text": [
      "Early stopping, best iteration is:\n",
      "[2717]\tvalid_0's auc: 0.874765\tvalid_1's auc: 0.871503\n",
      "Training until validation scores don't improve for 150 rounds\n"
     ]
    },
    {
     "name": "stderr",
     "output_type": "stream",
     "text": [
      "feature_fraction_stage2, val_score: 0.871540: 100%|#| 6/6 [01:51<00:00, 18.50s/i\n"
     ]
    },
    {
     "name": "stdout",
     "output_type": "stream",
     "text": [
      "Early stopping, best iteration is:\n",
      "[2506]\tvalid_0's auc: 0.873532\tvalid_1's auc: 0.871088\n"
     ]
    },
    {
     "name": "stderr",
     "output_type": "stream",
     "text": [
      "regularization_factors, val_score: 0.871540:   0%|       | 0/20 [00:00<?, ?it/s]"
     ]
    },
    {
     "name": "stdout",
     "output_type": "stream",
     "text": [
      "Training until validation scores don't improve for 150 rounds\n"
     ]
    },
    {
     "name": "stderr",
     "output_type": "stream",
     "text": [
      "regularization_factors, val_score: 0.871540:   5%| | 1/20 [00:19<06:01, 19.04s/i"
     ]
    },
    {
     "name": "stdout",
     "output_type": "stream",
     "text": [
      "Early stopping, best iteration is:\n",
      "[2597]\tvalid_0's auc: 0.873987\tvalid_1's auc: 0.871361\n",
      "Training until validation scores don't improve for 150 rounds\n"
     ]
    },
    {
     "name": "stderr",
     "output_type": "stream",
     "text": [
      "regularization_factors, val_score: 0.871540:  10%|1| 2/20 [00:41<06:15, 20.87s/i"
     ]
    },
    {
     "name": "stdout",
     "output_type": "stream",
     "text": [
      "Early stopping, best iteration is:\n",
      "[3072]\tvalid_0's auc: 0.87259\tvalid_1's auc: 0.871463\n",
      "Training until validation scores don't improve for 150 rounds\n"
     ]
    },
    {
     "name": "stderr",
     "output_type": "stream",
     "text": [
      "regularization_factors, val_score: 0.871540:  15%|1| 3/20 [01:01<05:49, 20.54s/i"
     ]
    },
    {
     "name": "stdout",
     "output_type": "stream",
     "text": [
      "Early stopping, best iteration is:\n",
      "[2790]\tvalid_0's auc: 0.873067\tvalid_1's auc: 0.87152\n",
      "Training until validation scores don't improve for 150 rounds\n"
     ]
    },
    {
     "name": "stderr",
     "output_type": "stream",
     "text": [
      "regularization_factors, val_score: 0.871540:  20%|2| 4/20 [01:28<06:07, 22.97s/i"
     ]
    },
    {
     "name": "stdout",
     "output_type": "stream",
     "text": [
      "Early stopping, best iteration is:\n",
      "[3972]\tvalid_0's auc: 0.874922\tvalid_1's auc: 0.871509\n",
      "Training until validation scores don't improve for 150 rounds\n"
     ]
    },
    {
     "name": "stderr",
     "output_type": "stream",
     "text": [
      "regularization_factors, val_score: 0.871586:  25%|2| 5/20 [01:55<06:07, 24.53s/i"
     ]
    },
    {
     "name": "stdout",
     "output_type": "stream",
     "text": [
      "Early stopping, best iteration is:\n",
      "[3845]\tvalid_0's auc: 0.874664\tvalid_1's auc: 0.871586\n",
      "Training until validation scores don't improve for 150 rounds\n"
     ]
    },
    {
     "name": "stderr",
     "output_type": "stream",
     "text": [
      "regularization_factors, val_score: 0.871586:  30%|3| 6/20 [02:16<05:28, 23.46s/i"
     ]
    },
    {
     "name": "stdout",
     "output_type": "stream",
     "text": [
      "Early stopping, best iteration is:\n",
      "[3161]\tvalid_0's auc: 0.873561\tvalid_1's auc: 0.87156\n",
      "Training until validation scores don't improve for 150 rounds\n"
     ]
    },
    {
     "name": "stderr",
     "output_type": "stream",
     "text": [
      "regularization_factors, val_score: 0.871586:  35%|3| 7/20 [02:41<05:09, 23.82s/i"
     ]
    },
    {
     "name": "stdout",
     "output_type": "stream",
     "text": [
      "Early stopping, best iteration is:\n",
      "[3386]\tvalid_0's auc: 0.874007\tvalid_1's auc: 0.871551\n",
      "Training until validation scores don't improve for 150 rounds\n"
     ]
    },
    {
     "name": "stderr",
     "output_type": "stream",
     "text": [
      "regularization_factors, val_score: 0.871586:  40%|4| 8/20 [03:02<04:35, 22.95s/i"
     ]
    },
    {
     "name": "stdout",
     "output_type": "stream",
     "text": [
      "Early stopping, best iteration is:\n",
      "[3013]\tvalid_0's auc: 0.873399\tvalid_1's auc: 0.871501\n",
      "Training until validation scores don't improve for 150 rounds\n"
     ]
    },
    {
     "name": "stderr",
     "output_type": "stream",
     "text": [
      "regularization_factors, val_score: 0.871586:  45%|4| 9/20 [03:23<04:04, 22.23s/i"
     ]
    },
    {
     "name": "stdout",
     "output_type": "stream",
     "text": [
      "Early stopping, best iteration is:\n",
      "[2915]\tvalid_0's auc: 0.873352\tvalid_1's auc: 0.87151\n",
      "Training until validation scores don't improve for 150 rounds\n"
     ]
    },
    {
     "name": "stderr",
     "output_type": "stream",
     "text": [
      "regularization_factors, val_score: 0.871586:  50%|5| 10/20 [03:48<03:52, 23.28s/"
     ]
    },
    {
     "name": "stdout",
     "output_type": "stream",
     "text": [
      "Early stopping, best iteration is:\n",
      "[3586]\tvalid_0's auc: 0.874165\tvalid_1's auc: 0.87149\n",
      "Training until validation scores don't improve for 150 rounds\n"
     ]
    },
    {
     "name": "stderr",
     "output_type": "stream",
     "text": [
      "regularization_factors, val_score: 0.871586:  55%|5| 11/20 [04:05<03:11, 21.33s/"
     ]
    },
    {
     "name": "stdout",
     "output_type": "stream",
     "text": [
      "Early stopping, best iteration is:\n",
      "[2235]\tvalid_0's auc: 0.872794\tvalid_1's auc: 0.871308\n",
      "Training until validation scores don't improve for 150 rounds\n"
     ]
    },
    {
     "name": "stderr",
     "output_type": "stream",
     "text": [
      "regularization_factors, val_score: 0.871586:  60%|6| 12/20 [04:24<02:45, 20.63s/"
     ]
    },
    {
     "name": "stdout",
     "output_type": "stream",
     "text": [
      "Early stopping, best iteration is:\n",
      "[2692]\tvalid_0's auc: 0.874228\tvalid_1's auc: 0.871444\n",
      "Training until validation scores don't improve for 150 rounds\n"
     ]
    },
    {
     "name": "stderr",
     "output_type": "stream",
     "text": [
      "regularization_factors, val_score: 0.871586:  65%|6| 13/20 [04:51<02:38, 22.64s/"
     ]
    },
    {
     "name": "stdout",
     "output_type": "stream",
     "text": [
      "Early stopping, best iteration is:\n",
      "[3945]\tvalid_0's auc: 0.874774\tvalid_1's auc: 0.871512\n",
      "Training until validation scores don't improve for 150 rounds\n"
     ]
    },
    {
     "name": "stderr",
     "output_type": "stream",
     "text": [
      "regularization_factors, val_score: 0.871586:  70%|7| 14/20 [05:10<02:09, 21.52s/"
     ]
    },
    {
     "name": "stdout",
     "output_type": "stream",
     "text": [
      "Early stopping, best iteration is:\n",
      "[2668]\tvalid_0's auc: 0.874258\tvalid_1's auc: 0.871397\n",
      "Training until validation scores don't improve for 150 rounds\n"
     ]
    },
    {
     "name": "stderr",
     "output_type": "stream",
     "text": [
      "regularization_factors, val_score: 0.871586:  75%|7| 15/20 [05:30<01:44, 20.86s/"
     ]
    },
    {
     "name": "stdout",
     "output_type": "stream",
     "text": [
      "Early stopping, best iteration is:\n",
      "[2706]\tvalid_0's auc: 0.873873\tvalid_1's auc: 0.871517\n",
      "Training until validation scores don't improve for 150 rounds\n"
     ]
    },
    {
     "name": "stderr",
     "output_type": "stream",
     "text": [
      "regularization_factors, val_score: 0.871586:  80%|8| 16/20 [05:48<01:20, 20.11s/"
     ]
    },
    {
     "name": "stdout",
     "output_type": "stream",
     "text": [
      "Early stopping, best iteration is:\n",
      "[2553]\tvalid_0's auc: 0.873981\tvalid_1's auc: 0.871439\n",
      "Training until validation scores don't improve for 150 rounds\n"
     ]
    },
    {
     "name": "stderr",
     "output_type": "stream",
     "text": [
      "regularization_factors, val_score: 0.871586:  85%|8| 17/20 [06:07<00:59, 19.89s/"
     ]
    },
    {
     "name": "stdout",
     "output_type": "stream",
     "text": [
      "Early stopping, best iteration is:\n",
      "[2713]\tvalid_0's auc: 0.873357\tvalid_1's auc: 0.871513\n",
      "Training until validation scores don't improve for 150 rounds\n"
     ]
    },
    {
     "name": "stderr",
     "output_type": "stream",
     "text": [
      "regularization_factors, val_score: 0.871586:  90%|9| 18/20 [06:25<00:38, 19.26s/"
     ]
    },
    {
     "name": "stdout",
     "output_type": "stream",
     "text": [
      "Early stopping, best iteration is:\n",
      "[2515]\tvalid_0's auc: 0.873307\tvalid_1's auc: 0.871447\n",
      "Training until validation scores don't improve for 150 rounds\n"
     ]
    },
    {
     "name": "stderr",
     "output_type": "stream",
     "text": [
      "regularization_factors, val_score: 0.871586:  95%|9| 19/20 [06:45<00:19, 19.39s/"
     ]
    },
    {
     "name": "stdout",
     "output_type": "stream",
     "text": [
      "Early stopping, best iteration is:\n",
      "[2690]\tvalid_0's auc: 0.87375\tvalid_1's auc: 0.871469\n",
      "Training until validation scores don't improve for 150 rounds\n"
     ]
    },
    {
     "name": "stderr",
     "output_type": "stream",
     "text": [
      "regularization_factors, val_score: 0.871586: 100%|#| 20/20 [07:07<00:00, 21.35s/\n"
     ]
    },
    {
     "name": "stdout",
     "output_type": "stream",
     "text": [
      "Early stopping, best iteration is:\n",
      "[2956]\tvalid_0's auc: 0.874098\tvalid_1's auc: 0.871373\n"
     ]
    },
    {
     "name": "stderr",
     "output_type": "stream",
     "text": [
      "min_data_in_leaf, val_score: 0.871586:   0%|              | 0/5 [00:00<?, ?it/s]"
     ]
    },
    {
     "name": "stdout",
     "output_type": "stream",
     "text": [
      "Training until validation scores don't improve for 150 rounds\n"
     ]
    },
    {
     "name": "stderr",
     "output_type": "stream",
     "text": [
      "min_data_in_leaf, val_score: 0.871586:  20%|#2    | 1/5 [00:22<01:29, 22.47s/it]"
     ]
    },
    {
     "name": "stdout",
     "output_type": "stream",
     "text": [
      "Early stopping, best iteration is:\n",
      "[3058]\tvalid_0's auc: 0.873137\tvalid_1's auc: 0.871377\n",
      "Training until validation scores don't improve for 150 rounds\n"
     ]
    },
    {
     "name": "stderr",
     "output_type": "stream",
     "text": [
      "min_data_in_leaf, val_score: 0.871586:  40%|##4   | 2/5 [00:43<01:04, 21.43s/it]"
     ]
    },
    {
     "name": "stdout",
     "output_type": "stream",
     "text": [
      "Early stopping, best iteration is:\n",
      "[2915]\tvalid_0's auc: 0.87304\tvalid_1's auc: 0.871467\n",
      "Training until validation scores don't improve for 150 rounds\n"
     ]
    },
    {
     "name": "stderr",
     "output_type": "stream",
     "text": [
      "min_data_in_leaf, val_score: 0.871586:  60%|###6  | 3/5 [01:05<00:43, 21.99s/it]"
     ]
    },
    {
     "name": "stdout",
     "output_type": "stream",
     "text": [
      "Early stopping, best iteration is:\n",
      "[3115]\tvalid_0's auc: 0.873375\tvalid_1's auc: 0.871397\n",
      "Training until validation scores don't improve for 150 rounds\n"
     ]
    },
    {
     "name": "stderr",
     "output_type": "stream",
     "text": [
      "min_data_in_leaf, val_score: 0.871586:  80%|####8 | 4/5 [01:31<00:23, 23.35s/it]"
     ]
    },
    {
     "name": "stdout",
     "output_type": "stream",
     "text": [
      "Early stopping, best iteration is:\n",
      "[3520]\tvalid_0's auc: 0.87406\tvalid_1's auc: 0.8715\n",
      "Training until validation scores don't improve for 150 rounds\n"
     ]
    },
    {
     "name": "stderr",
     "output_type": "stream",
     "text": [
      "min_data_in_leaf, val_score: 0.871586: 100%|######| 5/5 [01:56<00:00, 23.34s/it]"
     ]
    },
    {
     "name": "stdout",
     "output_type": "stream",
     "text": [
      "Early stopping, best iteration is:\n",
      "[3526]\tvalid_0's auc: 0.874169\tvalid_1's auc: 0.871439\n"
     ]
    },
    {
     "name": "stderr",
     "output_type": "stream",
     "text": [
      "\n"
     ]
    },
    {
     "name": "stdout",
     "output_type": "stream",
     "text": [
      "Best params: {'objective': 'binary', 'metric': 'auc', 'verbosity': -1, 'boosting_type': 'gbdt', 'learning_rate': 0.005603627873630697, 'feature_pre_filter': False, 'lambda_l1': 0.0006278595123135671, 'lambda_l2': 8.715856738389705, 'num_leaves': 6, 'feature_fraction': 0.5, 'bagging_fraction': 1.0, 'bagging_freq': 0, 'min_child_samples': 20, 'num_iterations': 5926}\n",
      "CPU times: user 1h 1min 16s, sys: 7min 24s, total: 1h 8min 40s\n",
      "Wall time: 20min 18s\n"
     ]
    }
   ],
   "source": [
    "%%time\n",
    "dtrain = lgbm.Dataset(train[ensemble_features], label=train[target_column])\n",
    "dval = lgb.Dataset(test[ensemble_features], label=test[target_column])\n",
    "\n",
    "params = {\n",
    "    \"objective\": \"binary\",\n",
    "    \"metric\": \"auc\",\n",
    "    \"verbosity\": -1,\n",
    "    \"boosting_type\": \"gbdt\",\n",
    "    \"n_estimators\":5926,\n",
    "    \"learning_rate\": 0.005603627873630697\n",
    "}\n",
    "\n",
    "bst = lgb.train(\n",
    "    params,\n",
    "    dtrain,\n",
    "    valid_sets=[dtrain, dval],\n",
    "    callbacks=[early_stopping(150)],\n",
    "    show_progress_bar = True\n",
    ")\n",
    "\n",
    "preds = bst.predict(test[ensemble_features],num_iteration=bst.best_iteration)\n",
    "score = roc_auc_score(test[target_column], preds)\n",
    "\n",
    "ensemble_features_best_params = bst.params\n",
    "print(\"Best params:\", ensemble_features_best_params)\n",
    "\n"
   ]
  },
  {
   "cell_type": "code",
   "execution_count": 14,
   "id": "2817ce55-c35e-4760-8fa7-38bacc2cd419",
   "metadata": {},
   "outputs": [
    {
     "data": {
      "text/plain": [
       "{'objective': 'binary',\n",
       " 'metric': 'auc',\n",
       " 'verbosity': -1,\n",
       " 'boosting_type': 'gbdt',\n",
       " 'learning_rate': 0.005603627873630697,\n",
       " 'feature_pre_filter': False,\n",
       " 'lambda_l1': 0.0006278595123135671,\n",
       " 'lambda_l2': 8.715856738389705,\n",
       " 'num_leaves': 6,\n",
       " 'feature_fraction': 0.5,\n",
       " 'bagging_fraction': 1.0,\n",
       " 'bagging_freq': 0,\n",
       " 'min_child_samples': 20,\n",
       " 'num_iterations': 5926}"
      ]
     },
     "execution_count": 14,
     "metadata": {},
     "output_type": "execute_result"
    }
   ],
   "source": [
    "ensemble_features_best_params"
   ]
  },
  {
   "cell_type": "markdown",
   "id": "f58e246e-c76e-405b-a36a-7b1b2c492bcb",
   "metadata": {},
   "source": [
    "### Base model features"
   ]
  },
  {
   "cell_type": "code",
   "execution_count": 12,
   "id": "8b6424be-d5ed-4352-8b85-4dbf63907183",
   "metadata": {
    "collapsed": true,
    "jupyter": {
     "outputs_hidden": true
    }
   },
   "outputs": [
    {
     "name": "stderr",
     "output_type": "stream",
     "text": [
      "feature_fraction, val_score: -inf:   0%|                  | 0/7 [00:00<?, ?it/s]"
     ]
    },
    {
     "name": "stdout",
     "output_type": "stream",
     "text": [
      "Training until validation scores don't improve for 150 rounds\n"
     ]
    },
    {
     "name": "stderr",
     "output_type": "stream",
     "text": [
      "feature_fraction, val_score: 0.871848:  14%|8     | 1/7 [00:07<00:46,  7.69s/it]"
     ]
    },
    {
     "name": "stdout",
     "output_type": "stream",
     "text": [
      "Early stopping, best iteration is:\n",
      "[734]\tvalid_0's auc: 0.882724\tvalid_1's auc: 0.871848\n",
      "Training until validation scores don't improve for 150 rounds\n"
     ]
    },
    {
     "name": "stderr",
     "output_type": "stream",
     "text": [
      "feature_fraction, val_score: 0.871848:  29%|#7    | 2/7 [00:18<00:48,  9.75s/it]"
     ]
    },
    {
     "name": "stdout",
     "output_type": "stream",
     "text": [
      "Early stopping, best iteration is:\n",
      "[1180]\tvalid_0's auc: 0.8889\tvalid_1's auc: 0.871635\n",
      "Training until validation scores don't improve for 150 rounds\n"
     ]
    },
    {
     "name": "stderr",
     "output_type": "stream",
     "text": [
      "feature_fraction, val_score: 0.872378:  43%|##5   | 3/7 [00:27<00:37,  9.30s/it]"
     ]
    },
    {
     "name": "stdout",
     "output_type": "stream",
     "text": [
      "Early stopping, best iteration is:\n",
      "[784]\tvalid_0's auc: 0.881582\tvalid_1's auc: 0.872378\n",
      "Training until validation scores don't improve for 150 rounds\n"
     ]
    },
    {
     "name": "stderr",
     "output_type": "stream",
     "text": [
      "feature_fraction, val_score: 0.872378:  57%|###4  | 4/7 [00:35<00:26,  8.77s/it]"
     ]
    },
    {
     "name": "stdout",
     "output_type": "stream",
     "text": [
      "Early stopping, best iteration is:\n",
      "[742]\tvalid_0's auc: 0.883057\tvalid_1's auc: 0.872273\n",
      "Training until validation scores don't improve for 150 rounds\n"
     ]
    },
    {
     "name": "stderr",
     "output_type": "stream",
     "text": [
      "feature_fraction, val_score: 0.872378:  71%|####2 | 5/7 [00:43<00:17,  8.52s/it]"
     ]
    },
    {
     "name": "stdout",
     "output_type": "stream",
     "text": [
      "Early stopping, best iteration is:\n",
      "[748]\tvalid_0's auc: 0.883036\tvalid_1's auc: 0.872161\n",
      "Training until validation scores don't improve for 150 rounds\n"
     ]
    },
    {
     "name": "stderr",
     "output_type": "stream",
     "text": [
      "feature_fraction, val_score: 0.872378:  86%|#####1| 6/7 [01:00<00:11, 11.40s/it]"
     ]
    },
    {
     "name": "stdout",
     "output_type": "stream",
     "text": [
      "Early stopping, best iteration is:\n",
      "[1797]\tvalid_0's auc: 0.892604\tvalid_1's auc: 0.871717\n",
      "Training until validation scores don't improve for 150 rounds\n"
     ]
    },
    {
     "name": "stderr",
     "output_type": "stream",
     "text": [
      "feature_fraction, val_score: 0.872378: 100%|######| 7/7 [01:05<00:00,  9.41s/it]\n"
     ]
    },
    {
     "name": "stdout",
     "output_type": "stream",
     "text": [
      "Early stopping, best iteration is:\n",
      "[410]\tvalid_0's auc: 0.875246\tvalid_1's auc: 0.872178\n"
     ]
    },
    {
     "name": "stderr",
     "output_type": "stream",
     "text": [
      "num_leaves, val_score: 0.872378:   0%|                   | 0/20 [00:00<?, ?it/s]"
     ]
    },
    {
     "name": "stdout",
     "output_type": "stream",
     "text": [
      "Training until validation scores don't improve for 150 rounds\n"
     ]
    },
    {
     "name": "stderr",
     "output_type": "stream",
     "text": [
      "num_leaves, val_score: 0.872378:   5%|5          | 1/20 [00:06<02:04,  6.57s/it]"
     ]
    },
    {
     "name": "stdout",
     "output_type": "stream",
     "text": [
      "Early stopping, best iteration is:\n",
      "[428]\tvalid_0's auc: 0.881718\tvalid_1's auc: 0.872274\n",
      "Training until validation scores don't improve for 150 rounds\n"
     ]
    },
    {
     "name": "stderr",
     "output_type": "stream",
     "text": [
      "num_leaves, val_score: 0.872488:  10%|#1         | 2/20 [00:15<02:27,  8.18s/it]"
     ]
    },
    {
     "name": "stdout",
     "output_type": "stream",
     "text": [
      "Early stopping, best iteration is:\n",
      "[784]\tvalid_0's auc: 0.885125\tvalid_1's auc: 0.872488\n",
      "Training until validation scores don't improve for 150 rounds\n"
     ]
    },
    {
     "name": "stderr",
     "output_type": "stream",
     "text": [
      "num_leaves, val_score: 0.872488:  15%|#6         | 3/20 [00:24<02:24,  8.53s/it]"
     ]
    },
    {
     "name": "stdout",
     "output_type": "stream",
     "text": [
      "Early stopping, best iteration is:\n",
      "[273]\tvalid_0's auc: 0.897734\tvalid_1's auc: 0.870867\n",
      "Training until validation scores don't improve for 150 rounds\n"
     ]
    },
    {
     "name": "stderr",
     "output_type": "stream",
     "text": [
      "num_leaves, val_score: 0.872488:  20%|##2        | 4/20 [00:44<03:29, 13.07s/it]"
     ]
    },
    {
     "name": "stdout",
     "output_type": "stream",
     "text": [
      "Early stopping, best iteration is:\n",
      "[3497]\tvalid_0's auc: 0.870933\tvalid_1's auc: 0.870849\n",
      "Training until validation scores don't improve for 150 rounds\n"
     ]
    },
    {
     "name": "stderr",
     "output_type": "stream",
     "text": [
      "num_leaves, val_score: 0.872488:  25%|##7        | 5/20 [00:56<03:10, 12.72s/it]"
     ]
    },
    {
     "name": "stdout",
     "output_type": "stream",
     "text": [
      "Early stopping, best iteration is:\n",
      "[273]\tvalid_0's auc: 0.911002\tvalid_1's auc: 0.870297\n",
      "Training until validation scores don't improve for 150 rounds\n"
     ]
    },
    {
     "name": "stderr",
     "output_type": "stream",
     "text": [
      "num_leaves, val_score: 0.872488:  30%|###3       | 6/20 [01:05<02:39, 11.42s/it]"
     ]
    },
    {
     "name": "stdout",
     "output_type": "stream",
     "text": [
      "Early stopping, best iteration is:\n",
      "[405]\tvalid_0's auc: 0.892328\tvalid_1's auc: 0.871587\n",
      "Training until validation scores don't improve for 150 rounds\n"
     ]
    },
    {
     "name": "stderr",
     "output_type": "stream",
     "text": [
      "num_leaves, val_score: 0.872488:  35%|###8       | 7/20 [01:14<02:17, 10.56s/it]"
     ]
    },
    {
     "name": "stdout",
     "output_type": "stream",
     "text": [
      "Early stopping, best iteration is:\n",
      "[273]\tvalid_0's auc: 0.897088\tvalid_1's auc: 0.870814\n",
      "Training until validation scores don't improve for 150 rounds\n"
     ]
    },
    {
     "name": "stderr",
     "output_type": "stream",
     "text": [
      "num_leaves, val_score: 0.872569:  40%|####4      | 8/20 [01:24<02:02, 10.20s/it]"
     ]
    },
    {
     "name": "stdout",
     "output_type": "stream",
     "text": [
      "Early stopping, best iteration is:\n",
      "[1035]\tvalid_0's auc: 0.877329\tvalid_1's auc: 0.872569\n",
      "Training until validation scores don't improve for 150 rounds\n"
     ]
    },
    {
     "name": "stderr",
     "output_type": "stream",
     "text": [
      "num_leaves, val_score: 0.872569:  45%|####9      | 9/20 [01:39<02:08, 11.68s/it]"
     ]
    },
    {
     "name": "stdout",
     "output_type": "stream",
     "text": [
      "Early stopping, best iteration is:\n",
      "[2422]\tvalid_0's auc: 0.870721\tvalid_1's auc: 0.871389\n",
      "Training until validation scores don't improve for 150 rounds\n"
     ]
    },
    {
     "name": "stderr",
     "output_type": "stream",
     "text": [
      "num_leaves, val_score: 0.872569:  50%|#####     | 10/20 [01:47<01:45, 10.58s/it]"
     ]
    },
    {
     "name": "stdout",
     "output_type": "stream",
     "text": [
      "Early stopping, best iteration is:\n",
      "[427]\tvalid_0's auc: 0.888431\tvalid_1's auc: 0.871896\n",
      "Training until validation scores don't improve for 150 rounds\n"
     ]
    },
    {
     "name": "stderr",
     "output_type": "stream",
     "text": [
      "num_leaves, val_score: 0.872569:  55%|#####5    | 11/20 [01:55<01:29,  9.96s/it]"
     ]
    },
    {
     "name": "stdout",
     "output_type": "stream",
     "text": [
      "Early stopping, best iteration is:\n",
      "[648]\tvalid_0's auc: 0.884547\tvalid_1's auc: 0.872399\n",
      "Training until validation scores don't improve for 150 rounds\n"
     ]
    },
    {
     "name": "stderr",
     "output_type": "stream",
     "text": [
      "num_leaves, val_score: 0.872569:  60%|######    | 12/20 [02:03<01:13,  9.16s/it]"
     ]
    },
    {
     "name": "stdout",
     "output_type": "stream",
     "text": [
      "Early stopping, best iteration is:\n",
      "[273]\tvalid_0's auc: 0.890023\tvalid_1's auc: 0.871458\n",
      "Training until validation scores don't improve for 150 rounds\n"
     ]
    },
    {
     "name": "stderr",
     "output_type": "stream",
     "text": [
      "num_leaves, val_score: 0.872569:  65%|######5   | 13/20 [02:11<01:02,  8.95s/it]"
     ]
    },
    {
     "name": "stdout",
     "output_type": "stream",
     "text": [
      "Early stopping, best iteration is:\n",
      "[649]\tvalid_0's auc: 0.883736\tvalid_1's auc: 0.872419\n",
      "Training until validation scores don't improve for 150 rounds\n"
     ]
    },
    {
     "name": "stderr",
     "output_type": "stream",
     "text": [
      "num_leaves, val_score: 0.872569:  70%|#######   | 14/20 [02:12<00:39,  6.67s/it]"
     ]
    },
    {
     "name": "stdout",
     "output_type": "stream",
     "text": [
      "Early stopping, best iteration is:\n",
      "[293]\tvalid_0's auc: 0.848058\tvalid_1's auc: 0.854575\n",
      "Training until validation scores don't improve for 150 rounds\n"
     ]
    },
    {
     "name": "stderr",
     "output_type": "stream",
     "text": [
      "num_leaves, val_score: 0.872569:  75%|#######5  | 15/20 [02:19<00:33,  6.68s/it]"
     ]
    },
    {
     "name": "stdout",
     "output_type": "stream",
     "text": [
      "Early stopping, best iteration is:\n",
      "[428]\tvalid_0's auc: 0.880804\tvalid_1's auc: 0.872309\n",
      "Training until validation scores don't improve for 150 rounds\n"
     ]
    },
    {
     "name": "stderr",
     "output_type": "stream",
     "text": [
      "num_leaves, val_score: 0.872569:  80%|########  | 16/20 [02:26<00:26,  6.62s/it]"
     ]
    },
    {
     "name": "stdout",
     "output_type": "stream",
     "text": [
      "Early stopping, best iteration is:\n",
      "[427]\tvalid_0's auc: 0.879816\tvalid_1's auc: 0.872296\n",
      "Training until validation scores don't improve for 150 rounds\n"
     ]
    },
    {
     "name": "stderr",
     "output_type": "stream",
     "text": [
      "num_leaves, val_score: 0.872569:  85%|########5 | 17/20 [02:34<00:21,  7.06s/it]"
     ]
    },
    {
     "name": "stdout",
     "output_type": "stream",
     "text": [
      "Early stopping, best iteration is:\n",
      "[427]\tvalid_0's auc: 0.888431\tvalid_1's auc: 0.871896\n",
      "Training until validation scores don't improve for 150 rounds\n"
     ]
    },
    {
     "name": "stderr",
     "output_type": "stream",
     "text": [
      "num_leaves, val_score: 0.872569:  90%|######### | 18/20 [02:42<00:14,  7.46s/it]"
     ]
    },
    {
     "name": "stdout",
     "output_type": "stream",
     "text": [
      "Early stopping, best iteration is:\n",
      "[776]\tvalid_0's auc: 0.879234\tvalid_1's auc: 0.872438\n",
      "Training until validation scores don't improve for 150 rounds\n"
     ]
    },
    {
     "name": "stderr",
     "output_type": "stream",
     "text": [
      "num_leaves, val_score: 0.872569:  95%|#########5| 19/20 [02:52<00:08,  8.32s/it]"
     ]
    },
    {
     "name": "stdout",
     "output_type": "stream",
     "text": [
      "Early stopping, best iteration is:\n",
      "[273]\tvalid_0's auc: 0.904286\tvalid_1's auc: 0.870736\n",
      "Training until validation scores don't improve for 150 rounds\n"
     ]
    },
    {
     "name": "stderr",
     "output_type": "stream",
     "text": [
      "num_leaves, val_score: 0.872569: 100%|##########| 20/20 [03:01<00:00,  9.07s/it]\n"
     ]
    },
    {
     "name": "stdout",
     "output_type": "stream",
     "text": [
      "Early stopping, best iteration is:\n",
      "[776]\tvalid_0's auc: 0.880415\tvalid_1's auc: 0.872378\n"
     ]
    },
    {
     "name": "stderr",
     "output_type": "stream",
     "text": [
      "bagging, val_score: 0.872569:   0%|                      | 0/10 [00:00<?, ?it/s]"
     ]
    },
    {
     "name": "stdout",
     "output_type": "stream",
     "text": [
      "Training until validation scores don't improve for 150 rounds\n"
     ]
    },
    {
     "name": "stderr",
     "output_type": "stream",
     "text": [
      "bagging, val_score: 0.872569:  10%|#4            | 1/10 [00:08<01:15,  8.36s/it]"
     ]
    },
    {
     "name": "stdout",
     "output_type": "stream",
     "text": [
      "Early stopping, best iteration is:\n",
      "[883]\tvalid_0's auc: 0.875784\tvalid_1's auc: 0.87221\n",
      "Training until validation scores don't improve for 150 rounds\n"
     ]
    },
    {
     "name": "stderr",
     "output_type": "stream",
     "text": [
      "bagging, val_score: 0.872569:  20%|##8           | 2/10 [00:18<01:15,  9.49s/it]"
     ]
    },
    {
     "name": "stdout",
     "output_type": "stream",
     "text": [
      "Early stopping, best iteration is:\n",
      "[1170]\tvalid_0's auc: 0.878803\tvalid_1's auc: 0.872524\n",
      "Training until validation scores don't improve for 150 rounds\n"
     ]
    },
    {
     "name": "stderr",
     "output_type": "stream",
     "text": [
      "bagging, val_score: 0.872619:  30%|####2         | 3/10 [00:29<01:11, 10.17s/it]"
     ]
    },
    {
     "name": "stdout",
     "output_type": "stream",
     "text": [
      "Early stopping, best iteration is:\n",
      "[1282]\tvalid_0's auc: 0.879823\tvalid_1's auc: 0.872619\n",
      "Training until validation scores don't improve for 150 rounds\n"
     ]
    },
    {
     "name": "stderr",
     "output_type": "stream",
     "text": [
      "bagging, val_score: 0.872619:  40%|#####6        | 4/10 [00:39<00:59,  9.93s/it]"
     ]
    },
    {
     "name": "stdout",
     "output_type": "stream",
     "text": [
      "Early stopping, best iteration is:\n",
      "[1061]\tvalid_0's auc: 0.877561\tvalid_1's auc: 0.872521\n",
      "Training until validation scores don't improve for 150 rounds\n"
     ]
    },
    {
     "name": "stderr",
     "output_type": "stream",
     "text": [
      "bagging, val_score: 0.872619:  50%|#######       | 5/10 [00:50<00:51, 10.38s/it]"
     ]
    },
    {
     "name": "stdout",
     "output_type": "stream",
     "text": [
      "Early stopping, best iteration is:\n",
      "[1239]\tvalid_0's auc: 0.879387\tvalid_1's auc: 0.872553\n",
      "Training until validation scores don't improve for 150 rounds\n"
     ]
    },
    {
     "name": "stderr",
     "output_type": "stream",
     "text": [
      "bagging, val_score: 0.872619:  60%|########4     | 6/10 [00:59<00:40, 10.08s/it]"
     ]
    },
    {
     "name": "stdout",
     "output_type": "stream",
     "text": [
      "Early stopping, best iteration is:\n",
      "[1050]\tvalid_0's auc: 0.877536\tvalid_1's auc: 0.872597\n",
      "Training until validation scores don't improve for 150 rounds\n"
     ]
    },
    {
     "name": "stderr",
     "output_type": "stream",
     "text": [
      "bagging, val_score: 0.872654:  70%|#########7    | 7/10 [01:09<00:29,  9.78s/it]"
     ]
    },
    {
     "name": "stdout",
     "output_type": "stream",
     "text": [
      "Early stopping, best iteration is:\n",
      "[1011]\tvalid_0's auc: 0.87704\tvalid_1's auc: 0.872654\n",
      "Training until validation scores don't improve for 150 rounds\n"
     ]
    },
    {
     "name": "stderr",
     "output_type": "stream",
     "text": [
      "bagging, val_score: 0.872654:  80%|###########2  | 8/10 [01:19<00:19,  9.99s/it]"
     ]
    },
    {
     "name": "stdout",
     "output_type": "stream",
     "text": [
      "Early stopping, best iteration is:\n",
      "[1039]\tvalid_0's auc: 0.877629\tvalid_1's auc: 0.872556\n",
      "Training until validation scores don't improve for 150 rounds\n"
     ]
    },
    {
     "name": "stderr",
     "output_type": "stream",
     "text": [
      "bagging, val_score: 0.872654:  90%|############6 | 9/10 [01:27<00:09,  9.45s/it]"
     ]
    },
    {
     "name": "stdout",
     "output_type": "stream",
     "text": [
      "Early stopping, best iteration is:\n",
      "[784]\tvalid_0's auc: 0.874425\tvalid_1's auc: 0.872441\n",
      "Training until validation scores don't improve for 150 rounds\n"
     ]
    },
    {
     "name": "stderr",
     "output_type": "stream",
     "text": [
      "bagging, val_score: 0.872654: 100%|#############| 10/10 [01:36<00:00,  9.70s/it]\n"
     ]
    },
    {
     "name": "stdout",
     "output_type": "stream",
     "text": [
      "Early stopping, best iteration is:\n",
      "[928]\tvalid_0's auc: 0.875958\tvalid_1's auc: 0.872526\n"
     ]
    },
    {
     "name": "stderr",
     "output_type": "stream",
     "text": [
      "feature_fraction_stage2, val_score: 0.872654:   0%|       | 0/6 [00:00<?, ?it/s]"
     ]
    },
    {
     "name": "stdout",
     "output_type": "stream",
     "text": [
      "Training until validation scores don't improve for 150 rounds\n"
     ]
    },
    {
     "name": "stderr",
     "output_type": "stream",
     "text": [
      "feature_fraction_stage2, val_score: 0.872654:  17%|1| 1/6 [00:09<00:46,  9.25s/i"
     ]
    },
    {
     "name": "stdout",
     "output_type": "stream",
     "text": [
      "Early stopping, best iteration is:\n",
      "[1011]\tvalid_0's auc: 0.87704\tvalid_1's auc: 0.872654\n",
      "Training until validation scores don't improve for 150 rounds\n"
     ]
    },
    {
     "name": "stderr",
     "output_type": "stream",
     "text": [
      "feature_fraction_stage2, val_score: 0.872654:  33%|3| 2/6 [00:26<00:56, 14.21s/i"
     ]
    },
    {
     "name": "stdout",
     "output_type": "stream",
     "text": [
      "Early stopping, best iteration is:\n",
      "[2143]\tvalid_0's auc: 0.883634\tvalid_1's auc: 0.872078\n",
      "Training until validation scores don't improve for 150 rounds\n"
     ]
    },
    {
     "name": "stderr",
     "output_type": "stream",
     "text": [
      "feature_fraction_stage2, val_score: 0.872654:  50%|5| 3/6 [00:36<00:35, 11.96s/i"
     ]
    },
    {
     "name": "stdout",
     "output_type": "stream",
     "text": [
      "Early stopping, best iteration is:\n",
      "[1011]\tvalid_0's auc: 0.87704\tvalid_1's auc: 0.872654\n",
      "Training until validation scores don't improve for 150 rounds\n"
     ]
    },
    {
     "name": "stderr",
     "output_type": "stream",
     "text": [
      "feature_fraction_stage2, val_score: 0.872656:  67%|6| 4/6 [00:45<00:21, 10.97s/i"
     ]
    },
    {
     "name": "stdout",
     "output_type": "stream",
     "text": [
      "Early stopping, best iteration is:\n",
      "[1037]\tvalid_0's auc: 0.878109\tvalid_1's auc: 0.872656\n",
      "Training until validation scores don't improve for 150 rounds\n"
     ]
    },
    {
     "name": "stderr",
     "output_type": "stream",
     "text": [
      "feature_fraction_stage2, val_score: 0.872656:  83%|8| 5/6 [00:54<00:10, 10.30s/i"
     ]
    },
    {
     "name": "stdout",
     "output_type": "stream",
     "text": [
      "Early stopping, best iteration is:\n",
      "[1011]\tvalid_0's auc: 0.87704\tvalid_1's auc: 0.872654\n",
      "Training until validation scores don't improve for 150 rounds\n"
     ]
    },
    {
     "name": "stderr",
     "output_type": "stream",
     "text": [
      "feature_fraction_stage2, val_score: 0.872656: 100%|#| 6/6 [01:04<00:00, 10.67s/i\n"
     ]
    },
    {
     "name": "stdout",
     "output_type": "stream",
     "text": [
      "Early stopping, best iteration is:\n",
      "[1011]\tvalid_0's auc: 0.87704\tvalid_1's auc: 0.872654\n"
     ]
    },
    {
     "name": "stderr",
     "output_type": "stream",
     "text": [
      "regularization_factors, val_score: 0.872656:   0%|       | 0/20 [00:00<?, ?it/s]"
     ]
    },
    {
     "name": "stdout",
     "output_type": "stream",
     "text": [
      "Training until validation scores don't improve for 150 rounds\n"
     ]
    },
    {
     "name": "stderr",
     "output_type": "stream",
     "text": [
      "regularization_factors, val_score: 0.872656:   5%| | 1/20 [00:09<03:02,  9.61s/i"
     ]
    },
    {
     "name": "stdout",
     "output_type": "stream",
     "text": [
      "Early stopping, best iteration is:\n",
      "[1014]\tvalid_0's auc: 0.877685\tvalid_1's auc: 0.872648\n",
      "Training until validation scores don't improve for 150 rounds\n"
     ]
    },
    {
     "name": "stderr",
     "output_type": "stream",
     "text": [
      "regularization_factors, val_score: 0.872656:  10%|1| 2/20 [00:18<02:50,  9.45s/i"
     ]
    },
    {
     "name": "stdout",
     "output_type": "stream",
     "text": [
      "Early stopping, best iteration is:\n",
      "[1037]\tvalid_0's auc: 0.878109\tvalid_1's auc: 0.872656\n",
      "Training until validation scores don't improve for 150 rounds\n"
     ]
    },
    {
     "name": "stderr",
     "output_type": "stream",
     "text": [
      "regularization_factors, val_score: 0.872656:  15%|1| 3/20 [00:28<02:38,  9.32s/i"
     ]
    },
    {
     "name": "stdout",
     "output_type": "stream",
     "text": [
      "Early stopping, best iteration is:\n",
      "[1037]\tvalid_0's auc: 0.878109\tvalid_1's auc: 0.872656\n",
      "Training until validation scores don't improve for 150 rounds\n"
     ]
    },
    {
     "name": "stderr",
     "output_type": "stream",
     "text": [
      "regularization_factors, val_score: 0.872656:  20%|2| 4/20 [00:37<02:28,  9.30s/i"
     ]
    },
    {
     "name": "stdout",
     "output_type": "stream",
     "text": [
      "Early stopping, best iteration is:\n",
      "[1037]\tvalid_0's auc: 0.878109\tvalid_1's auc: 0.872656\n",
      "Training until validation scores don't improve for 150 rounds\n"
     ]
    },
    {
     "name": "stderr",
     "output_type": "stream",
     "text": [
      "regularization_factors, val_score: 0.872656:  25%|2| 5/20 [00:46<02:19,  9.29s/i"
     ]
    },
    {
     "name": "stdout",
     "output_type": "stream",
     "text": [
      "Early stopping, best iteration is:\n",
      "[1037]\tvalid_0's auc: 0.878109\tvalid_1's auc: 0.872656\n",
      "Training until validation scores don't improve for 150 rounds\n"
     ]
    },
    {
     "name": "stderr",
     "output_type": "stream",
     "text": [
      "regularization_factors, val_score: 0.872656:  30%|3| 6/20 [00:56<02:10,  9.31s/i"
     ]
    },
    {
     "name": "stdout",
     "output_type": "stream",
     "text": [
      "Early stopping, best iteration is:\n",
      "[1037]\tvalid_0's auc: 0.878109\tvalid_1's auc: 0.872656\n",
      "Training until validation scores don't improve for 150 rounds\n"
     ]
    },
    {
     "name": "stderr",
     "output_type": "stream",
     "text": [
      "regularization_factors, val_score: 0.872656:  35%|3| 7/20 [01:05<02:01,  9.34s/i"
     ]
    },
    {
     "name": "stdout",
     "output_type": "stream",
     "text": [
      "Early stopping, best iteration is:\n",
      "[1037]\tvalid_0's auc: 0.878109\tvalid_1's auc: 0.872656\n",
      "Training until validation scores don't improve for 150 rounds\n"
     ]
    },
    {
     "name": "stderr",
     "output_type": "stream",
     "text": [
      "regularization_factors, val_score: 0.872656:  40%|4| 8/20 [01:14<01:51,  9.32s/i"
     ]
    },
    {
     "name": "stdout",
     "output_type": "stream",
     "text": [
      "Early stopping, best iteration is:\n",
      "[1037]\tvalid_0's auc: 0.878109\tvalid_1's auc: 0.872656\n",
      "Training until validation scores don't improve for 150 rounds\n"
     ]
    },
    {
     "name": "stderr",
     "output_type": "stream",
     "text": [
      "regularization_factors, val_score: 0.872656:  45%|4| 9/20 [01:24<01:43,  9.39s/i"
     ]
    },
    {
     "name": "stdout",
     "output_type": "stream",
     "text": [
      "Early stopping, best iteration is:\n",
      "[1037]\tvalid_0's auc: 0.878109\tvalid_1's auc: 0.872656\n",
      "Training until validation scores don't improve for 150 rounds\n"
     ]
    },
    {
     "name": "stderr",
     "output_type": "stream",
     "text": [
      "regularization_factors, val_score: 0.872656:  50%|5| 10/20 [01:33<01:33,  9.37s/"
     ]
    },
    {
     "name": "stdout",
     "output_type": "stream",
     "text": [
      "Early stopping, best iteration is:\n",
      "[1037]\tvalid_0's auc: 0.878109\tvalid_1's auc: 0.872656\n",
      "Training until validation scores don't improve for 150 rounds\n"
     ]
    },
    {
     "name": "stderr",
     "output_type": "stream",
     "text": [
      "regularization_factors, val_score: 0.872656:  55%|5| 11/20 [01:42<01:24,  9.35s/"
     ]
    },
    {
     "name": "stdout",
     "output_type": "stream",
     "text": [
      "Early stopping, best iteration is:\n",
      "[1037]\tvalid_0's auc: 0.878109\tvalid_1's auc: 0.872656\n",
      "Training until validation scores don't improve for 150 rounds\n"
     ]
    },
    {
     "name": "stderr",
     "output_type": "stream",
     "text": [
      "regularization_factors, val_score: 0.872656:  60%|6| 12/20 [01:52<01:14,  9.34s/"
     ]
    },
    {
     "name": "stdout",
     "output_type": "stream",
     "text": [
      "Early stopping, best iteration is:\n",
      "[1037]\tvalid_0's auc: 0.878109\tvalid_1's auc: 0.872656\n",
      "Training until validation scores don't improve for 150 rounds\n"
     ]
    },
    {
     "name": "stderr",
     "output_type": "stream",
     "text": [
      "regularization_factors, val_score: 0.872656:  65%|6| 13/20 [02:01<01:05,  9.41s/"
     ]
    },
    {
     "name": "stdout",
     "output_type": "stream",
     "text": [
      "Early stopping, best iteration is:\n",
      "[1037]\tvalid_0's auc: 0.878109\tvalid_1's auc: 0.872656\n",
      "Training until validation scores don't improve for 150 rounds\n"
     ]
    },
    {
     "name": "stderr",
     "output_type": "stream",
     "text": [
      "regularization_factors, val_score: 0.872656:  70%|7| 14/20 [02:11<00:56,  9.44s/"
     ]
    },
    {
     "name": "stdout",
     "output_type": "stream",
     "text": [
      "Early stopping, best iteration is:\n",
      "[1037]\tvalid_0's auc: 0.878109\tvalid_1's auc: 0.872656\n",
      "Training until validation scores don't improve for 150 rounds\n"
     ]
    },
    {
     "name": "stderr",
     "output_type": "stream",
     "text": [
      "regularization_factors, val_score: 0.872656:  75%|7| 15/20 [02:20<00:47,  9.46s/"
     ]
    },
    {
     "name": "stdout",
     "output_type": "stream",
     "text": [
      "Early stopping, best iteration is:\n",
      "[1037]\tvalid_0's auc: 0.878109\tvalid_1's auc: 0.872656\n",
      "Training until validation scores don't improve for 150 rounds\n"
     ]
    },
    {
     "name": "stderr",
     "output_type": "stream",
     "text": [
      "regularization_factors, val_score: 0.872656:  80%|8| 16/20 [02:30<00:37,  9.40s/"
     ]
    },
    {
     "name": "stdout",
     "output_type": "stream",
     "text": [
      "Early stopping, best iteration is:\n",
      "[1037]\tvalid_0's auc: 0.878109\tvalid_1's auc: 0.872656\n",
      "Training until validation scores don't improve for 150 rounds\n"
     ]
    },
    {
     "name": "stderr",
     "output_type": "stream",
     "text": [
      "regularization_factors, val_score: 0.872656:  85%|8| 17/20 [02:39<00:28,  9.46s/"
     ]
    },
    {
     "name": "stdout",
     "output_type": "stream",
     "text": [
      "Early stopping, best iteration is:\n",
      "[1037]\tvalid_0's auc: 0.878109\tvalid_1's auc: 0.872656\n",
      "Training until validation scores don't improve for 150 rounds\n"
     ]
    },
    {
     "name": "stderr",
     "output_type": "stream",
     "text": [
      "regularization_factors, val_score: 0.872656:  90%|9| 18/20 [02:49<00:18,  9.46s/"
     ]
    },
    {
     "name": "stdout",
     "output_type": "stream",
     "text": [
      "Early stopping, best iteration is:\n",
      "[1037]\tvalid_0's auc: 0.878109\tvalid_1's auc: 0.872656\n",
      "Training until validation scores don't improve for 150 rounds\n"
     ]
    },
    {
     "name": "stderr",
     "output_type": "stream",
     "text": [
      "regularization_factors, val_score: 0.872656:  95%|9| 19/20 [02:58<00:09,  9.36s/"
     ]
    },
    {
     "name": "stdout",
     "output_type": "stream",
     "text": [
      "Early stopping, best iteration is:\n",
      "[1037]\tvalid_0's auc: 0.878109\tvalid_1's auc: 0.872656\n",
      "Training until validation scores don't improve for 150 rounds\n"
     ]
    },
    {
     "name": "stderr",
     "output_type": "stream",
     "text": [
      "regularization_factors, val_score: 0.872656: 100%|#| 20/20 [03:07<00:00,  9.38s/\n"
     ]
    },
    {
     "name": "stdout",
     "output_type": "stream",
     "text": [
      "Early stopping, best iteration is:\n",
      "[1037]\tvalid_0's auc: 0.878109\tvalid_1's auc: 0.872656\n"
     ]
    },
    {
     "name": "stderr",
     "output_type": "stream",
     "text": [
      "min_data_in_leaf, val_score: 0.872656:   0%|              | 0/5 [00:00<?, ?it/s]"
     ]
    },
    {
     "name": "stdout",
     "output_type": "stream",
     "text": [
      "Training until validation scores don't improve for 150 rounds\n"
     ]
    },
    {
     "name": "stderr",
     "output_type": "stream",
     "text": [
      "min_data_in_leaf, val_score: 0.872656:  20%|#2    | 1/5 [00:09<00:39,  9.85s/it]"
     ]
    },
    {
     "name": "stdout",
     "output_type": "stream",
     "text": [
      "Early stopping, best iteration is:\n",
      "[1085]\tvalid_0's auc: 0.880248\tvalid_1's auc: 0.872429\n",
      "Training until validation scores don't improve for 150 rounds\n"
     ]
    },
    {
     "name": "stderr",
     "output_type": "stream",
     "text": [
      "min_data_in_leaf, val_score: 0.872656:  40%|##4   | 2/5 [00:19<00:29,  9.70s/it]"
     ]
    },
    {
     "name": "stdout",
     "output_type": "stream",
     "text": [
      "Early stopping, best iteration is:\n",
      "[1040]\tvalid_0's auc: 0.877813\tvalid_1's auc: 0.872557\n",
      "Training until validation scores don't improve for 150 rounds\n"
     ]
    },
    {
     "name": "stderr",
     "output_type": "stream",
     "text": [
      "min_data_in_leaf, val_score: 0.872656:  60%|###6  | 3/5 [00:28<00:18,  9.48s/it]"
     ]
    },
    {
     "name": "stdout",
     "output_type": "stream",
     "text": [
      "Early stopping, best iteration is:\n",
      "[1040]\tvalid_0's auc: 0.878923\tvalid_1's auc: 0.872598\n",
      "Training until validation scores don't improve for 150 rounds\n"
     ]
    },
    {
     "name": "stderr",
     "output_type": "stream",
     "text": [
      "min_data_in_leaf, val_score: 0.872656:  80%|####8 | 4/5 [00:38<00:09,  9.44s/it]"
     ]
    },
    {
     "name": "stdout",
     "output_type": "stream",
     "text": [
      "Early stopping, best iteration is:\n",
      "[1028]\tvalid_0's auc: 0.877129\tvalid_1's auc: 0.872474\n",
      "Training until validation scores don't improve for 150 rounds\n"
     ]
    },
    {
     "name": "stderr",
     "output_type": "stream",
     "text": [
      "min_data_in_leaf, val_score: 0.872656: 100%|######| 5/5 [00:48<00:00,  9.68s/it]"
     ]
    },
    {
     "name": "stdout",
     "output_type": "stream",
     "text": [
      "Early stopping, best iteration is:\n",
      "[1117]\tvalid_0's auc: 0.877538\tvalid_1's auc: 0.8726\n"
     ]
    },
    {
     "name": "stderr",
     "output_type": "stream",
     "text": [
      "\n"
     ]
    },
    {
     "name": "stdout",
     "output_type": "stream",
     "text": [
      "Best params: {'objective': 'binary', 'metric': 'auc', 'verbosity': -1, 'boosting_type': 'gbdt', 'learning_rate': 0.005603627873630697, 'feature_pre_filter': False, 'lambda_l1': 2.1179144447747353e-08, 'lambda_l2': 3.393255954585769e-08, 'num_leaves': 18, 'feature_fraction': 0.58, 'bagging_fraction': 0.9991117695058381, 'bagging_freq': 1, 'min_child_samples': 20, 'num_iterations': 5926}\n",
      "CPU times: user 27min 44s, sys: 3min 47s, total: 31min 31s\n",
      "Wall time: 10min 44s\n"
     ]
    }
   ],
   "source": [
    "%%time\n",
    "dtrain = lgbm.Dataset(train[base_features], label=train[target_column])\n",
    "dval = lgb.Dataset(test[base_features], label=test[target_column])\n",
    "\n",
    "params = {\n",
    "    \"objective\": \"binary\",\n",
    "    \"metric\": \"auc\",\n",
    "    \"verbosity\": -1,\n",
    "    \"boosting_type\": \"gbdt\",\n",
    "    \"n_estimators\":5926,\n",
    "    \"learning_rate\": 0.005603627873630697\n",
    "}\n",
    "\n",
    "bst = lgb.train(\n",
    "    params,\n",
    "    dtrain,\n",
    "    valid_sets=[dtrain, dval],\n",
    "    callbacks=[early_stopping(150)],\n",
    "    show_progress_bar = True\n",
    ")\n",
    "\n",
    "preds = bst.predict(test[base_features],num_iteration=bst.best_iteration)\n",
    "score = roc_auc_score(test[target_column], preds)\n",
    "\n",
    "base_features_best_params = bst.params\n",
    "print(\"Best params:\", base_features_best_params)\n",
    "\n"
   ]
  },
  {
   "cell_type": "code",
   "execution_count": 13,
   "id": "0a1803ee-fe6f-4278-8ea0-c356d63e4d0a",
   "metadata": {},
   "outputs": [
    {
     "data": {
      "text/plain": [
       "{'objective': 'binary',\n",
       " 'metric': 'auc',\n",
       " 'verbosity': -1,\n",
       " 'boosting_type': 'gbdt',\n",
       " 'learning_rate': 0.005603627873630697,\n",
       " 'feature_pre_filter': False,\n",
       " 'lambda_l1': 2.1179144447747353e-08,\n",
       " 'lambda_l2': 3.393255954585769e-08,\n",
       " 'num_leaves': 18,\n",
       " 'feature_fraction': 0.58,\n",
       " 'bagging_fraction': 0.9991117695058381,\n",
       " 'bagging_freq': 1,\n",
       " 'min_child_samples': 20,\n",
       " 'num_iterations': 5926}"
      ]
     },
     "execution_count": 13,
     "metadata": {},
     "output_type": "execute_result"
    }
   ],
   "source": [
    "base_features_best_params"
   ]
  },
  {
   "cell_type": "markdown",
   "id": "f75a68bb-0461-499d-ad54-1257fd25183c",
   "metadata": {},
   "source": [
    "### Model training"
   ]
  },
  {
   "cell_type": "code",
   "execution_count": 17,
   "id": "5ea2cfda-e20a-4315-acb4-385c178ad26e",
   "metadata": {},
   "outputs": [
    {
     "name": "stderr",
     "output_type": "stream",
     "text": [
      "2023-10-08T18:24:30 | INFO | Starting pipeline: Generating 3 k-fold training...\n",
      "2023-10-08T18:24:30 | INFO | Training for fold 1\n",
      "2023-10-08T18:24:58 | INFO | Training for fold 2\n",
      "2023-10-08T18:25:26 | INFO | Training for fold 3\n",
      "2023-10-08T18:25:55 | INFO | CV training finished!\n",
      "2023-10-08T18:25:55 | INFO | Training the model in the full dataset...\n",
      "2023-10-08T18:26:28 | INFO | Training process finished!\n",
      "2023-10-08T18:26:28 | INFO | Calculating metrics...\n",
      "2023-10-08T18:26:28 | INFO | Full process finished in 1.96 minutes.\n",
      "2023-10-08T18:26:28 | INFO | Saving the predict function.\n",
      "2023-10-08T18:26:28 | INFO | Predict function saved.\n"
     ]
    }
   ],
   "source": [
    "fw_logs = model_pipeline(train_df = train_df,\n",
    "                            validation_df = validation_df,\n",
    "                            params = params_fw,\n",
    "                            target_column = target_column,\n",
    "                            features = fw_features,\n",
    "                            cv = 3,\n",
    "                            random_state = 42,\n",
    "                            apply_shap = False,\n",
    "                            save_estimator_path=None\n",
    "                          )"
   ]
  },
  {
   "cell_type": "code",
   "execution_count": 18,
   "id": "c3e6a7b4-d53c-4b37-9559-e90ecd2e13af",
   "metadata": {},
   "outputs": [
    {
     "name": "stderr",
     "output_type": "stream",
     "text": [
      "2023-10-08T18:26:28 | INFO | Starting pipeline: Generating 3 k-fold training...\n",
      "2023-10-08T18:26:28 | INFO | Training for fold 1\n",
      "2023-10-08T18:26:46 | INFO | Training for fold 2\n",
      "2023-10-08T18:27:04 | INFO | Training for fold 3\n",
      "2023-10-08T18:27:22 | INFO | CV training finished!\n",
      "2023-10-08T18:27:22 | INFO | Training the model in the full dataset...\n",
      "2023-10-08T18:27:42 | INFO | Training process finished!\n",
      "2023-10-08T18:27:42 | INFO | Calculating metrics...\n",
      "2023-10-08T18:27:42 | INFO | Full process finished in 1.24 minutes.\n",
      "2023-10-08T18:27:42 | INFO | Saving the predict function.\n",
      "2023-10-08T18:27:42 | INFO | Predict function saved.\n"
     ]
    }
   ],
   "source": [
    "ensemble_logs = model_pipeline(train_df = train_df,\n",
    "                            validation_df = validation_df,\n",
    "                            params = test_params,\n",
    "                            target_column = target_column,\n",
    "                            features = ensemble_features,\n",
    "                            cv = 3,\n",
    "                            random_state = 42,\n",
    "                            apply_shap = False,\n",
    "                            save_estimator_path=None\n",
    "                          )"
   ]
  },
  {
   "cell_type": "code",
   "execution_count": 19,
   "id": "84ffbc5e-fe68-477a-a6a5-d5abf8695066",
   "metadata": {},
   "outputs": [
    {
     "name": "stderr",
     "output_type": "stream",
     "text": [
      "2023-10-08T18:27:43 | INFO | Starting pipeline: Generating 3 k-fold training...\n",
      "2023-10-08T18:27:43 | INFO | Training for fold 1\n",
      "2023-10-08T18:28:21 | INFO | Training for fold 2\n",
      "2023-10-08T18:29:01 | INFO | Training for fold 3\n",
      "2023-10-08T18:29:41 | INFO | CV training finished!\n",
      "2023-10-08T18:29:41 | INFO | Training the model in the full dataset...\n",
      "2023-10-08T18:30:30 | INFO | Training process finished!\n",
      "2023-10-08T18:30:30 | INFO | Calculating metrics...\n",
      "2023-10-08T18:30:30 | INFO | Full process finished in 2.80 minutes.\n",
      "2023-10-08T18:30:30 | INFO | Saving the predict function.\n",
      "2023-10-08T18:30:30 | INFO | Predict function saved.\n"
     ]
    }
   ],
   "source": [
    "all_logs = model_pipeline(train_df = train_df,\n",
    "                            validation_df = validation_df,\n",
    "                            params = params_all,\n",
    "                            target_column = target_column,\n",
    "                            features = all_features_list,\n",
    "                            cv = 3,\n",
    "                            random_state = 42,\n",
    "                            apply_shap = False,\n",
    "                            save_estimator_path=None\n",
    "                          )"
   ]
  },
  {
   "cell_type": "code",
   "execution_count": 20,
   "id": "f8f4b1d5-12a6-4298-9755-d670b0067dba",
   "metadata": {},
   "outputs": [
    {
     "name": "stderr",
     "output_type": "stream",
     "text": [
      "2023-10-08T18:30:30 | INFO | Starting pipeline: Generating 3 k-fold training...\n",
      "2023-10-08T18:30:30 | INFO | Training for fold 1\n",
      "2023-10-08T18:32:08 | INFO | Training for fold 2\n",
      "2023-10-08T18:33:47 | INFO | Training for fold 3\n",
      "2023-10-08T18:35:26 | INFO | CV training finished!\n",
      "2023-10-08T18:35:26 | INFO | Training the model in the full dataset...\n",
      "2023-10-08T18:37:47 | INFO | Training process finished!\n",
      "2023-10-08T18:37:47 | INFO | Calculating metrics...\n",
      "2023-10-08T18:37:47 | INFO | Full process finished in 7.28 minutes.\n",
      "2023-10-08T18:37:47 | INFO | Saving the predict function.\n",
      "2023-10-08T18:37:47 | INFO | Predict function saved.\n"
     ]
    }
   ],
   "source": [
    "boruta_logs = model_pipeline(train_df = train_df,\n",
    "                            validation_df = validation_df,\n",
    "                            params = MODEL_PARAMS,\n",
    "                            target_column = target_column,\n",
    "                            features = boruta_features,\n",
    "                            cv = 3,\n",
    "                            random_state = 42,\n",
    "                            apply_shap = False,\n",
    "                            save_estimator_path=None\n",
    "                          )"
   ]
  },
  {
   "cell_type": "code",
   "execution_count": 22,
   "id": "b569c767-3175-43a8-8558-bc330333fe50",
   "metadata": {},
   "outputs": [
    {
     "name": "stderr",
     "output_type": "stream",
     "text": [
      "2023-10-08T18:41:34 | INFO | Starting pipeline: Generating 3 k-fold training...\n",
      "2023-10-08T18:41:34 | INFO | Training for fold 1\n",
      "2023-10-08T18:41:56 | INFO | Training for fold 2\n",
      "2023-10-08T18:42:17 | INFO | Training for fold 3\n",
      "2023-10-08T18:42:38 | INFO | CV training finished!\n",
      "2023-10-08T18:42:38 | INFO | Training the model in the full dataset...\n",
      "2023-10-08T18:43:04 | INFO | Training process finished!\n",
      "2023-10-08T18:43:04 | INFO | Calculating metrics...\n",
      "2023-10-08T18:43:04 | INFO | Full process finished in 1.49 minutes.\n",
      "2023-10-08T18:43:04 | INFO | Saving the predict function.\n",
      "2023-10-08T18:43:04 | INFO | Predict function saved.\n"
     ]
    }
   ],
   "source": [
    "base_logs = model_pipeline(train_df = train_df,\n",
    "                            validation_df = validation_df,\n",
    "                            params = params_original,\n",
    "                            target_column = target_column,\n",
    "                            features = base_features,\n",
    "                            cv = 3,\n",
    "                            random_state = 42,\n",
    "                            apply_shap = False,\n",
    "                            save_estimator_path=None\n",
    "                          )"
   ]
  },
  {
   "cell_type": "markdown",
   "id": "4a36d36a-5ae6-467f-9484-273689965782",
   "metadata": {},
   "source": [
    "### Model evaluation"
   ]
  },
  {
   "cell_type": "code",
   "execution_count": 23,
   "id": "1ba244fb-4f22-4d4d-81f1-767e8d63acd4",
   "metadata": {},
   "outputs": [
    {
     "data": {
      "text/html": [
       "<div>\n",
       "<style scoped>\n",
       "    .dataframe tbody tr th:only-of-type {\n",
       "        vertical-align: middle;\n",
       "    }\n",
       "\n",
       "    .dataframe tbody tr th {\n",
       "        vertical-align: top;\n",
       "    }\n",
       "\n",
       "    .dataframe thead th {\n",
       "        text-align: right;\n",
       "    }\n",
       "</style>\n",
       "<table border=\"1\" class=\"dataframe\">\n",
       "  <thead>\n",
       "    <tr style=\"text-align: right;\">\n",
       "      <th></th>\n",
       "      <th>out_of_fold</th>\n",
       "      <th>validation</th>\n",
       "    </tr>\n",
       "  </thead>\n",
       "  <tbody>\n",
       "    <tr>\n",
       "      <th>fw [32]</th>\n",
       "      <td>0.863464</td>\n",
       "      <td>0.867463</td>\n",
       "    </tr>\n",
       "    <tr>\n",
       "      <th>boruta [46]</th>\n",
       "      <td>0.864788</td>\n",
       "      <td>0.867128</td>\n",
       "    </tr>\n",
       "    <tr>\n",
       "      <th>all features [115]</th>\n",
       "      <td>0.862991</td>\n",
       "      <td>0.867067</td>\n",
       "    </tr>\n",
       "    <tr>\n",
       "      <th>ensemble [55]</th>\n",
       "      <td>0.862760</td>\n",
       "      <td>0.865526</td>\n",
       "    </tr>\n",
       "    <tr>\n",
       "      <th>base_features [10]</th>\n",
       "      <td>0.864081</td>\n",
       "      <td>0.865510</td>\n",
       "    </tr>\n",
       "  </tbody>\n",
       "</table>\n",
       "</div>"
      ],
      "text/plain": [
       "                    out_of_fold  validation\n",
       "fw [32]                0.863464    0.867463\n",
       "boruta [46]            0.864788    0.867128\n",
       "all features [115]     0.862991    0.867067\n",
       "ensemble [55]          0.862760    0.865526\n",
       "base_features [10]     0.864081    0.865510"
      ]
     },
     "execution_count": 23,
     "metadata": {},
     "output_type": "execute_result"
    }
   ],
   "source": [
    "model_metrics  ={}\n",
    "models = [base_logs, all_logs, fw_logs, boruta_logs, ensemble_logs]\n",
    "names = [\"base_features\", \"all features\", \"fw\", \"boruta\", \"ensemble\"]\n",
    "sizes = [len(base_features),len(all_features_list), len(fw_features), len(boruta_features), len(ensemble_features)]\n",
    "\n",
    "for model, name, size in zip(models, names, sizes):\n",
    "    model_metrics[f\"{name} [{size}]\"] = model[\"metrics\"][\"roc_auc\"]\n",
    "pd.DataFrame(model_metrics).T.sort_values(by = \"validation\", ascending = False)"
   ]
  },
  {
   "cell_type": "code",
   "execution_count": null,
   "id": "0c121695-7d55-41f5-abfa-73425c3d3c22",
   "metadata": {},
   "outputs": [],
   "source": []
  }
 ],
 "metadata": {
  "kernelspec": {
   "display_name": "Python 3 (ipykernel)",
   "language": "python",
   "name": "python3"
  },
  "language_info": {
   "codemirror_mode": {
    "name": "ipython",
    "version": 3
   },
   "file_extension": ".py",
   "mimetype": "text/x-python",
   "name": "python",
   "nbconvert_exporter": "python",
   "pygments_lexer": "ipython3",
   "version": "3.9.16"
  }
 },
 "nbformat": 4,
 "nbformat_minor": 5
}
