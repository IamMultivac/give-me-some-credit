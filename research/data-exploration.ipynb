{
 "cells": [
  {
   "cell_type": "code",
   "execution_count": null,
   "id": "a2d123d0-accb-41e6-a4c9-9b85b2ff45f7",
   "metadata": {},
   "outputs": [],
   "source": []
  },
  {
   "cell_type": "code",
   "execution_count": 1,
   "id": "0503474b-5cec-46f3-a59f-ca99a8355920",
   "metadata": {},
   "outputs": [],
   "source": [
    "%load_ext autoreload\n",
    "%autoreload 2\n",
    "\n",
    "import numpy as np\n",
    "import pandas as pd\n",
    "\n",
    "from functools import reduce\n",
    "\n",
    "import sys\n",
    "sys.path.append(\"../\")\n",
    "\n",
    "# local imports\n"
   ]
  },
  {
   "cell_type": "code",
   "execution_count": 4,
   "id": "a296ce22-e986-4abe-9031-787bb4efc653",
   "metadata": {},
   "outputs": [],
   "source": [
    "train_df = pd.read_csv(\"../data/cs-training.csv\").drop(\"Unnamed: 0\", axis = 1)"
   ]
  },
  {
   "cell_type": "code",
   "execution_count": 6,
   "id": "5a785f98-237f-4270-a0b1-80ddb60dc9db",
   "metadata": {},
   "outputs": [
    {
     "name": "stdout",
     "output_type": "stream",
     "text": [
      "<class 'pandas.core.frame.DataFrame'>\n",
      "RangeIndex: 150000 entries, 0 to 149999\n",
      "Data columns (total 11 columns):\n",
      " #   Column                                Non-Null Count   Dtype  \n",
      "---  ------                                --------------   -----  \n",
      " 0   SeriousDlqin2yrs                      150000 non-null  int64  \n",
      " 1   RevolvingUtilizationOfUnsecuredLines  150000 non-null  float64\n",
      " 2   age                                   150000 non-null  int64  \n",
      " 3   NumberOfTime30-59DaysPastDueNotWorse  150000 non-null  int64  \n",
      " 4   DebtRatio                             150000 non-null  float64\n",
      " 5   MonthlyIncome                         120269 non-null  float64\n",
      " 6   NumberOfOpenCreditLinesAndLoans       150000 non-null  int64  \n",
      " 7   NumberOfTimes90DaysLate               150000 non-null  int64  \n",
      " 8   NumberRealEstateLoansOrLines          150000 non-null  int64  \n",
      " 9   NumberOfTime60-89DaysPastDueNotWorse  150000 non-null  int64  \n",
      " 10  NumberOfDependents                    146076 non-null  float64\n",
      "dtypes: float64(4), int64(7)\n",
      "memory usage: 12.6 MB\n"
     ]
    }
   ],
   "source": [
    "train_df.info()"
   ]
  },
  {
   "cell_type": "code",
   "execution_count": null,
   "id": "f680d7fd-0eb0-4b76-8b4e-d364f247d887",
   "metadata": {},
   "outputs": [],
   "source": []
  },
  {
   "cell_type": "code",
   "execution_count": null,
   "id": "a13d1d39-6784-4358-ac4c-301598020bd8",
   "metadata": {},
   "outputs": [],
   "source": [
    "delinquency_columns = [\n",
    " 'NumberOfTime30-59DaysPastDueNotWorse',\n",
    " 'NumberOfTime60-89DaysPastDueNotWorse',\n",
    " 'NumberOfTimes90DaysLate']\n",
    "\n",
    "\n",
    "train_df.loc[:,\"SumTotalTimesPastDue\"] = train_df[delinquency_columns].sum(axis = 1)\n",
    "train_df.loc[:,\"MeanTotalTimesPastDue\"] = train_df[delinquency_columns].mean(axis = 1)\n",
    "train_df.loc[:,\"StdTotalTimesPastDue\"] = train_df[delinquency_columns].std(axis = 1)\n",
    "train_df.loc[:,\"MaxTotalTimesPastDue\"] = train_df[delinquency_columns].max(axis = 1)\n",
    "train_df.loc[:,\"MinTotalTimesPastDue\"] = train_df[delinquency_columns].min(axis = 1)\n",
    "\n",
    "train_df.loc[:,\"PercentageNumberTimes30to59PastDue\"] = (train_df[\"NumberOfTime30-59DaysPastDueNotWorse\"]/\n",
    "                                                             train_df[\"SumTotalTimesPastDue\"]\n",
    "                                         )\n",
    "train_df.loc[:,\"PercentageNumberTimes60to89PastDue\"] = (train_df[\"NumberOfTime60-89DaysPastDueNotWorse\"]/\n",
    "                                                             train_df[\"SumTotalTimesPastDue\"]\n",
    "                                         )\n",
    "train_df.loc[:,\"PercentageNumberTimes90plusPastDue\"] = (train_df[\"NumberOfTimes90DaysLate\"]/\n",
    "                                                             train_df[\"SumTotalTimesPastDue\"]\n",
    "                                         )\n",
    "\n",
    "train_df.loc[:,\"LogDifference30to5960to89\"] = np.log(train_df[\"NumberOfTime30-59DaysPastDueNotWorse\"]) - np.log(train_df[\"NumberOfTime60-89DaysPastDueNotWorse\"])\n",
    "train_df.loc[:,\"LogDifference60to8990plus\"] = np.log(train_df[\"NumberOfTime60-89DaysPastDueNotWorse\"]) - np.log(train_df[\"NumberOfTimes90DaysLate\"])\n",
    "\n",
    "\n",
    "train_df['IncomePerCreditLineLoan'] = train_df['MonthlyIncome'] / train_df['NumberOfOpenCreditLinesAndLoans']\n",
    "train_df['IncomePerRealEstateLoan'] = train_df['MonthlyIncome'] / train_df['NumberRealEstateLoansOrLines']\n",
    "train_df['IncomePerDependent'] = train_df['MonthlyIncome'] / train_df['NumberOfDependents']\n",
    "train_df['IncomePerAge'] = train_df['MonthlyIncome'] / train_df['age']\n",
    "train_df['DependentsPerAge'] = train_df['NumberOfDependents'] / train_df['age']\n",
    "train_df['RealEstateLoansPerCreditLineLoan'] = train_df['NumberRealEstateLoansOrLines'] / train_df['NumberOfOpenCreditLinesAndLoans']\n",
    "train_df['UtilizationTimesCreditLineLoan'] = train_df['RevolvingUtilizationOfUnsecuredLines'] * train_df['NumberOfOpenCreditLinesAndLoans']\n",
    "train_df['IncomeTimesUtilization'] = train_df['MonthlyIncome'] * train_df['RevolvingUtilizationOfUnsecuredLines']\n",
    "train_df['UtilizationOverDebtRatio'] = train_df['RevolvingUtilizationOfUnsecuredLines'] / train_df['DebtRatio']\n",
    "train_df['IncomeOverDebtRatio'] = train_df['MonthlyIncome'] / train_df['DebtRatio']\n",
    "train_df['SumTotalTimesPastDuePerCreditLineLoan'] =  train_df['NumberOfOpenCreditLinesAndLoans']/train_df['SumTotalTimesPastDue']"
   ]
  },
  {
   "cell_type": "code",
   "execution_count": 41,
   "id": "380fec2c-d348-459e-ad9f-830488e9bbe0",
   "metadata": {},
   "outputs": [
    {
     "name": "stdout",
     "output_type": "stream",
     "text": [
      "The autoreload extension is already loaded. To reload it, use:\n",
      "  %reload_ext autoreload\n"
     ]
    }
   ],
   "source": [
    "%load_ext autoreload\n",
    "%autoreload 2\n",
    "\n",
    "pd.set_option(\"display.max_columns\",None)\n",
    "\n",
    "from preprocess.features.make_features import main\n",
    "\n",
    "train_df = pd.read_csv(\"../data/cs-training.csv\").drop(\"Unnamed: 0\",axis = 1)\n",
    "test_df = pd.read_csv(\"../data/cs-test.csv\").drop(\"Unnamed: 0\",axis = 1)"
   ]
  },
  {
   "cell_type": "code",
   "execution_count": null,
   "id": "d97fe77d-aeba-4d47-94f9-b24ab57fc168",
   "metadata": {},
   "outputs": [],
   "source": [
    " _, bins = pd.qcut(train_df[socio], q=10, labels=False, retbins=True, duplicates = \"drop\")\n",
    " _mapa = dict(train_df.groupby(bins)[credit].agg(agg_fn))\n",
    " train_df.loc[:,f\"CategoryEncoded_{socio}_{agg_fn}_{credit}\"]= pd.cut(train_df[socio], bins=bins, labels=False).map(_mapa)\n",
    " test_df.loc[:,f\"CategoryEncoded_{socio}_{agg_fn}_{credit}\"] = pd.cut(test_df[socio], bins=bins, labels=False).map(_mapa)"
   ]
  },
  {
   "cell_type": "code",
   "execution_count": 51,
   "id": "b09d8f6a-867d-4a5c-b178-5ff5c557d39b",
   "metadata": {},
   "outputs": [],
   "source": [
    "cuts, bins = pd.qcut(train_df[\"age\"], q=10, labels=False,retbins=True, duplicates = \"drop\")"
   ]
  },
  {
   "cell_type": "code",
   "execution_count": 52,
   "id": "5108d2ab-20bd-4286-b0b2-e00463530797",
   "metadata": {},
   "outputs": [],
   "source": [
    "_mapa =dict(train_df.groupby(cuts)[\"NumberOfOpenCreditLinesAndLoans\"].agg(\"mean\"))"
   ]
  },
  {
   "cell_type": "code",
   "execution_count": 54,
   "id": "3e4d9f4b-8f44-4edb-83fd-3b07844dc161",
   "metadata": {},
   "outputs": [
    {
     "data": {
      "text/plain": [
       "0         3.0\n",
       "1         2.0\n",
       "2         1.0\n",
       "3         0.0\n",
       "4         4.0\n",
       "         ... \n",
       "149995    9.0\n",
       "149996    2.0\n",
       "149997    6.0\n",
       "149998    0.0\n",
       "149999    7.0\n",
       "Name: age, Length: 150000, dtype: float64"
      ]
     },
     "execution_count": 54,
     "metadata": {},
     "output_type": "execute_result"
    }
   ],
   "source": [
    "pd.cut(train_df[\"age\"], bins=bins, labels=False).map(_mapa)"
   ]
  },
  {
   "cell_type": "code",
   "execution_count": 36,
   "id": "95785209-1604-4dac-a954-2c60517cdd44",
   "metadata": {},
   "outputs": [
    {
     "data": {
      "text/plain": [
       "-2.6390573296152584"
      ]
     },
     "execution_count": 36,
     "metadata": {},
     "output_type": "execute_result"
    }
   ],
   "source": [
    "df.min().min()"
   ]
  },
  {
   "cell_type": "code",
   "execution_count": null,
   "id": "cbae1ba3-194f-4b65-b198-39b0544ef86a",
   "metadata": {},
   "outputs": [],
   "source": []
  }
 ],
 "metadata": {
  "kernelspec": {
   "display_name": "Python 3 (ipykernel)",
   "language": "python",
   "name": "python3"
  },
  "language_info": {
   "codemirror_mode": {
    "name": "ipython",
    "version": 3
   },
   "file_extension": ".py",
   "mimetype": "text/x-python",
   "name": "python",
   "nbconvert_exporter": "python",
   "pygments_lexer": "ipython3",
   "version": "3.9.16"
  }
 },
 "nbformat": 4,
 "nbformat_minor": 5
}
